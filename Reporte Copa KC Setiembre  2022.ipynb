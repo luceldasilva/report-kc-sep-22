{
 "cells": [
  {
   "cell_type": "markdown",
   "id": "de013fa0-91ad-4e8c-b493-9e7cfc6c8df4",
   "metadata": {
    "tags": []
   },
   "source": [
    "# Reporte de Copa KC Setiembre 2022\n",
    "\n",
    ">Reporte de Mazos de la comunidad LATAM usados en la primera fase de la KC Cup en YuGiOh! Duel Links\n",
    "\n",
    "![](https://s3.duellinksmeta.com/img/legacy-articles/content/tournaments/kc-cup/09/thumbnail-temp.jpg)\n"
   ]
  },
  {
   "cell_type": "markdown",
   "id": "4bb1c6ba-d5dd-4055-9d2f-84ae5f0bca20",
   "metadata": {
    "tags": []
   },
   "source": [
    "## Un poco de contexto\n",
    "---\n",
    "[Yu-Gi-Oh! Duel Links](https://www.konami.com/yugioh/duel_links/en/) es un videojuego de cartas coleccionables digital con mecánica free-to-play con microtransacciones desarrollado por Konami para Windows descargable con Steam, iOS y Android. Primero se lanza en Japón el 17 de noviembre de 2016 y se libera a nivel mundial el 11 de enero de 2017.\n",
    "En el lore del juego, Seto Kaiba a través de su corporación crea una realidad virtual llamada \"Duel World\" para reunir a los mejores duelistas para que puedan competir donde a lo largo del tiempo acompañan los personajes de las diferentes sagas y spin-offs.\n",
    "\n",
    "Por medio de ello realiza cada cierto tiempo la copa Kaiba Corporation para demostrar quien es el mejor duelista del planeta.\n",
    "\n",
    "\n",
    "![](http://pa1.narvii.com/6911/6ae48b510a713f089f643bd060e681f37891bc52r1-540-540_00.gif)\n",
    "\n",
    "\n",
    "Es un sistema de ranking que consta de 2 fases, en resumen la fase 1 recompensa gemas que son la moneda del juego y en la fase 2 da premio al 1er lugar para clasificar al mundial de yugioh pero no recompensa gemas. Por lo que la comunidad normalmente prioriza la fase 1 que te da recursos para la cuenta.\n"
   ]
  },
  {
   "cell_type": "markdown",
   "id": "870e1a4f-dbcc-48b3-8531-c66715c7446c",
   "metadata": {},
   "source": [
    "## Conociendo los datos\n",
    "\n",
    "**1.  id**\n",
    "registro único para identificar usuario.\n",
    "\n",
    "**2.  usuario**\n",
    "Es el jugador, en la base de datos es único y no deja reportar si jugó en varias cuentas, es criterio de exclusión de la base de datos si se reporta que jugó varias cuentas/decks.\n",
    "\n",
    "**3.  deck**\n",
    "Arquetipo usado.\n",
    "\n",
    "**4.  skill**\n",
    "Habilidad usada en el deck.\n",
    "\n",
    "**5.  wins**\n",
    "Total de victorias conseguidas en el mes reportado hasta el momento que llegó al ndmax, por eventos separados el juego no contabiliza.\n",
    "\n",
    "**6.  ndmax**\n",
    "Fecha que llegó al rango máximo.\n",
    "\n",
    "**7.  Los booleanos**\n",
    "Comprueba si el usuario compartió su deck en qué server en concreto.   \n",
    "    - zerotg  = [ZeroTG](https://www.youtube.com/c/ZeroTG)   \n",
    "    - zephra  = [ZephraCarl](https://www.youtube.com/c/ZephraCarl)   \n",
    "    - bryan  = [Bryan Norén](https://www.youtube.com/c/BryanNorén)   \n",
    "    - xenoblur  = [Xenoblur](https://www.youtube.com/c/XenoBlur)"
   ]
  },
  {
   "cell_type": "markdown",
   "id": "02e924bf-91a5-47c9-bd7f-7f271ba13c68",
   "metadata": {
    "tags": []
   },
   "source": [
    "## Pre-procesamiento de datos\n",
    "---\n",
    "\n",
    "Un poco de spam de código, **cargando datos...**\n",
    "\n",
    "![](https://media.giphy.com/media/EXnmWXYei4pcMxkh8o/giphy.gif)"
   ]
  },
  {
   "cell_type": "code",
   "execution_count": 1,
   "id": "107eaf42-2f7b-49ea-89cd-0fe044681a4f",
   "metadata": {},
   "outputs": [],
   "source": [
    "# Poniendo las librerías\n",
    "from os.path import abspath\n",
    "from pathlib import Path\n",
    "import decouple\n",
    "from datetime import datetime\n",
    "import logging\n",
    "import os\n",
    "import pyprojroot\n",
    "import requests as req\n",
    "from sqlalchemy import create_engine as ce\n",
    "import numpy as np\n",
    "import pandas as pd\n",
    "import matplotlib.pyplot as plt\n",
    "import seaborn as sns\n",
    "import session_info"
   ]
  },
  {
   "cell_type": "code",
   "execution_count": 2,
   "id": "16408a65-557a-4a48-a4fd-f825316631f4",
   "metadata": {},
   "outputs": [],
   "source": [
    "logging.basicConfig(\n",
    "    format = '%(message)s', \n",
    "    level=logging.DEBUG,  \n",
    "    encoding=\"utf-8\"\n",
    "    )"
   ]
  },
  {
   "cell_type": "code",
   "execution_count": 3,
   "id": "fa0cec9d-32ad-49b5-94b6-5a9933dd37ad",
   "metadata": {},
   "outputs": [],
   "source": [
    "now = datetime.now()\n",
    "today = now.strftime('%d-%m-%Y')"
   ]
  },
  {
   "cell_type": "code",
   "execution_count": 4,
   "id": "4ac3e815-a93f-496b-92f8-1f2d93e0b1e6",
   "metadata": {},
   "outputs": [],
   "source": [
    "config = decouple.AutoConfig(' ')"
   ]
  },
  {
   "cell_type": "code",
   "execution_count": 5,
   "id": "5947f7b1-615a-402a-9438-0885f278c13b",
   "metadata": {
    "tags": []
   },
   "outputs": [
    {
     "name": "stderr",
     "output_type": "stream",
     "text": [
      "Conexión exitosa.\n"
     ]
    }
   ],
   "source": [
    "pg_engine = ce(config('engine_psql'))\n",
    "logging.info(\"Conexión exitosa.\")"
   ]
  },
  {
   "cell_type": "code",
   "execution_count": 6,
   "id": "88f00aac-e034-446f-aaee-e71a033231ee",
   "metadata": {},
   "outputs": [
    {
     "name": "stderr",
     "output_type": "stream",
     "text": [
      "Versión del servidor de PostgreSQL: ('PostgreSQL 13.8, compiled by Visual C++ build 1914, 64-bit',)\n"
     ]
    }
   ],
   "source": [
    "connection = pg_engine.raw_connection()\n",
    "cursor = connection.cursor()\n",
    "cursor.execute(\"SELECT version()\")\n",
    "row = cursor.fetchone()\n",
    "logging.info(\"Versión del servidor de PostgreSQL: {}\".format(row))"
   ]
  },
  {
   "cell_type": "code",
   "execution_count": 7,
   "id": "9bab07af-650a-4974-ad07-d50d03995191",
   "metadata": {},
   "outputs": [
    {
     "name": "stderr",
     "output_type": "stream",
     "text": [
      "Tabla creada\n"
     ]
    }
   ],
   "source": [
    "with open(str(abspath('table_create.sql')), 'r', encoding='utf-8') as myfile:\n",
    "            tc = myfile.read()\n",
    "            cursor.execute(tc)\n",
    "            logging.info(\"Tabla creada\")"
   ]
  },
  {
   "cell_type": "code",
   "execution_count": 8,
   "id": "e267bc96-e18f-4637-9e8c-2a6a81a74843",
   "metadata": {},
   "outputs": [
    {
     "name": "stderr",
     "output_type": "stream",
     "text": [
      "Registros insertados hasta el 19-09-2022\n"
     ]
    }
   ],
   "source": [
    "files = Path(str(pyprojroot.here('report-days-sql'))).glob(\"*.sql\")\n",
    "for line in files:\n",
    "        with open(line, 'r', encoding='utf-8') as insert_into:\n",
    "            report_day = insert_into.read()\n",
    "            cursor.execute(report_day)\n",
    "            connection.commit()\n",
    "logging.info(f'Registros insertados hasta el {str(today)}')"
   ]
  },
  {
   "cell_type": "markdown",
   "id": "2754b037-cbc9-4f94-b9c0-1ccd6e5d72f9",
   "metadata": {},
   "source": [
    "**Base de datos cargada**\n",
    "\n",
    "![](https://media.giphy.com/media/zBlVtzQrpCU4OtSJb4/giphy.gif)"
   ]
  },
  {
   "cell_type": "markdown",
   "id": "e8ddd5a1-a1f5-4702-a728-932157a71d99",
   "metadata": {
    "tags": []
   },
   "source": [
    "### Conteo de observaciones y variables"
   ]
  },
  {
   "cell_type": "code",
   "execution_count": 9,
   "id": "ef0fd4f5-2621-4291-ac42-74e08cfdda92",
   "metadata": {},
   "outputs": [
    {
     "name": "stderr",
     "output_type": "stream",
     "text": [
      "En total hay 362 usuarios registrados\n"
     ]
    }
   ],
   "source": [
    "df = pd.read_sql(\"kcsep22\", pg_engine)\n",
    "logging.info(f'En total hay {df.shape[0]} usuarios registrados')"
   ]
  },
  {
   "cell_type": "markdown",
   "id": "0278e38d-9f11-4252-9e1f-25beec0639ae",
   "metadata": {},
   "source": [
    "```python\n",
    "# Mostrando tabla\n",
    "df\n",
    "```"
   ]
  },
  {
   "cell_type": "code",
   "execution_count": 10,
   "id": "8bb19cd2-12a9-4de8-9b0b-a134c34b1925",
   "metadata": {},
   "outputs": [
    {
     "data": {
      "text/html": [
       "<div>\n",
       "<style scoped>\n",
       "    .dataframe tbody tr th:only-of-type {\n",
       "        vertical-align: middle;\n",
       "    }\n",
       "\n",
       "    .dataframe tbody tr th {\n",
       "        vertical-align: top;\n",
       "    }\n",
       "\n",
       "    .dataframe thead th {\n",
       "        text-align: right;\n",
       "    }\n",
       "</style>\n",
       "<table border=\"1\" class=\"dataframe\">\n",
       "  <thead>\n",
       "    <tr style=\"text-align: right;\">\n",
       "      <th></th>\n",
       "      <th>id</th>\n",
       "      <th>usuario</th>\n",
       "      <th>deck</th>\n",
       "      <th>skill</th>\n",
       "      <th>wins</th>\n",
       "      <th>ndmax</th>\n",
       "      <th>zerotg</th>\n",
       "      <th>zephra</th>\n",
       "      <th>bryan</th>\n",
       "      <th>xenoblur</th>\n",
       "    </tr>\n",
       "  </thead>\n",
       "  <tbody>\n",
       "    <tr>\n",
       "      <th>0</th>\n",
       "      <td>1</td>\n",
       "      <td>0953</td>\n",
       "      <td>Tech Genus</td>\n",
       "      <td>Control de Vuelo</td>\n",
       "      <td>62.0</td>\n",
       "      <td>2022-09-06</td>\n",
       "      <td>True</td>\n",
       "      <td>False</td>\n",
       "      <td>False</td>\n",
       "      <td>False</td>\n",
       "    </tr>\n",
       "    <tr>\n",
       "      <th>1</th>\n",
       "      <td>2</td>\n",
       "      <td>0986</td>\n",
       "      <td>Rose Dragon</td>\n",
       "      <td>Conjuro de Rosas</td>\n",
       "      <td>102.0</td>\n",
       "      <td>2022-09-06</td>\n",
       "      <td>True</td>\n",
       "      <td>False</td>\n",
       "      <td>False</td>\n",
       "      <td>False</td>\n",
       "    </tr>\n",
       "    <tr>\n",
       "      <th>2</th>\n",
       "      <td>4</td>\n",
       "      <td>6100</td>\n",
       "      <td>Rose Dragon</td>\n",
       "      <td>Conjuro de Rosas</td>\n",
       "      <td>45.0</td>\n",
       "      <td>2022-09-06</td>\n",
       "      <td>True</td>\n",
       "      <td>False</td>\n",
       "      <td>False</td>\n",
       "      <td>False</td>\n",
       "    </tr>\n",
       "    <tr>\n",
       "      <th>3</th>\n",
       "      <td>5</td>\n",
       "      <td>4074</td>\n",
       "      <td>Elemental Heros</td>\n",
       "      <td>Duelo Favorito</td>\n",
       "      <td>163.0</td>\n",
       "      <td>2022-09-06</td>\n",
       "      <td>True</td>\n",
       "      <td>False</td>\n",
       "      <td>False</td>\n",
       "      <td>False</td>\n",
       "    </tr>\n",
       "    <tr>\n",
       "      <th>4</th>\n",
       "      <td>8</td>\n",
       "      <td>4162</td>\n",
       "      <td>Meklord</td>\n",
       "      <td>Refinamiento Meklord</td>\n",
       "      <td>92.0</td>\n",
       "      <td>2022-09-07</td>\n",
       "      <td>True</td>\n",
       "      <td>False</td>\n",
       "      <td>False</td>\n",
       "      <td>False</td>\n",
       "    </tr>\n",
       "    <tr>\n",
       "      <th>...</th>\n",
       "      <td>...</td>\n",
       "      <td>...</td>\n",
       "      <td>...</td>\n",
       "      <td>...</td>\n",
       "      <td>...</td>\n",
       "      <td>...</td>\n",
       "      <td>...</td>\n",
       "      <td>...</td>\n",
       "      <td>...</td>\n",
       "      <td>...</td>\n",
       "    </tr>\n",
       "    <tr>\n",
       "      <th>357</th>\n",
       "      <td>368</td>\n",
       "      <td>9193</td>\n",
       "      <td>Galaxy-Eyes</td>\n",
       "      <td>Galaxia XYZ</td>\n",
       "      <td>87.0</td>\n",
       "      <td>2022-09-18</td>\n",
       "      <td>False</td>\n",
       "      <td>False</td>\n",
       "      <td>False</td>\n",
       "      <td>True</td>\n",
       "    </tr>\n",
       "    <tr>\n",
       "      <th>358</th>\n",
       "      <td>369</td>\n",
       "      <td>9338</td>\n",
       "      <td>Deskbots</td>\n",
       "      <td>Pasa a la acción Invocación por Péndulo</td>\n",
       "      <td>NaN</td>\n",
       "      <td>2022-09-18</td>\n",
       "      <td>False</td>\n",
       "      <td>False</td>\n",
       "      <td>False</td>\n",
       "      <td>True</td>\n",
       "    </tr>\n",
       "    <tr>\n",
       "      <th>359</th>\n",
       "      <td>345</td>\n",
       "      <td>1737</td>\n",
       "      <td>Railway</td>\n",
       "      <td>Tren Imparable</td>\n",
       "      <td>NaN</td>\n",
       "      <td>2022-09-18</td>\n",
       "      <td>True</td>\n",
       "      <td>True</td>\n",
       "      <td>False</td>\n",
       "      <td>False</td>\n",
       "    </tr>\n",
       "    <tr>\n",
       "      <th>360</th>\n",
       "      <td>356</td>\n",
       "      <td>0731</td>\n",
       "      <td>Elemental Heros</td>\n",
       "      <td>Duelo Favorito</td>\n",
       "      <td>61.0</td>\n",
       "      <td>2022-09-18</td>\n",
       "      <td>False</td>\n",
       "      <td>True</td>\n",
       "      <td>False</td>\n",
       "      <td>False</td>\n",
       "    </tr>\n",
       "    <tr>\n",
       "      <th>361</th>\n",
       "      <td>358</td>\n",
       "      <td>1246</td>\n",
       "      <td>Qliphort</td>\n",
       "      <td>Mundo Sonriente</td>\n",
       "      <td>NaN</td>\n",
       "      <td>2022-09-18</td>\n",
       "      <td>False</td>\n",
       "      <td>True</td>\n",
       "      <td>False</td>\n",
       "      <td>False</td>\n",
       "    </tr>\n",
       "  </tbody>\n",
       "</table>\n",
       "<p>362 rows × 10 columns</p>\n",
       "</div>"
      ],
      "text/plain": [
       "      id usuario             deck                                    skill  \\\n",
       "0      1    0953       Tech Genus                         Control de Vuelo   \n",
       "1      2    0986      Rose Dragon                         Conjuro de Rosas   \n",
       "2      4    6100      Rose Dragon                         Conjuro de Rosas   \n",
       "3      5    4074  Elemental Heros                           Duelo Favorito   \n",
       "4      8    4162          Meklord                     Refinamiento Meklord   \n",
       "..   ...     ...              ...                                      ...   \n",
       "357  368    9193      Galaxy-Eyes                              Galaxia XYZ   \n",
       "358  369    9338         Deskbots  Pasa a la acción Invocación por Péndulo   \n",
       "359  345    1737          Railway                           Tren Imparable   \n",
       "360  356    0731  Elemental Heros                           Duelo Favorito   \n",
       "361  358    1246         Qliphort                          Mundo Sonriente   \n",
       "\n",
       "      wins      ndmax  zerotg  zephra  bryan  xenoblur  \n",
       "0     62.0 2022-09-06    True   False  False     False  \n",
       "1    102.0 2022-09-06    True   False  False     False  \n",
       "2     45.0 2022-09-06    True   False  False     False  \n",
       "3    163.0 2022-09-06    True   False  False     False  \n",
       "4     92.0 2022-09-07    True   False  False     False  \n",
       "..     ...        ...     ...     ...    ...       ...  \n",
       "357   87.0 2022-09-18   False   False  False      True  \n",
       "358    NaN 2022-09-18   False   False  False      True  \n",
       "359    NaN 2022-09-18    True    True  False     False  \n",
       "360   61.0 2022-09-18   False    True  False     False  \n",
       "361    NaN 2022-09-18   False    True  False     False  \n",
       "\n",
       "[362 rows x 10 columns]"
      ]
     },
     "execution_count": 10,
     "metadata": {},
     "output_type": "execute_result"
    }
   ],
   "source": [
    "df"
   ]
  },
  {
   "cell_type": "markdown",
   "id": "f0e9c591-a256-4174-831f-755825f82c60",
   "metadata": {
    "tags": []
   },
   "source": [
    "## Visualización de los datos"
   ]
  },
  {
   "cell_type": "markdown",
   "id": "bec08fdd-cdfc-4af2-b980-fc8bf1247a63",
   "metadata": {
    "tags": []
   },
   "source": [
    "### Registro de la comunidad"
   ]
  },
  {
   "cell_type": "code",
   "execution_count": 11,
   "id": "8672645c-932b-4a48-a6fd-d0e4ad1e3291",
   "metadata": {},
   "outputs": [],
   "source": [
    "servers = ['zerotg', 'zephra', 'bryan', 'xenoblur']"
   ]
  },
  {
   "cell_type": "code",
   "execution_count": 12,
   "id": "998e0aec-5172-47e3-8fab-601a68a1270a",
   "metadata": {},
   "outputs": [
    {
     "name": "stderr",
     "output_type": "stream",
     "text": [
      "Tabla de cuántos usuarios reportaron sus ndmax a los servers\n"
     ]
    },
    {
     "data": {
      "text/html": [
       "<div>\n",
       "<style scoped>\n",
       "    .dataframe tbody tr th:only-of-type {\n",
       "        vertical-align: middle;\n",
       "    }\n",
       "\n",
       "    .dataframe tbody tr th {\n",
       "        vertical-align: top;\n",
       "    }\n",
       "\n",
       "    .dataframe thead th {\n",
       "        text-align: right;\n",
       "    }\n",
       "</style>\n",
       "<table border=\"1\" class=\"dataframe\">\n",
       "  <thead>\n",
       "    <tr style=\"text-align: right;\">\n",
       "      <th></th>\n",
       "      <th>Servers</th>\n",
       "      <th>Total</th>\n",
       "    </tr>\n",
       "  </thead>\n",
       "  <tbody>\n",
       "    <tr>\n",
       "      <th>0</th>\n",
       "      <td>zerotg</td>\n",
       "      <td>187</td>\n",
       "    </tr>\n",
       "    <tr>\n",
       "      <th>1</th>\n",
       "      <td>zephra</td>\n",
       "      <td>112</td>\n",
       "    </tr>\n",
       "    <tr>\n",
       "      <th>2</th>\n",
       "      <td>bryan</td>\n",
       "      <td>111</td>\n",
       "    </tr>\n",
       "    <tr>\n",
       "      <th>3</th>\n",
       "      <td>xenoblur</td>\n",
       "      <td>61</td>\n",
       "    </tr>\n",
       "  </tbody>\n",
       "</table>\n",
       "</div>"
      ],
      "text/plain": [
       "    Servers  Total\n",
       "0    zerotg    187\n",
       "1    zephra    112\n",
       "2     bryan    111\n",
       "3  xenoblur     61"
      ]
     },
     "execution_count": 12,
     "metadata": {},
     "output_type": "execute_result"
    }
   ],
   "source": [
    "logging.info('Tabla de cuántos usuarios reportaron sus ndmax a los servers')\n",
    "cantidad = [int(df.zerotg.sum()), int(df.zephra.sum()), int(df.bryan.sum()), int(df.xenoblur.sum())]\n",
    "for i in servers:\n",
    "    df[i] = df[i].apply(lambda x: int(x))\n",
    "\n",
    "comunidad = (\n",
    "    pd.DataFrame(list(zip(servers, cantidad)), \n",
    "                 columns = ['Servers', 'Total'])\n",
    "    .sort_values('Total', ascending=0)\n",
    ")\n",
    "comunidad"
   ]
  },
  {
   "cell_type": "code",
   "execution_count": 15,
   "id": "7f3c9f7f-3f04-4971-ae34-e6401e20c6c3",
   "metadata": {},
   "outputs": [
    {
     "data": {
      "image/png": "[encoded data removed]",
      "text/plain": [
       "<Figure size 800x550 with 1 Axes>"
      ]
     },
     "metadata": {},
     "output_type": "display_data"
    },
    {
     "name": "stderr",
     "output_type": "stream",
     "text": [
      "En promedio suelen tardar hasta el día 12 para llegar a ndMAX\n"
     ]
    }
   ],
   "source": [
    "df['day'] = pd.DatetimeIndex(df['ndmax']).day\n",
    "sns.countplot(data=df, x='day')\n",
    "plt.style.use('seaborn')\n",
    "plt.title('Decks subidos a NDmax por día')\n",
    "plt.ylabel('Cantidad de Mazos')\n",
    "plt.xlabel('Días de Setiembre 2022')\n",
    "plt.show()\n",
    "logging.info(f'En promedio suelen tardar hasta el día {round(df.day.mean())} para llegar a ndMAX')"
   ]
  },
  {
   "cell_type": "code",
   "execution_count": 16,
   "id": "987e5ee2-0833-4a0d-b30a-ed1f5f93882a",
   "metadata": {},
   "outputs": [],
   "source": [
    "top_decks_color = {\n",
    "    'Meklord': '#00ff55ff',\n",
    "    'Phantom Knights': '#000000ff',\n",
    "    'Rose Dragon': '#FF0064ff',\n",
    "    'Galaxy-Eyes': '#ff8B00ff',\n",
    "    'Elemental Heros': '#700cc2ff'\n",
    "}"
   ]
  },
  {
   "cell_type": "code",
   "execution_count": 18,
   "id": "285817ea-5bd6-4ffb-8614-df7cf5ce4ac7",
   "metadata": {},
   "outputs": [
    {
     "data": {
      "image/png": "[encoded data removed]",
      "text/plain": [
       "<Figure size 800x550 with 1 Axes>"
      ]
     },
     "metadata": {},
     "output_type": "display_data"
    },
    {
     "name": "stderr",
     "output_type": "stream",
     "text": [
      "De 72 arquetipos distintos este el top 5\n"
     ]
    }
   ],
   "source": [
    "decks = (\n",
    "    df.groupby(['deck'])['deck'].count()\n",
    "    .reset_index(name='total')\n",
    "    .sort_values('total', ascending=0)\n",
    ")\n",
    "top_decks = decks[0:5]\n",
    "plt.style.use('ggplot')\n",
    "fig, ax = plt.subplots()\n",
    "sns.barplot(data=top_decks, y='deck', x='total', palette=top_decks_color)\n",
    "plt.title('Top Mazos NdMAX KC CUP Setiembre 22')\n",
    "for pY, pX in enumerate(top_decks.total):\n",
    "    ax.annotate(pX, xy=(pX, pY))\n",
    "plt.xlim(0,25)\n",
    "plt.ylabel('Arquetipos')\n",
    "plt.xlabel('Cantidad')\n",
    "plt.show()\n",
    "logging.info(f'De {df[\"deck\"].nunique()} arquetipos distintos este el top 5')"
   ]
  },
  {
   "cell_type": "markdown",
   "id": "7076e2d3-0eb0-42f2-aa45-4ece49eb6a65",
   "metadata": {
    "tags": []
   },
   "source": [
    "### Habilidades que usaron los Top Decks"
   ]
  },
  {
   "cell_type": "code",
   "execution_count": 19,
   "id": "5590516b-7d6a-4430-881e-74d79dab4662",
   "metadata": {},
   "outputs": [],
   "source": [
    "skill_df = (\n",
    "    df.groupby(['deck','skill'])['skill'].size()\n",
    "    .reset_index(name='total')\n",
    "    .sort_values('deck', ascending=1)\n",
    ")"
   ]
  },
  {
   "cell_type": "code",
   "execution_count": 20,
   "id": "31f4cefe-6313-4fb0-bd0a-dc79d1d0dd82",
   "metadata": {},
   "outputs": [
    {
     "data": {
      "text/html": [
       "<div>\n",
       "<style scoped>\n",
       "    .dataframe tbody tr th:only-of-type {\n",
       "        vertical-align: middle;\n",
       "    }\n",
       "\n",
       "    .dataframe tbody tr th {\n",
       "        vertical-align: top;\n",
       "    }\n",
       "\n",
       "    .dataframe thead th {\n",
       "        text-align: right;\n",
       "    }\n",
       "</style>\n",
       "<table border=\"1\" class=\"dataframe\">\n",
       "  <thead>\n",
       "    <tr style=\"text-align: right;\">\n",
       "      <th></th>\n",
       "      <th>deck</th>\n",
       "      <th>skill</th>\n",
       "      <th>total</th>\n",
       "    </tr>\n",
       "  </thead>\n",
       "  <tbody>\n",
       "    <tr>\n",
       "      <th>68</th>\n",
       "      <td>Meklord</td>\n",
       "      <td>Refinamiento Meklord</td>\n",
       "      <td>22</td>\n",
       "    </tr>\n",
       "  </tbody>\n",
       "</table>\n",
       "</div>"
      ],
      "text/plain": [
       "       deck                 skill  total\n",
       "68  Meklord  Refinamiento Meklord     22"
      ]
     },
     "execution_count": 20,
     "metadata": {},
     "output_type": "execute_result"
    }
   ],
   "source": [
    "skill_df.query(\"deck=='Meklord'\")"
   ]
  },
  {
   "cell_type": "code",
   "execution_count": 21,
   "id": "6130a5b6-6e91-494d-b159-a0d5a2c52afd",
   "metadata": {},
   "outputs": [
    {
     "data": {
      "text/html": [
       "<div>\n",
       "<style scoped>\n",
       "    .dataframe tbody tr th:only-of-type {\n",
       "        vertical-align: middle;\n",
       "    }\n",
       "\n",
       "    .dataframe tbody tr th {\n",
       "        vertical-align: top;\n",
       "    }\n",
       "\n",
       "    .dataframe thead th {\n",
       "        text-align: right;\n",
       "    }\n",
       "</style>\n",
       "<table border=\"1\" class=\"dataframe\">\n",
       "  <thead>\n",
       "    <tr style=\"text-align: right;\">\n",
       "      <th></th>\n",
       "      <th>deck</th>\n",
       "      <th>skill</th>\n",
       "      <th>total</th>\n",
       "    </tr>\n",
       "  </thead>\n",
       "  <tbody>\n",
       "    <tr>\n",
       "      <th>78</th>\n",
       "      <td>Phantom Knights</td>\n",
       "      <td>Estrategia Fantasma</td>\n",
       "      <td>15</td>\n",
       "    </tr>\n",
       "    <tr>\n",
       "      <th>79</th>\n",
       "      <td>Phantom Knights</td>\n",
       "      <td>La Orden de los Caballeros Fantasma</td>\n",
       "      <td>7</td>\n",
       "    </tr>\n",
       "  </tbody>\n",
       "</table>\n",
       "</div>"
      ],
      "text/plain": [
       "               deck                                skill  total\n",
       "78  Phantom Knights                  Estrategia Fantasma     15\n",
       "79  Phantom Knights  La Orden de los Caballeros Fantasma      7"
      ]
     },
     "execution_count": 21,
     "metadata": {},
     "output_type": "execute_result"
    }
   ],
   "source": [
    "skill_df.query(\"deck=='Phantom Knights'\")"
   ]
  },
  {
   "cell_type": "code",
   "execution_count": 22,
   "id": "ed6b72b4-3a03-4a7b-ae99-1912e9608ff6",
   "metadata": {},
   "outputs": [
    {
     "data": {
      "text/html": [
       "<div>\n",
       "<style scoped>\n",
       "    .dataframe tbody tr th:only-of-type {\n",
       "        vertical-align: middle;\n",
       "    }\n",
       "\n",
       "    .dataframe tbody tr th {\n",
       "        vertical-align: top;\n",
       "    }\n",
       "\n",
       "    .dataframe thead th {\n",
       "        text-align: right;\n",
       "    }\n",
       "</style>\n",
       "<table border=\"1\" class=\"dataframe\">\n",
       "  <thead>\n",
       "    <tr style=\"text-align: right;\">\n",
       "      <th></th>\n",
       "      <th>deck</th>\n",
       "      <th>skill</th>\n",
       "      <th>total</th>\n",
       "    </tr>\n",
       "  </thead>\n",
       "  <tbody>\n",
       "    <tr>\n",
       "      <th>87</th>\n",
       "      <td>Rose Dragon</td>\n",
       "      <td>Conjuro de Rosas</td>\n",
       "      <td>20</td>\n",
       "    </tr>\n",
       "  </tbody>\n",
       "</table>\n",
       "</div>"
      ],
      "text/plain": [
       "           deck             skill  total\n",
       "87  Rose Dragon  Conjuro de Rosas     20"
      ]
     },
     "execution_count": 22,
     "metadata": {},
     "output_type": "execute_result"
    }
   ],
   "source": [
    "skill_df.query(\"deck=='Rose Dragon'\")"
   ]
  },
  {
   "cell_type": "code",
   "execution_count": 23,
   "id": "8d301c55-b3bc-4ae0-ba78-09202699f082",
   "metadata": {},
   "outputs": [
    {
     "data": {
      "text/html": [
       "<div>\n",
       "<style scoped>\n",
       "    .dataframe tbody tr th:only-of-type {\n",
       "        vertical-align: middle;\n",
       "    }\n",
       "\n",
       "    .dataframe tbody tr th {\n",
       "        vertical-align: top;\n",
       "    }\n",
       "\n",
       "    .dataframe thead th {\n",
       "        text-align: right;\n",
       "    }\n",
       "</style>\n",
       "<table border=\"1\" class=\"dataframe\">\n",
       "  <thead>\n",
       "    <tr style=\"text-align: right;\">\n",
       "      <th></th>\n",
       "      <th>deck</th>\n",
       "      <th>skill</th>\n",
       "      <th>total</th>\n",
       "    </tr>\n",
       "  </thead>\n",
       "  <tbody>\n",
       "    <tr>\n",
       "      <th>40</th>\n",
       "      <td>Galaxy-Eyes</td>\n",
       "      <td>Galaxia XYZ</td>\n",
       "      <td>16</td>\n",
       "    </tr>\n",
       "    <tr>\n",
       "      <th>39</th>\n",
       "      <td>Galaxy-Eyes</td>\n",
       "      <td>Fotónico de la Galaxia</td>\n",
       "      <td>1</td>\n",
       "    </tr>\n",
       "  </tbody>\n",
       "</table>\n",
       "</div>"
      ],
      "text/plain": [
       "           deck                   skill  total\n",
       "40  Galaxy-Eyes             Galaxia XYZ     16\n",
       "39  Galaxy-Eyes  Fotónico de la Galaxia      1"
      ]
     },
     "execution_count": 23,
     "metadata": {},
     "output_type": "execute_result"
    }
   ],
   "source": [
    "skill_df.query(\"deck=='Galaxy-Eyes'\")"
   ]
  },
  {
   "cell_type": "code",
   "execution_count": 24,
   "id": "90ab1a17-edd0-47a7-bd32-d1f239346df7",
   "metadata": {},
   "outputs": [
    {
     "data": {
      "text/html": [
       "<div>\n",
       "<style scoped>\n",
       "    .dataframe tbody tr th:only-of-type {\n",
       "        vertical-align: middle;\n",
       "    }\n",
       "\n",
       "    .dataframe tbody tr th {\n",
       "        vertical-align: top;\n",
       "    }\n",
       "\n",
       "    .dataframe thead th {\n",
       "        text-align: right;\n",
       "    }\n",
       "</style>\n",
       "<table border=\"1\" class=\"dataframe\">\n",
       "  <thead>\n",
       "    <tr style=\"text-align: right;\">\n",
       "      <th></th>\n",
       "      <th>deck</th>\n",
       "      <th>skill</th>\n",
       "      <th>total</th>\n",
       "    </tr>\n",
       "  </thead>\n",
       "  <tbody>\n",
       "    <tr>\n",
       "      <th>26</th>\n",
       "      <td>Elemental Heros</td>\n",
       "      <td>Duelo Favorito</td>\n",
       "      <td>16</td>\n",
       "    </tr>\n",
       "  </tbody>\n",
       "</table>\n",
       "</div>"
      ],
      "text/plain": [
       "               deck           skill  total\n",
       "26  Elemental Heros  Duelo Favorito     16"
      ]
     },
     "execution_count": 24,
     "metadata": {},
     "output_type": "execute_result"
    }
   ],
   "source": [
    "skill_df.query(\"deck=='Elemental Heros'\")"
   ]
  },
  {
   "cell_type": "markdown",
   "id": "0503e2a7-d0dd-4837-a4e6-4758db073e87",
   "metadata": {},
   "source": [
    ">Se aprecia que los arquetipos juegan su versión óptima una sola habilidad.\n",
    ">Pocos se ven que pueden jugar varias skills"
   ]
  },
  {
   "cell_type": "markdown",
   "id": "9bb9f85d-9612-46c8-bb52-6046f881e37c",
   "metadata": {},
   "source": [
    "### Arquetipos con mayor diversidad de habilidades"
   ]
  },
  {
   "cell_type": "code",
   "execution_count": 25,
   "id": "d355057f-82d4-4f8a-8651-7d0215e69323",
   "metadata": {},
   "outputs": [
    {
     "data": {
      "text/html": [
       "<div>\n",
       "<style scoped>\n",
       "    .dataframe tbody tr th:only-of-type {\n",
       "        vertical-align: middle;\n",
       "    }\n",
       "\n",
       "    .dataframe tbody tr th {\n",
       "        vertical-align: top;\n",
       "    }\n",
       "\n",
       "    .dataframe thead th {\n",
       "        text-align: right;\n",
       "    }\n",
       "</style>\n",
       "<table border=\"1\" class=\"dataframe\">\n",
       "  <thead>\n",
       "    <tr style=\"text-align: right;\">\n",
       "      <th></th>\n",
       "      <th>deck</th>\n",
       "      <th>total</th>\n",
       "    </tr>\n",
       "  </thead>\n",
       "  <tbody>\n",
       "    <tr>\n",
       "      <th>34</th>\n",
       "      <td>Heros</td>\n",
       "      <td>5</td>\n",
       "    </tr>\n",
       "    <tr>\n",
       "      <th>41</th>\n",
       "      <td>Magnet Warrios</td>\n",
       "      <td>5</td>\n",
       "    </tr>\n",
       "    <tr>\n",
       "      <th>0</th>\n",
       "      <td>Abyss Actor</td>\n",
       "      <td>3</td>\n",
       "    </tr>\n",
       "    <tr>\n",
       "      <th>52</th>\n",
       "      <td>Qliphort</td>\n",
       "      <td>3</td>\n",
       "    </tr>\n",
       "    <tr>\n",
       "      <th>32</th>\n",
       "      <td>Harpies</td>\n",
       "      <td>3</td>\n",
       "    </tr>\n",
       "    <tr>\n",
       "      <th>15</th>\n",
       "      <td>Dark Magician</td>\n",
       "      <td>3</td>\n",
       "    </tr>\n",
       "    <tr>\n",
       "      <th>24</th>\n",
       "      <td>Fluffal</td>\n",
       "      <td>3</td>\n",
       "    </tr>\n",
       "    <tr>\n",
       "      <th>48</th>\n",
       "      <td>Necroz</td>\n",
       "      <td>3</td>\n",
       "    </tr>\n",
       "    <tr>\n",
       "      <th>58</th>\n",
       "      <td>Shiranui</td>\n",
       "      <td>3</td>\n",
       "    </tr>\n",
       "    <tr>\n",
       "      <th>65</th>\n",
       "      <td>Tech Genus</td>\n",
       "      <td>3</td>\n",
       "    </tr>\n",
       "    <tr>\n",
       "      <th>21</th>\n",
       "      <td>Evil Eye</td>\n",
       "      <td>3</td>\n",
       "    </tr>\n",
       "  </tbody>\n",
       "</table>\n",
       "</div>"
      ],
      "text/plain": [
       "              deck  total\n",
       "34           Heros      5\n",
       "41  Magnet Warrios      5\n",
       "0      Abyss Actor      3\n",
       "52        Qliphort      3\n",
       "32         Harpies      3\n",
       "15   Dark Magician      3\n",
       "24         Fluffal      3\n",
       "48          Necroz      3\n",
       "58        Shiranui      3\n",
       "65      Tech Genus      3\n",
       "21        Evil Eye      3"
      ]
     },
     "execution_count": 25,
     "metadata": {},
     "output_type": "execute_result"
    }
   ],
   "source": [
    "deck_variety_skill = (\n",
    "    df.groupby(['deck'])['skill'].nunique()\n",
    "    .reset_index(name='total')\n",
    "    .sort_values('total', ascending=0)\n",
    ")\n",
    "deck_variety_skill.query(\"total>2\")"
   ]
  },
  {
   "cell_type": "code",
   "execution_count": 26,
   "id": "cfbb6879-4948-48de-8819-7d3bf228dbab",
   "metadata": {},
   "outputs": [
    {
     "name": "stderr",
     "output_type": "stream",
     "text": [
      "su lista de Habilidades del top 2\n"
     ]
    },
    {
     "data": {
      "text/html": [
       "<div>\n",
       "<style scoped>\n",
       "    .dataframe tbody tr th:only-of-type {\n",
       "        vertical-align: middle;\n",
       "    }\n",
       "\n",
       "    .dataframe tbody tr th {\n",
       "        vertical-align: top;\n",
       "    }\n",
       "\n",
       "    .dataframe thead th {\n",
       "        text-align: right;\n",
       "    }\n",
       "</style>\n",
       "<table border=\"1\" class=\"dataframe\">\n",
       "  <thead>\n",
       "    <tr style=\"text-align: right;\">\n",
       "      <th></th>\n",
       "      <th>deck</th>\n",
       "      <th>skill</th>\n",
       "      <th>total</th>\n",
       "    </tr>\n",
       "  </thead>\n",
       "  <tbody>\n",
       "    <tr>\n",
       "      <th>48</th>\n",
       "      <td>Heros</td>\n",
       "      <td>Alianza de Héroes</td>\n",
       "      <td>3</td>\n",
       "    </tr>\n",
       "    <tr>\n",
       "      <th>49</th>\n",
       "      <td>Heros</td>\n",
       "      <td>Fusión Milagrosa</td>\n",
       "      <td>1</td>\n",
       "    </tr>\n",
       "    <tr>\n",
       "      <th>50</th>\n",
       "      <td>Heros</td>\n",
       "      <td>Héroe Herido</td>\n",
       "      <td>1</td>\n",
       "    </tr>\n",
       "    <tr>\n",
       "      <th>51</th>\n",
       "      <td>Heros</td>\n",
       "      <td>Maestro de Fusión</td>\n",
       "      <td>1</td>\n",
       "    </tr>\n",
       "    <tr>\n",
       "      <th>52</th>\n",
       "      <td>Heros</td>\n",
       "      <td>Robar sentido Viento</td>\n",
       "      <td>3</td>\n",
       "    </tr>\n",
       "    <tr>\n",
       "      <th>60</th>\n",
       "      <td>Magnet Warrios</td>\n",
       "      <td>Aumento de LP alfa</td>\n",
       "      <td>1</td>\n",
       "    </tr>\n",
       "    <tr>\n",
       "      <th>61</th>\n",
       "      <td>Magnet Warrios</td>\n",
       "      <td>Duplicar Nivel</td>\n",
       "      <td>1</td>\n",
       "    </tr>\n",
       "    <tr>\n",
       "      <th>62</th>\n",
       "      <td>Magnet Warrios</td>\n",
       "      <td>Guerreros Fósiles</td>\n",
       "      <td>2</td>\n",
       "    </tr>\n",
       "    <tr>\n",
       "      <th>63</th>\n",
       "      <td>Magnet Warrios</td>\n",
       "      <td>Lectura Mental</td>\n",
       "      <td>1</td>\n",
       "    </tr>\n",
       "    <tr>\n",
       "      <th>64</th>\n",
       "      <td>Magnet Warrios</td>\n",
       "      <td>Robo del Destino</td>\n",
       "      <td>2</td>\n",
       "    </tr>\n",
       "  </tbody>\n",
       "</table>\n",
       "</div>"
      ],
      "text/plain": [
       "              deck                 skill  total\n",
       "48           Heros     Alianza de Héroes      3\n",
       "49           Heros      Fusión Milagrosa      1\n",
       "50           Heros          Héroe Herido      1\n",
       "51           Heros     Maestro de Fusión      1\n",
       "52           Heros  Robar sentido Viento      3\n",
       "60  Magnet Warrios    Aumento de LP alfa      1\n",
       "61  Magnet Warrios        Duplicar Nivel      1\n",
       "62  Magnet Warrios     Guerreros Fósiles      2\n",
       "63  Magnet Warrios        Lectura Mental      1\n",
       "64  Magnet Warrios      Robo del Destino      2"
      ]
     },
     "execution_count": 26,
     "metadata": {},
     "output_type": "execute_result"
    }
   ],
   "source": [
    "logging.info('su lista de Habilidades del top 2')\n",
    "skill_df.query(\"deck=='Heros' or deck=='Magnet Warrios'\")"
   ]
  },
  {
   "cell_type": "markdown",
   "id": "95f85caf-290f-4f59-8470-520457be63cd",
   "metadata": {},
   "source": [
    "### Habilidades que se repiten en distintos arquetipos"
   ]
  },
  {
   "cell_type": "code",
   "execution_count": 27,
   "id": "170597aa-d90f-4942-bc36-cf9e7aac42d0",
   "metadata": {},
   "outputs": [
    {
     "name": "stderr",
     "output_type": "stream",
     "text": [
      "Esta tabla representa la skill que se encuentra en distintos arquetipos\n"
     ]
    },
    {
     "data": {
      "text/html": [
       "<div>\n",
       "<style scoped>\n",
       "    .dataframe tbody tr th:only-of-type {\n",
       "        vertical-align: middle;\n",
       "    }\n",
       "\n",
       "    .dataframe tbody tr th {\n",
       "        vertical-align: top;\n",
       "    }\n",
       "\n",
       "    .dataframe thead th {\n",
       "        text-align: right;\n",
       "    }\n",
       "</style>\n",
       "<table border=\"1\" class=\"dataframe\">\n",
       "  <thead>\n",
       "    <tr style=\"text-align: right;\">\n",
       "      <th></th>\n",
       "      <th>skill</th>\n",
       "      <th>total</th>\n",
       "    </tr>\n",
       "  </thead>\n",
       "  <tbody>\n",
       "    <tr>\n",
       "      <th>70</th>\n",
       "      <td>Robo del Destino</td>\n",
       "      <td>10</td>\n",
       "    </tr>\n",
       "    <tr>\n",
       "      <th>57</th>\n",
       "      <td>Precognición</td>\n",
       "      <td>3</td>\n",
       "    </tr>\n",
       "    <tr>\n",
       "      <th>4</th>\n",
       "      <td>Aumento de LP alfa</td>\n",
       "      <td>3</td>\n",
       "    </tr>\n",
       "    <tr>\n",
       "      <th>5</th>\n",
       "      <td>Barrera de Luz</td>\n",
       "      <td>3</td>\n",
       "    </tr>\n",
       "    <tr>\n",
       "      <th>35</th>\n",
       "      <td>La Impactante actuación de Sylvio</td>\n",
       "      <td>3</td>\n",
       "    </tr>\n",
       "    <tr>\n",
       "      <th>68</th>\n",
       "      <td>Robar sentido Viento</td>\n",
       "      <td>3</td>\n",
       "    </tr>\n",
       "  </tbody>\n",
       "</table>\n",
       "</div>"
      ],
      "text/plain": [
       "                                skill  total\n",
       "70                   Robo del Destino     10\n",
       "57                       Precognición      3\n",
       "4                  Aumento de LP alfa      3\n",
       "5                      Barrera de Luz      3\n",
       "35  La Impactante actuación de Sylvio      3\n",
       "68               Robar sentido Viento      3"
      ]
     },
     "execution_count": 27,
     "metadata": {},
     "output_type": "execute_result"
    }
   ],
   "source": [
    "logging.info('Esta tabla representa la skill que se encuentra en distintos arquetipos')\n",
    "skill_distint_deck = (\n",
    "    df.groupby(['skill'])['deck'].nunique()\n",
    "    .reset_index(name='total')\n",
    "    .sort_values('total', ascending=0)\n",
    ")\n",
    "skill_distint_deck.query(\"total>2\")"
   ]
  },
  {
   "cell_type": "code",
   "execution_count": 28,
   "id": "727719e5-28fb-4553-84d7-68924237b9d1",
   "metadata": {},
   "outputs": [
    {
     "name": "stderr",
     "output_type": "stream",
     "text": [
      "Tabla de todos los mazos que usan Robo del Destino\n"
     ]
    },
    {
     "data": {
      "text/html": [
       "<div>\n",
       "<style scoped>\n",
       "    .dataframe tbody tr th:only-of-type {\n",
       "        vertical-align: middle;\n",
       "    }\n",
       "\n",
       "    .dataframe tbody tr th {\n",
       "        vertical-align: top;\n",
       "    }\n",
       "\n",
       "    .dataframe thead th {\n",
       "        text-align: right;\n",
       "    }\n",
       "</style>\n",
       "<table border=\"1\" class=\"dataframe\">\n",
       "  <thead>\n",
       "    <tr style=\"text-align: right;\">\n",
       "      <th></th>\n",
       "      <th>deck</th>\n",
       "      <th>skill</th>\n",
       "      <th>total</th>\n",
       "    </tr>\n",
       "  </thead>\n",
       "  <tbody>\n",
       "    <tr>\n",
       "      <th>20</th>\n",
       "      <td>Dark Magician</td>\n",
       "      <td>Robo del Destino</td>\n",
       "      <td>7</td>\n",
       "    </tr>\n",
       "    <tr>\n",
       "      <th>25</th>\n",
       "      <td>Dragunity</td>\n",
       "      <td>Robo del Destino</td>\n",
       "      <td>1</td>\n",
       "    </tr>\n",
       "    <tr>\n",
       "      <th>43</th>\n",
       "      <td>Gravekeepers</td>\n",
       "      <td>Robo del Destino</td>\n",
       "      <td>3</td>\n",
       "    </tr>\n",
       "    <tr>\n",
       "      <th>45</th>\n",
       "      <td>Harpies</td>\n",
       "      <td>Robo del Destino</td>\n",
       "      <td>1</td>\n",
       "    </tr>\n",
       "    <tr>\n",
       "      <th>58</th>\n",
       "      <td>Lunalight</td>\n",
       "      <td>Robo del Destino</td>\n",
       "      <td>6</td>\n",
       "    </tr>\n",
       "    <tr>\n",
       "      <th>64</th>\n",
       "      <td>Magnet Warrios</td>\n",
       "      <td>Robo del Destino</td>\n",
       "      <td>2</td>\n",
       "    </tr>\n",
       "    <tr>\n",
       "      <th>89</th>\n",
       "      <td>Satellarknights</td>\n",
       "      <td>Robo del Destino</td>\n",
       "      <td>13</td>\n",
       "    </tr>\n",
       "    <tr>\n",
       "      <th>92</th>\n",
       "      <td>Shiranui</td>\n",
       "      <td>Robo del Destino</td>\n",
       "      <td>4</td>\n",
       "    </tr>\n",
       "    <tr>\n",
       "      <th>96</th>\n",
       "      <td>Super Quant</td>\n",
       "      <td>Robo del Destino</td>\n",
       "      <td>1</td>\n",
       "    </tr>\n",
       "    <tr>\n",
       "      <th>111</th>\n",
       "      <td>Yosenjus</td>\n",
       "      <td>Robo del Destino</td>\n",
       "      <td>2</td>\n",
       "    </tr>\n",
       "  </tbody>\n",
       "</table>\n",
       "</div>"
      ],
      "text/plain": [
       "                deck             skill  total\n",
       "20     Dark Magician  Robo del Destino      7\n",
       "25         Dragunity  Robo del Destino      1\n",
       "43      Gravekeepers  Robo del Destino      3\n",
       "45           Harpies  Robo del Destino      1\n",
       "58         Lunalight  Robo del Destino      6\n",
       "64    Magnet Warrios  Robo del Destino      2\n",
       "89   Satellarknights  Robo del Destino     13\n",
       "92          Shiranui  Robo del Destino      4\n",
       "96       Super Quant  Robo del Destino      1\n",
       "111         Yosenjus  Robo del Destino      2"
      ]
     },
     "execution_count": 28,
     "metadata": {},
     "output_type": "execute_result"
    }
   ],
   "source": [
    "logging.info('Tabla de todos los mazos que usan Robo del Destino')\n",
    "skill_df.query(\"skill=='Robo del Destino'\")"
   ]
  },
  {
   "cell_type": "markdown",
   "id": "c2db6a0b-da0c-47a4-aad4-c928ca19b4fc",
   "metadata": {},
   "source": [
    ">Hace referencia al anime cuando en sus partidas difíciles Yugi roba la carta que necesita para ganar el duelo.   \n",
    "![](https://i.imgur.com/UM1Fvc1.png)\n",
    "\n",
    "![](https://c.tenor.com/DRn16ES_h-EAAAAC/yu-gi-oh-yami-yugi.gif)"
   ]
  },
  {
   "cell_type": "code",
   "execution_count": 29,
   "id": "729228f8-11cc-4483-83ee-d2b5d73b5c54",
   "metadata": {},
   "outputs": [
    {
     "name": "stderr",
     "output_type": "stream",
     "text": [
      "Reporte finalizado, terminar conexión.\n"
     ]
    }
   ],
   "source": [
    "pg_engine.dispose()\n",
    "logging.info(\"Reporte finalizado, terminar conexión.\")"
   ]
  },
  {
   "cell_type": "markdown",
   "id": "b530f74b-6a35-421a-b777-cda4434f08b3",
   "metadata": {},
   "source": [
    "![](http://pa1.narvii.com/6411/55721509d05e50566c9077a912c78d9ab935111d_00.gif)"
   ]
  },
  {
   "cell_type": "markdown",
   "id": "a7c8f35b-8293-41ba-9c8f-4d4c8fefc20e",
   "metadata": {
    "tags": []
   },
   "source": [
    "## Información de sesión\n",
    "---"
   ]
  },
  {
   "cell_type": "code",
   "execution_count": 30,
   "id": "445dfc30-5732-41d1-bfb2-de94bf98ce04",
   "metadata": {},
   "outputs": [
    {
     "data": {
      "text/html": [
       "<details>\n",
       "<summary>Click to view session information</summary>\n",
       "<pre>\n",
       "-----\n",
       "decouple            NA\n",
       "matplotlib          3.5.3\n",
       "numpy               1.23.2\n",
       "pandas              1.4.4\n",
       "pyprojroot          0.2.0\n",
       "requests            2.28.1\n",
       "seaborn             0.12.0\n",
       "session_info        1.0.0\n",
       "sqlalchemy          1.4.40\n",
       "-----\n",
       "</pre>\n",
       "<details>\n",
       "<summary>Click to view modules imported as dependencies</summary>\n",
       "<pre>\n",
       "PIL                 9.2.0\n",
       "asttokens           NA\n",
       "backcall            0.2.0\n",
       "beta_ufunc          NA\n",
       "binom_ufunc         NA\n",
       "brotli              NA\n",
       "certifi             2022.06.15.1\n",
       "cffi                1.15.1\n",
       "charset_normalizer  2.1.1\n",
       "colorama            0.4.5\n",
       "cycler              0.10.0\n",
       "cython_runtime      NA\n",
       "dateutil            2.8.2\n",
       "debugpy             1.6.3\n",
       "decorator           5.1.1\n",
       "defusedxml          0.7.1\n",
       "entrypoints         0.4\n",
       "executing           1.0.0\n",
       "greenlet            1.1.3\n",
       "hypergeom_ufunc     NA\n",
       "idna                3.3\n",
       "ipykernel           6.15.2\n",
       "ipython_genutils    0.2.0\n",
       "jedi                0.18.1\n",
       "jupyter_server      1.18.1\n",
       "kiwisolver          1.4.4\n",
       "matplotlib_inline   0.1.6\n",
       "mpl_toolkits        NA\n",
       "nbinom_ufunc        NA\n",
       "ncf_ufunc           NA\n",
       "nt                  NA\n",
       "ntsecuritycon       NA\n",
       "packaging           21.3\n",
       "parso               0.8.3\n",
       "pickleshare         0.7.5\n",
       "pkg_resources       NA\n",
       "prompt_toolkit      3.0.31\n",
       "psutil              5.9.2\n",
       "psycopg2            2.9.3 (dt dec pq3 ext lo64)\n",
       "pure_eval           0.2.2\n",
       "pydev_ipython       NA\n",
       "pydevconsole        NA\n",
       "pydevd              2.8.0\n",
       "pydevd_file_utils   NA\n",
       "pydevd_plugins      NA\n",
       "pydevd_tracing      NA\n",
       "pygments            2.13.0\n",
       "pyparsing           3.0.9\n",
       "pythoncom           NA\n",
       "pytz                2022.2.1\n",
       "pywintypes          NA\n",
       "scipy               1.9.1\n",
       "six                 1.16.0\n",
       "socks               1.7.1\n",
       "stack_data          0.5.0\n",
       "statsmodels         0.13.2\n",
       "tornado             6.2\n",
       "traitlets           5.3.0\n",
       "unicodedata2        NA\n",
       "urllib3             1.26.11\n",
       "wcwidth             0.2.5\n",
       "win32api            NA\n",
       "win32com            NA\n",
       "win32security       NA\n",
       "zmq                 23.2.1\n",
       "</pre>\n",
       "</details> <!-- seems like this ends pre, so might as well be explicit -->\n",
       "<pre>\n",
       "-----\n",
       "IPython             8.4.0\n",
       "jupyter_client      7.3.5\n",
       "jupyter_core        4.11.1\n",
       "jupyterlab          3.4.5\n",
       "notebook            6.4.12\n",
       "-----\n",
       "Python 3.10.6 | packaged by conda-forge | (main, Aug 22 2022, 20:30:19) [MSC v.1929 64 bit (AMD64)]\n",
       "Windows-10-10.0.19043-SP0\n",
       "-----\n",
       "Session information updated at 2022-09-19 17:05\n",
       "</pre>\n",
       "</details>"
      ],
      "text/plain": [
       "<IPython.core.display.HTML object>"
      ]
     },
     "execution_count": 30,
     "metadata": {},
     "output_type": "execute_result"
    }
   ],
   "source": [
    "session_info.show()"
   ]
  },
  {
   "cell_type": "markdown",
   "id": "819999f5-ae63-4bbf-96aa-9acfa17f789e",
   "metadata": {},
   "source": [
    "![](https://pa1.narvii.com/6924/10a6261502508433f8e2500b86c6a9e820f83de0r1-443-247_hq.gif)"
   ]
  }
 ],
 "metadata": {
  "kernelspec": {
   "display_name": "Python 3 (ipykernel)",
   "language": "python",
   "name": "python3"
  },
  "language_info": {
   "codemirror_mode": {
    "name": "ipython",
    "version": 3
   },
   "file_extension": ".py",
   "mimetype": "text/x-python",
   "name": "python",
   "nbconvert_exporter": "python",
   "pygments_lexer": "ipython3",
   "version": "3.10.6"
  }
 },
 "nbformat": 4,
 "nbformat_minor": 5
}
