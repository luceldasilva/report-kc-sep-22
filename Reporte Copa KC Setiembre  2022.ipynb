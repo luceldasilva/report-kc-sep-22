{
 "cells": [
  {
   "cell_type": "markdown",
   "id": "de013fa0-91ad-4e8c-b493-9e7cfc6c8df4",
   "metadata": {
    "tags": []
   },
   "source": [
    "# Reporte de Copa KC Setiembre 2022\n",
    "\n",
    ">Reporte de Mazos de la comunidad LATAM usados en la primera fase de la KC Cup en YuGiOh! Duel Links\n",
    "\n",
    "![](https://s3.duellinksmeta.com/img/legacy-articles/content/tournaments/kc-cup/09/thumbnail-temp.jpg)\n"
   ]
  },
  {
   "cell_type": "markdown",
   "id": "4bb1c6ba-d5dd-4055-9d2f-84ae5f0bca20",
   "metadata": {
    "tags": []
   },
   "source": [
    "## Un poco de contexto\n",
    "---\n",
    "[Yu-Gi-Oh! Duel Links](https://www.konami.com/yugioh/duel_links/en/) es un videojuego de cartas coleccionables digital con mecánica free-to-play con microtransacciones desarrollado por Konami para Windows descargable con Steam, iOS y Android. Primero se lanza en Japón el 17 de noviembre de 2016 y se libera a nivel mundial el 11 de enero de 2017.\n",
    "En el lore del juego, Seto Kaiba a través de su corporación crea una realidad virtual llamada \"Duel World\" para reunir a los mejores duelistas para que puedan competir donde a lo largo del tiempo acompañan los personajes de las diferentes sagas y spin-offs.\n",
    "\n",
    "Por medio de ello realiza cada cierto tiempo la copa Kaiba Corporation para demostrar quien es el mejor duelista del planeta.\n",
    "\n",
    "\n",
    "![](http://pa1.narvii.com/6911/6ae48b510a713f089f643bd060e681f37891bc52r1-540-540_00.gif)\n",
    "\n",
    "\n",
    "Es un sistema de ranking que consta de 2 fases, en resumen la fase 1 recompensa gemas que son la moneda del juego y en la fase 2 da premio al 1er lugar para clasificar al mundial de yugioh pero no recompensa gemas. Por lo que la comunidad normalmente prioriza la fase 1 que te da recursos para la cuenta.\n"
   ]
  },
  {
   "cell_type": "markdown",
   "id": "870e1a4f-dbcc-48b3-8531-c66715c7446c",
   "metadata": {},
   "source": [
    "## Conociendo los datos\n",
    "\n",
    "**1.  id**\n",
    "registro único para identificar usuario.\n",
    "\n",
    "**2.  usuario**\n",
    "Es el jugador, en la base de datos es único y no deja reportar si jugó en varias cuentas, es criterio de exclusión de la base de datos si se reporta que jugó varias cuentas/decks.\n",
    "\n",
    "**3.  deck**\n",
    "Arquetipo usado.\n",
    "\n",
    "**4.  skill**\n",
    "Habilidad usada en el deck.\n",
    "\n",
    "**5.  wins**\n",
    "Total de victorias conseguidas en el mes reportado hasta el momento que llegó al ndmax, por eventos separados el juego no contabiliza.\n",
    "\n",
    "**6.  ndmax**\n",
    "Fecha que llegó al rango máximo.\n",
    "\n",
    "**7.  Los booleanos**\n",
    "Comprueba si el usuario compartió su deck en qué server en concreto.   \n",
    "    - zerotg  = [ZeroTG](https://www.youtube.com/c/ZeroTG)   \n",
    "    - zephra  = [ZephraCarl](https://www.youtube.com/c/ZephraCarl)   \n",
    "    - bryan  = [Bryan Norén](https://www.youtube.com/c/BryanNorén)   \n",
    "    - xenoblur  = [Xenoblur](https://www.youtube.com/c/XenoBlur)"
   ]
  },
  {
   "cell_type": "markdown",
   "id": "02e924bf-91a5-47c9-bd7f-7f271ba13c68",
   "metadata": {
    "tags": []
   },
   "source": [
    "## Pre-procesamiento de datos\n",
    "---\n",
    "\n",
    "Un poco de spam de código, **cargando datos...**\n",
    "\n",
    "![](https://media.giphy.com/media/EXnmWXYei4pcMxkh8o/giphy.gif)"
   ]
  },
  {
   "cell_type": "code",
   "execution_count": 26,
   "id": "107eaf42-2f7b-49ea-89cd-0fe044681a4f",
   "metadata": {},
   "outputs": [],
   "source": [
    "# Poniendo las librerías\n",
    "from os.path import abspath\n",
    "from pathlib import Path\n",
    "import decouple\n",
    "from datetime import datetime\n",
    "import logging\n",
    "import os\n",
    "import pyprojroot\n",
    "import requests as req\n",
    "from sqlalchemy import create_engine as ce\n",
    "import numpy as np\n",
    "import pandas as pd\n",
    "import matplotlib.pyplot as plt\n",
    "import plotly.express as px\n",
    "import plotly.graph_objects as go\n",
    "import session_info"
   ]
  },
  {
   "cell_type": "code",
   "execution_count": 9,
   "id": "16408a65-557a-4a48-a4fd-f825316631f4",
   "metadata": {},
   "outputs": [],
   "source": [
    "logging.basicConfig(\n",
    "    format = '%(message)s', \n",
    "    level=logging.DEBUG,  \n",
    "    encoding=\"utf-8\"\n",
    "    )"
   ]
  },
  {
   "cell_type": "code",
   "execution_count": 10,
   "id": "fa0cec9d-32ad-49b5-94b6-5a9933dd37ad",
   "metadata": {},
   "outputs": [],
   "source": [
    "now = datetime.now()\n",
    "today = now.strftime('%d-%m-%Y')"
   ]
  },
  {
   "cell_type": "code",
   "execution_count": 11,
   "id": "4ac3e815-a93f-496b-92f8-1f2d93e0b1e6",
   "metadata": {},
   "outputs": [],
   "source": [
    "config = decouple.AutoConfig(' ')"
   ]
  },
  {
   "cell_type": "code",
   "execution_count": 14,
   "id": "5947f7b1-615a-402a-9438-0885f278c13b",
   "metadata": {
    "tags": []
   },
   "outputs": [
    {
     "name": "stderr",
     "output_type": "stream",
     "text": [
      "Conexión exitosa.\n"
     ]
    }
   ],
   "source": [
    "pg_engine = ce(config('engine_psql'))\n",
    "logging.info(\"Conexión exitosa.\")"
   ]
  },
  {
   "cell_type": "code",
   "execution_count": 15,
   "id": "88f00aac-e034-446f-aaee-e71a033231ee",
   "metadata": {},
   "outputs": [
    {
     "name": "stderr",
     "output_type": "stream",
     "text": [
      "Versión del servidor de PostgreSQL: ('PostgreSQL 13.8, compiled by Visual C++ build 1914, 64-bit',)\n"
     ]
    }
   ],
   "source": [
    "connection = pg_engine.raw_connection()\n",
    "cursor = connection.cursor()\n",
    "cursor.execute(\"SELECT version()\")\n",
    "row = cursor.fetchone()\n",
    "logging.info(\"Versión del servidor de PostgreSQL: {}\".format(row))"
   ]
  },
  {
   "cell_type": "code",
   "execution_count": 16,
   "id": "9bab07af-650a-4974-ad07-d50d03995191",
   "metadata": {},
   "outputs": [
    {
     "name": "stderr",
     "output_type": "stream",
     "text": [
      "Tabla creada\n"
     ]
    }
   ],
   "source": [
    "with open(str(abspath('table_create.sql')), 'r', encoding='utf-8') as myfile:\n",
    "            tc = myfile.read()\n",
    "            cursor.execute(tc)\n",
    "            logging.info(\"Tabla creada\")"
   ]
  },
  {
   "cell_type": "code",
   "execution_count": 17,
   "id": "e267bc96-e18f-4637-9e8c-2a6a81a74843",
   "metadata": {},
   "outputs": [
    {
     "name": "stderr",
     "output_type": "stream",
     "text": [
      "Registros insertados hasta el 12-06-2023\n"
     ]
    }
   ],
   "source": [
    "files = Path(str(pyprojroot.here('report-days-sql'))).glob(\"*.sql\")\n",
    "for line in files:\n",
    "        with open(line, 'r', encoding='utf-8') as insert_into:\n",
    "            report_day = insert_into.read()\n",
    "            cursor.execute(report_day)\n",
    "            connection.commit()\n",
    "logging.info(f'Registros insertados hasta el {str(today)}')"
   ]
  },
  {
   "cell_type": "markdown",
   "id": "2754b037-cbc9-4f94-b9c0-1ccd6e5d72f9",
   "metadata": {},
   "source": [
    "**Base de datos cargada**\n",
    "\n",
    "![](https://media.giphy.com/media/zBlVtzQrpCU4OtSJb4/giphy.gif)"
   ]
  },
  {
   "cell_type": "markdown",
   "id": "e8ddd5a1-a1f5-4702-a728-932157a71d99",
   "metadata": {
    "tags": []
   },
   "source": [
    "### Conteo de observaciones y variables"
   ]
  },
  {
   "cell_type": "code",
   "execution_count": 18,
   "id": "ef0fd4f5-2621-4291-ac42-74e08cfdda92",
   "metadata": {},
   "outputs": [
    {
     "name": "stderr",
     "output_type": "stream",
     "text": [
      "En total hay 362 usuarios registrados\n"
     ]
    }
   ],
   "source": [
    "df = pd.read_sql(\"kcsep22\", pg_engine)\n",
    "logging.info(f'En total hay {df.shape[0]} usuarios registrados')"
   ]
  },
  {
   "cell_type": "code",
   "execution_count": 20,
   "id": "8bb19cd2-12a9-4de8-9b0b-a134c34b1925",
   "metadata": {},
   "outputs": [
    {
     "data": {
      "text/html": [
       "<div>\n",
       "<style scoped>\n",
       "    .dataframe tbody tr th:only-of-type {\n",
       "        vertical-align: middle;\n",
       "    }\n",
       "\n",
       "    .dataframe tbody tr th {\n",
       "        vertical-align: top;\n",
       "    }\n",
       "\n",
       "    .dataframe thead th {\n",
       "        text-align: right;\n",
       "    }\n",
       "</style>\n",
       "<table border=\"1\" class=\"dataframe\">\n",
       "  <thead>\n",
       "    <tr style=\"text-align: right;\">\n",
       "      <th></th>\n",
       "      <th>id</th>\n",
       "      <th>usuario</th>\n",
       "      <th>deck</th>\n",
       "      <th>skill</th>\n",
       "      <th>wins</th>\n",
       "      <th>ndmax</th>\n",
       "      <th>zerotg</th>\n",
       "      <th>zephra</th>\n",
       "      <th>bryan</th>\n",
       "      <th>xenoblur</th>\n",
       "    </tr>\n",
       "  </thead>\n",
       "  <tbody>\n",
       "    <tr>\n",
       "      <th>78</th>\n",
       "      <td>82</td>\n",
       "      <td>3137</td>\n",
       "      <td>SuperHeavy Samurai</td>\n",
       "      <td>Evolución del Estilo</td>\n",
       "      <td>97.0</td>\n",
       "      <td>2022-09-10</td>\n",
       "      <td>True</td>\n",
       "      <td>False</td>\n",
       "      <td>False</td>\n",
       "      <td>False</td>\n",
       "    </tr>\n",
       "    <tr>\n",
       "      <th>39</th>\n",
       "      <td>31</td>\n",
       "      <td>8510</td>\n",
       "      <td>Abyss Actor</td>\n",
       "      <td>Tumbas Selladas</td>\n",
       "      <td>NaN</td>\n",
       "      <td>2022-09-08</td>\n",
       "      <td>True</td>\n",
       "      <td>True</td>\n",
       "      <td>True</td>\n",
       "      <td>False</td>\n",
       "    </tr>\n",
       "    <tr>\n",
       "      <th>275</th>\n",
       "      <td>287</td>\n",
       "      <td>2327</td>\n",
       "      <td>Tech Genus</td>\n",
       "      <td>Control de Vuelo</td>\n",
       "      <td>64.0</td>\n",
       "      <td>2022-09-15</td>\n",
       "      <td>False</td>\n",
       "      <td>True</td>\n",
       "      <td>False</td>\n",
       "      <td>False</td>\n",
       "    </tr>\n",
       "    <tr>\n",
       "      <th>302</th>\n",
       "      <td>310</td>\n",
       "      <td>8732</td>\n",
       "      <td>Synchrons</td>\n",
       "      <td>Camino de la Estrella Fugaz</td>\n",
       "      <td>45.0</td>\n",
       "      <td>2022-09-16</td>\n",
       "      <td>False</td>\n",
       "      <td>True</td>\n",
       "      <td>False</td>\n",
       "      <td>False</td>\n",
       "    </tr>\n",
       "    <tr>\n",
       "      <th>6</th>\n",
       "      <td>12</td>\n",
       "      <td>9851</td>\n",
       "      <td>Galaxy-Eyes</td>\n",
       "      <td>Galaxia XYZ</td>\n",
       "      <td>90.0</td>\n",
       "      <td>2022-09-07</td>\n",
       "      <td>True</td>\n",
       "      <td>False</td>\n",
       "      <td>False</td>\n",
       "      <td>False</td>\n",
       "    </tr>\n",
       "  </tbody>\n",
       "</table>\n",
       "</div>"
      ],
      "text/plain": [
       "      id usuario                deck                        skill  wins   \n",
       "78    82    3137  SuperHeavy Samurai         Evolución del Estilo  97.0  \\\n",
       "39    31    8510         Abyss Actor              Tumbas Selladas   NaN   \n",
       "275  287    2327          Tech Genus             Control de Vuelo  64.0   \n",
       "302  310    8732           Synchrons  Camino de la Estrella Fugaz  45.0   \n",
       "6     12    9851         Galaxy-Eyes                  Galaxia XYZ  90.0   \n",
       "\n",
       "         ndmax  zerotg  zephra  bryan  xenoblur  \n",
       "78  2022-09-10    True   False  False     False  \n",
       "39  2022-09-08    True    True   True     False  \n",
       "275 2022-09-15   False    True  False     False  \n",
       "302 2022-09-16   False    True  False     False  \n",
       "6   2022-09-07    True   False  False     False  "
      ]
     },
     "execution_count": 20,
     "metadata": {},
     "output_type": "execute_result"
    }
   ],
   "source": [
    "df.sample(5)"
   ]
  },
  {
   "cell_type": "markdown",
   "id": "f0e9c591-a256-4174-831f-755825f82c60",
   "metadata": {
    "tags": []
   },
   "source": [
    "## Visualización de los datos"
   ]
  },
  {
   "cell_type": "markdown",
   "id": "bec08fdd-cdfc-4af2-b980-fc8bf1247a63",
   "metadata": {
    "tags": []
   },
   "source": [
    "### Registro de la comunidad"
   ]
  },
  {
   "cell_type": "code",
   "execution_count": 21,
   "id": "8672645c-932b-4a48-a6fd-d0e4ad1e3291",
   "metadata": {},
   "outputs": [],
   "source": [
    "servers = ['zerotg', 'zephra', 'bryan', 'xenoblur']"
   ]
  },
  {
   "cell_type": "code",
   "execution_count": 98,
   "id": "998e0aec-5172-47e3-8fab-601a68a1270a",
   "metadata": {},
   "outputs": [],
   "source": [
    "cantidad = [int(df.zerotg.sum()), int(df.zephra.sum()), int(df.bryan.sum()), int(df.xenoblur.sum())]\n",
    "for i in servers:\n",
    "    df[i] = df[i].apply(lambda x: int(x))\n",
    "\n",
    "comunidad = (\n",
    "    pd.DataFrame(list(zip(servers, cantidad)), \n",
    "                 columns = ['Servers', 'Total'])\n",
    "    .sort_values('Total', ascending=0)\n",
    ")"
   ]
  },
  {
   "cell_type": "code",
   "execution_count": 36,
   "id": "7f3c9f7f-3f04-4971-ae34-e6401e20c6c3",
   "metadata": {},
   "outputs": [
    {
     "data": {
      "application/vnd.plotly.v1+json": {
       "config": {
        "plotlyServerURL": "https://plot.ly"
       },
       "data": [
        {
         "hovertemplate": "Día=%{x}<br>Duelistas=%{text}<extra></extra>",
         "legendgroup": "",
         "line": {
          "color": "#F8766D",
          "dash": "solid"
         },
         "marker": {
          "symbol": "circle"
         },
         "mode": "lines+text+markers",
         "name": "",
         "orientation": "v",
         "showlegend": false,
         "text": [
          9,
          14,
          25,
          33,
          37,
          33,
          42,
          34,
          36,
          33,
          16,
          17,
          33
         ],
         "textposition": "top center",
         "type": "scatter",
         "x": [
          6,
          7,
          8,
          9,
          10,
          11,
          12,
          13,
          14,
          15,
          16,
          17,
          18
         ],
         "xaxis": "x",
         "y": [
          9,
          14,
          25,
          33,
          37,
          33,
          42,
          34,
          36,
          33,
          16,
          17,
          33
         ],
         "yaxis": "y"
        }
       ],
       "layout": {
        "height": 600,
        "legend": {
         "tracegroupgap": 0
        },
        "template": {
         "data": {
          "bar": [
           {
            "error_x": {
             "color": "rgb(51,51,51)"
            },
            "error_y": {
             "color": "rgb(51,51,51)"
            },
            "marker": {
             "line": {
              "color": "rgb(237,237,237)",
              "width": 0.5
             },
             "pattern": {
              "fillmode": "overlay",
              "size": 10,
              "solidity": 0.2
             }
            },
            "type": "bar"
           }
          ],
          "barpolar": [
           {
            "marker": {
             "line": {
              "color": "rgb(237,237,237)",
              "width": 0.5
             },
             "pattern": {
              "fillmode": "overlay",
              "size": 10,
              "solidity": 0.2
             }
            },
            "type": "barpolar"
           }
          ],
          "carpet": [
           {
            "aaxis": {
             "endlinecolor": "rgb(51,51,51)",
             "gridcolor": "white",
             "linecolor": "white",
             "minorgridcolor": "white",
             "startlinecolor": "rgb(51,51,51)"
            },
            "baxis": {
             "endlinecolor": "rgb(51,51,51)",
             "gridcolor": "white",
             "linecolor": "white",
             "minorgridcolor": "white",
             "startlinecolor": "rgb(51,51,51)"
            },
            "type": "carpet"
           }
          ],
          "choropleth": [
           {
            "colorbar": {
             "outlinewidth": 0,
             "tickcolor": "rgb(237,237,237)",
             "ticklen": 6,
             "ticks": "inside"
            },
            "type": "choropleth"
           }
          ],
          "contour": [
           {
            "colorbar": {
             "outlinewidth": 0,
             "tickcolor": "rgb(237,237,237)",
             "ticklen": 6,
             "ticks": "inside"
            },
            "colorscale": [
             [
              0,
              "rgb(20,44,66)"
             ],
             [
              1,
              "rgb(90,179,244)"
             ]
            ],
            "type": "contour"
           }
          ],
          "contourcarpet": [
           {
            "colorbar": {
             "outlinewidth": 0,
             "tickcolor": "rgb(237,237,237)",
             "ticklen": 6,
             "ticks": "inside"
            },
            "type": "contourcarpet"
           }
          ],
          "heatmap": [
           {
            "colorbar": {
             "outlinewidth": 0,
             "tickcolor": "rgb(237,237,237)",
             "ticklen": 6,
             "ticks": "inside"
            },
            "colorscale": [
             [
              0,
              "rgb(20,44,66)"
             ],
             [
              1,
              "rgb(90,179,244)"
             ]
            ],
            "type": "heatmap"
           }
          ],
          "heatmapgl": [
           {
            "colorbar": {
             "outlinewidth": 0,
             "tickcolor": "rgb(237,237,237)",
             "ticklen": 6,
             "ticks": "inside"
            },
            "colorscale": [
             [
              0,
              "rgb(20,44,66)"
             ],
             [
              1,
              "rgb(90,179,244)"
             ]
            ],
            "type": "heatmapgl"
           }
          ],
          "histogram": [
           {
            "marker": {
             "pattern": {
              "fillmode": "overlay",
              "size": 10,
              "solidity": 0.2
             }
            },
            "type": "histogram"
           }
          ],
          "histogram2d": [
           {
            "colorbar": {
             "outlinewidth": 0,
             "tickcolor": "rgb(237,237,237)",
             "ticklen": 6,
             "ticks": "inside"
            },
            "colorscale": [
             [
              0,
              "rgb(20,44,66)"
             ],
             [
              1,
              "rgb(90,179,244)"
             ]
            ],
            "type": "histogram2d"
           }
          ],
          "histogram2dcontour": [
           {
            "colorbar": {
             "outlinewidth": 0,
             "tickcolor": "rgb(237,237,237)",
             "ticklen": 6,
             "ticks": "inside"
            },
            "colorscale": [
             [
              0,
              "rgb(20,44,66)"
             ],
             [
              1,
              "rgb(90,179,244)"
             ]
            ],
            "type": "histogram2dcontour"
           }
          ],
          "mesh3d": [
           {
            "colorbar": {
             "outlinewidth": 0,
             "tickcolor": "rgb(237,237,237)",
             "ticklen": 6,
             "ticks": "inside"
            },
            "type": "mesh3d"
           }
          ],
          "parcoords": [
           {
            "line": {
             "colorbar": {
              "outlinewidth": 0,
              "tickcolor": "rgb(237,237,237)",
              "ticklen": 6,
              "ticks": "inside"
             }
            },
            "type": "parcoords"
           }
          ],
          "pie": [
           {
            "automargin": true,
            "type": "pie"
           }
          ],
          "scatter": [
           {
            "fillpattern": {
             "fillmode": "overlay",
             "size": 10,
             "solidity": 0.2
            },
            "type": "scatter"
           }
          ],
          "scatter3d": [
           {
            "line": {
             "colorbar": {
              "outlinewidth": 0,
              "tickcolor": "rgb(237,237,237)",
              "ticklen": 6,
              "ticks": "inside"
             }
            },
            "marker": {
             "colorbar": {
              "outlinewidth": 0,
              "tickcolor": "rgb(237,237,237)",
              "ticklen": 6,
              "ticks": "inside"
             }
            },
            "type": "scatter3d"
           }
          ],
          "scattercarpet": [
           {
            "marker": {
             "colorbar": {
              "outlinewidth": 0,
              "tickcolor": "rgb(237,237,237)",
              "ticklen": 6,
              "ticks": "inside"
             }
            },
            "type": "scattercarpet"
           }
          ],
          "scattergeo": [
           {
            "marker": {
             "colorbar": {
              "outlinewidth": 0,
              "tickcolor": "rgb(237,237,237)",
              "ticklen": 6,
              "ticks": "inside"
             }
            },
            "type": "scattergeo"
           }
          ],
          "scattergl": [
           {
            "marker": {
             "colorbar": {
              "outlinewidth": 0,
              "tickcolor": "rgb(237,237,237)",
              "ticklen": 6,
              "ticks": "inside"
             }
            },
            "type": "scattergl"
           }
          ],
          "scattermapbox": [
           {
            "marker": {
             "colorbar": {
              "outlinewidth": 0,
              "tickcolor": "rgb(237,237,237)",
              "ticklen": 6,
              "ticks": "inside"
             }
            },
            "type": "scattermapbox"
           }
          ],
          "scatterpolar": [
           {
            "marker": {
             "colorbar": {
              "outlinewidth": 0,
              "tickcolor": "rgb(237,237,237)",
              "ticklen": 6,
              "ticks": "inside"
             }
            },
            "type": "scatterpolar"
           }
          ],
          "scatterpolargl": [
           {
            "marker": {
             "colorbar": {
              "outlinewidth": 0,
              "tickcolor": "rgb(237,237,237)",
              "ticklen": 6,
              "ticks": "inside"
             }
            },
            "type": "scatterpolargl"
           }
          ],
          "scatterternary": [
           {
            "marker": {
             "colorbar": {
              "outlinewidth": 0,
              "tickcolor": "rgb(237,237,237)",
              "ticklen": 6,
              "ticks": "inside"
             }
            },
            "type": "scatterternary"
           }
          ],
          "surface": [
           {
            "colorbar": {
             "outlinewidth": 0,
             "tickcolor": "rgb(237,237,237)",
             "ticklen": 6,
             "ticks": "inside"
            },
            "colorscale": [
             [
              0,
              "rgb(20,44,66)"
             ],
             [
              1,
              "rgb(90,179,244)"
             ]
            ],
            "type": "surface"
           }
          ],
          "table": [
           {
            "cells": {
             "fill": {
              "color": "rgb(237,237,237)"
             },
             "line": {
              "color": "white"
             }
            },
            "header": {
             "fill": {
              "color": "rgb(217,217,217)"
             },
             "line": {
              "color": "white"
             }
            },
            "type": "table"
           }
          ]
         },
         "layout": {
          "annotationdefaults": {
           "arrowhead": 0,
           "arrowwidth": 1
          },
          "autotypenumbers": "strict",
          "coloraxis": {
           "colorbar": {
            "outlinewidth": 0,
            "tickcolor": "rgb(237,237,237)",
            "ticklen": 6,
            "ticks": "inside"
           }
          },
          "colorscale": {
           "sequential": [
            [
             0,
             "rgb(20,44,66)"
            ],
            [
             1,
             "rgb(90,179,244)"
            ]
           ],
           "sequentialminus": [
            [
             0,
             "rgb(20,44,66)"
            ],
            [
             1,
             "rgb(90,179,244)"
            ]
           ]
          },
          "colorway": [
           "#F8766D",
           "#A3A500",
           "#00BF7D",
           "#00B0F6",
           "#E76BF3"
          ],
          "font": {
           "color": "rgb(51,51,51)"
          },
          "geo": {
           "bgcolor": "white",
           "lakecolor": "white",
           "landcolor": "rgb(237,237,237)",
           "showlakes": true,
           "showland": true,
           "subunitcolor": "white"
          },
          "hoverlabel": {
           "align": "left"
          },
          "hovermode": "closest",
          "paper_bgcolor": "white",
          "plot_bgcolor": "rgb(237,237,237)",
          "polar": {
           "angularaxis": {
            "gridcolor": "white",
            "linecolor": "white",
            "showgrid": true,
            "tickcolor": "rgb(51,51,51)",
            "ticks": "outside"
           },
           "bgcolor": "rgb(237,237,237)",
           "radialaxis": {
            "gridcolor": "white",
            "linecolor": "white",
            "showgrid": true,
            "tickcolor": "rgb(51,51,51)",
            "ticks": "outside"
           }
          },
          "scene": {
           "xaxis": {
            "backgroundcolor": "rgb(237,237,237)",
            "gridcolor": "white",
            "gridwidth": 2,
            "linecolor": "white",
            "showbackground": true,
            "showgrid": true,
            "tickcolor": "rgb(51,51,51)",
            "ticks": "outside",
            "zerolinecolor": "white"
           },
           "yaxis": {
            "backgroundcolor": "rgb(237,237,237)",
            "gridcolor": "white",
            "gridwidth": 2,
            "linecolor": "white",
            "showbackground": true,
            "showgrid": true,
            "tickcolor": "rgb(51,51,51)",
            "ticks": "outside",
            "zerolinecolor": "white"
           },
           "zaxis": {
            "backgroundcolor": "rgb(237,237,237)",
            "gridcolor": "white",
            "gridwidth": 2,
            "linecolor": "white",
            "showbackground": true,
            "showgrid": true,
            "tickcolor": "rgb(51,51,51)",
            "ticks": "outside",
            "zerolinecolor": "white"
           }
          },
          "shapedefaults": {
           "fillcolor": "black",
           "line": {
            "width": 0
           },
           "opacity": 0.3
          },
          "ternary": {
           "aaxis": {
            "gridcolor": "white",
            "linecolor": "white",
            "showgrid": true,
            "tickcolor": "rgb(51,51,51)",
            "ticks": "outside"
           },
           "baxis": {
            "gridcolor": "white",
            "linecolor": "white",
            "showgrid": true,
            "tickcolor": "rgb(51,51,51)",
            "ticks": "outside"
           },
           "bgcolor": "rgb(237,237,237)",
           "caxis": {
            "gridcolor": "white",
            "linecolor": "white",
            "showgrid": true,
            "tickcolor": "rgb(51,51,51)",
            "ticks": "outside"
           }
          },
          "xaxis": {
           "automargin": true,
           "gridcolor": "white",
           "linecolor": "white",
           "showgrid": true,
           "tickcolor": "rgb(51,51,51)",
           "ticks": "outside",
           "title": {
            "standoff": 15
           },
           "zerolinecolor": "white"
          },
          "yaxis": {
           "automargin": true,
           "gridcolor": "white",
           "linecolor": "white",
           "showgrid": true,
           "tickcolor": "rgb(51,51,51)",
           "ticks": "outside",
           "title": {
            "standoff": 15
           },
           "zerolinecolor": "white"
          }
         }
        },
        "title": {
         "text": "Usuarios que llegan a NDmax por día"
        },
        "width": 800,
        "xaxis": {
         "anchor": "y",
         "autorange": true,
         "domain": [
          0,
          1
         ],
         "range": [
          5.245382585751979,
          18.75461741424802
         ],
         "title": {
          "text": "Día"
         },
         "type": "linear"
        },
        "yaxis": {
         "anchor": "x",
         "domain": [
          0,
          1
         ],
         "range": [
          0,
          50
         ],
         "title": {
          "text": "Duelistas"
         },
         "type": "linear"
        }
       }
      },
      "image/png": "[encoded data removed]",
      "text/html": [
       "<div>                            <div id=\"7487c2a8-82be-4315-a79c-35590372afb6\" class=\"plotly-graph-div\" style=\"height:600px; width:800px;\"></div>            <script type=\"text/javascript\">                require([\"plotly\"], function(Plotly) {                    window.PLOTLYENV=window.PLOTLYENV || {};                                    if (document.getElementById(\"7487c2a8-82be-4315-a79c-35590372afb6\")) {                    Plotly.newPlot(                        \"7487c2a8-82be-4315-a79c-35590372afb6\",                        [{\"hovertemplate\":\"D\\u00eda=%{x}<br>Duelistas=%{text}<extra></extra>\",\"legendgroup\":\"\",\"line\":{\"color\":\"#F8766D\",\"dash\":\"solid\"},\"marker\":{\"symbol\":\"circle\"},\"mode\":\"lines+text+markers\",\"name\":\"\",\"orientation\":\"v\",\"showlegend\":false,\"text\":[9.0,14.0,25.0,33.0,37.0,33.0,42.0,34.0,36.0,33.0,16.0,17.0,33.0],\"x\":[6,7,8,9,10,11,12,13,14,15,16,17,18],\"xaxis\":\"x\",\"y\":[9,14,25,33,37,33,42,34,36,33,16,17,33],\"yaxis\":\"y\",\"type\":\"scatter\",\"textposition\":\"top center\"}],                        {\"template\":{\"data\":{\"barpolar\":[{\"marker\":{\"line\":{\"color\":\"rgb(237,237,237)\",\"width\":0.5},\"pattern\":{\"fillmode\":\"overlay\",\"size\":10,\"solidity\":0.2}},\"type\":\"barpolar\"}],\"bar\":[{\"error_x\":{\"color\":\"rgb(51,51,51)\"},\"error_y\":{\"color\":\"rgb(51,51,51)\"},\"marker\":{\"line\":{\"color\":\"rgb(237,237,237)\",\"width\":0.5},\"pattern\":{\"fillmode\":\"overlay\",\"size\":10,\"solidity\":0.2}},\"type\":\"bar\"}],\"carpet\":[{\"aaxis\":{\"endlinecolor\":\"rgb(51,51,51)\",\"gridcolor\":\"white\",\"linecolor\":\"white\",\"minorgridcolor\":\"white\",\"startlinecolor\":\"rgb(51,51,51)\"},\"baxis\":{\"endlinecolor\":\"rgb(51,51,51)\",\"gridcolor\":\"white\",\"linecolor\":\"white\",\"minorgridcolor\":\"white\",\"startlinecolor\":\"rgb(51,51,51)\"},\"type\":\"carpet\"}],\"choropleth\":[{\"colorbar\":{\"outlinewidth\":0,\"tickcolor\":\"rgb(237,237,237)\",\"ticklen\":6,\"ticks\":\"inside\"},\"type\":\"choropleth\"}],\"contourcarpet\":[{\"colorbar\":{\"outlinewidth\":0,\"tickcolor\":\"rgb(237,237,237)\",\"ticklen\":6,\"ticks\":\"inside\"},\"type\":\"contourcarpet\"}],\"contour\":[{\"colorbar\":{\"outlinewidth\":0,\"tickcolor\":\"rgb(237,237,237)\",\"ticklen\":6,\"ticks\":\"inside\"},\"colorscale\":[[0,\"rgb(20,44,66)\"],[1,\"rgb(90,179,244)\"]],\"type\":\"contour\"}],\"heatmapgl\":[{\"colorbar\":{\"outlinewidth\":0,\"tickcolor\":\"rgb(237,237,237)\",\"ticklen\":6,\"ticks\":\"inside\"},\"colorscale\":[[0,\"rgb(20,44,66)\"],[1,\"rgb(90,179,244)\"]],\"type\":\"heatmapgl\"}],\"heatmap\":[{\"colorbar\":{\"outlinewidth\":0,\"tickcolor\":\"rgb(237,237,237)\",\"ticklen\":6,\"ticks\":\"inside\"},\"colorscale\":[[0,\"rgb(20,44,66)\"],[1,\"rgb(90,179,244)\"]],\"type\":\"heatmap\"}],\"histogram2dcontour\":[{\"colorbar\":{\"outlinewidth\":0,\"tickcolor\":\"rgb(237,237,237)\",\"ticklen\":6,\"ticks\":\"inside\"},\"colorscale\":[[0,\"rgb(20,44,66)\"],[1,\"rgb(90,179,244)\"]],\"type\":\"histogram2dcontour\"}],\"histogram2d\":[{\"colorbar\":{\"outlinewidth\":0,\"tickcolor\":\"rgb(237,237,237)\",\"ticklen\":6,\"ticks\":\"inside\"},\"colorscale\":[[0,\"rgb(20,44,66)\"],[1,\"rgb(90,179,244)\"]],\"type\":\"histogram2d\"}],\"histogram\":[{\"marker\":{\"pattern\":{\"fillmode\":\"overlay\",\"size\":10,\"solidity\":0.2}},\"type\":\"histogram\"}],\"mesh3d\":[{\"colorbar\":{\"outlinewidth\":0,\"tickcolor\":\"rgb(237,237,237)\",\"ticklen\":6,\"ticks\":\"inside\"},\"type\":\"mesh3d\"}],\"parcoords\":[{\"line\":{\"colorbar\":{\"outlinewidth\":0,\"tickcolor\":\"rgb(237,237,237)\",\"ticklen\":6,\"ticks\":\"inside\"}},\"type\":\"parcoords\"}],\"pie\":[{\"automargin\":true,\"type\":\"pie\"}],\"scatter3d\":[{\"line\":{\"colorbar\":{\"outlinewidth\":0,\"tickcolor\":\"rgb(237,237,237)\",\"ticklen\":6,\"ticks\":\"inside\"}},\"marker\":{\"colorbar\":{\"outlinewidth\":0,\"tickcolor\":\"rgb(237,237,237)\",\"ticklen\":6,\"ticks\":\"inside\"}},\"type\":\"scatter3d\"}],\"scattercarpet\":[{\"marker\":{\"colorbar\":{\"outlinewidth\":0,\"tickcolor\":\"rgb(237,237,237)\",\"ticklen\":6,\"ticks\":\"inside\"}},\"type\":\"scattercarpet\"}],\"scattergeo\":[{\"marker\":{\"colorbar\":{\"outlinewidth\":0,\"tickcolor\":\"rgb(237,237,237)\",\"ticklen\":6,\"ticks\":\"inside\"}},\"type\":\"scattergeo\"}],\"scattergl\":[{\"marker\":{\"colorbar\":{\"outlinewidth\":0,\"tickcolor\":\"rgb(237,237,237)\",\"ticklen\":6,\"ticks\":\"inside\"}},\"type\":\"scattergl\"}],\"scattermapbox\":[{\"marker\":{\"colorbar\":{\"outlinewidth\":0,\"tickcolor\":\"rgb(237,237,237)\",\"ticklen\":6,\"ticks\":\"inside\"}},\"type\":\"scattermapbox\"}],\"scatterpolargl\":[{\"marker\":{\"colorbar\":{\"outlinewidth\":0,\"tickcolor\":\"rgb(237,237,237)\",\"ticklen\":6,\"ticks\":\"inside\"}},\"type\":\"scatterpolargl\"}],\"scatterpolar\":[{\"marker\":{\"colorbar\":{\"outlinewidth\":0,\"tickcolor\":\"rgb(237,237,237)\",\"ticklen\":6,\"ticks\":\"inside\"}},\"type\":\"scatterpolar\"}],\"scatter\":[{\"fillpattern\":{\"fillmode\":\"overlay\",\"size\":10,\"solidity\":0.2},\"type\":\"scatter\"}],\"scatterternary\":[{\"marker\":{\"colorbar\":{\"outlinewidth\":0,\"tickcolor\":\"rgb(237,237,237)\",\"ticklen\":6,\"ticks\":\"inside\"}},\"type\":\"scatterternary\"}],\"surface\":[{\"colorbar\":{\"outlinewidth\":0,\"tickcolor\":\"rgb(237,237,237)\",\"ticklen\":6,\"ticks\":\"inside\"},\"colorscale\":[[0,\"rgb(20,44,66)\"],[1,\"rgb(90,179,244)\"]],\"type\":\"surface\"}],\"table\":[{\"cells\":{\"fill\":{\"color\":\"rgb(237,237,237)\"},\"line\":{\"color\":\"white\"}},\"header\":{\"fill\":{\"color\":\"rgb(217,217,217)\"},\"line\":{\"color\":\"white\"}},\"type\":\"table\"}]},\"layout\":{\"annotationdefaults\":{\"arrowhead\":0,\"arrowwidth\":1},\"autotypenumbers\":\"strict\",\"coloraxis\":{\"colorbar\":{\"outlinewidth\":0,\"tickcolor\":\"rgb(237,237,237)\",\"ticklen\":6,\"ticks\":\"inside\"}},\"colorscale\":{\"sequential\":[[0,\"rgb(20,44,66)\"],[1,\"rgb(90,179,244)\"]],\"sequentialminus\":[[0,\"rgb(20,44,66)\"],[1,\"rgb(90,179,244)\"]]},\"colorway\":[\"#F8766D\",\"#A3A500\",\"#00BF7D\",\"#00B0F6\",\"#E76BF3\"],\"font\":{\"color\":\"rgb(51,51,51)\"},\"geo\":{\"bgcolor\":\"white\",\"lakecolor\":\"white\",\"landcolor\":\"rgb(237,237,237)\",\"showlakes\":true,\"showland\":true,\"subunitcolor\":\"white\"},\"hoverlabel\":{\"align\":\"left\"},\"hovermode\":\"closest\",\"paper_bgcolor\":\"white\",\"plot_bgcolor\":\"rgb(237,237,237)\",\"polar\":{\"angularaxis\":{\"gridcolor\":\"white\",\"linecolor\":\"white\",\"showgrid\":true,\"tickcolor\":\"rgb(51,51,51)\",\"ticks\":\"outside\"},\"bgcolor\":\"rgb(237,237,237)\",\"radialaxis\":{\"gridcolor\":\"white\",\"linecolor\":\"white\",\"showgrid\":true,\"tickcolor\":\"rgb(51,51,51)\",\"ticks\":\"outside\"}},\"scene\":{\"xaxis\":{\"backgroundcolor\":\"rgb(237,237,237)\",\"gridcolor\":\"white\",\"gridwidth\":2,\"linecolor\":\"white\",\"showbackground\":true,\"showgrid\":true,\"tickcolor\":\"rgb(51,51,51)\",\"ticks\":\"outside\",\"zerolinecolor\":\"white\"},\"yaxis\":{\"backgroundcolor\":\"rgb(237,237,237)\",\"gridcolor\":\"white\",\"gridwidth\":2,\"linecolor\":\"white\",\"showbackground\":true,\"showgrid\":true,\"tickcolor\":\"rgb(51,51,51)\",\"ticks\":\"outside\",\"zerolinecolor\":\"white\"},\"zaxis\":{\"backgroundcolor\":\"rgb(237,237,237)\",\"gridcolor\":\"white\",\"gridwidth\":2,\"linecolor\":\"white\",\"showbackground\":true,\"showgrid\":true,\"tickcolor\":\"rgb(51,51,51)\",\"ticks\":\"outside\",\"zerolinecolor\":\"white\"}},\"shapedefaults\":{\"fillcolor\":\"black\",\"line\":{\"width\":0},\"opacity\":0.3},\"ternary\":{\"aaxis\":{\"gridcolor\":\"white\",\"linecolor\":\"white\",\"showgrid\":true,\"tickcolor\":\"rgb(51,51,51)\",\"ticks\":\"outside\"},\"baxis\":{\"gridcolor\":\"white\",\"linecolor\":\"white\",\"showgrid\":true,\"tickcolor\":\"rgb(51,51,51)\",\"ticks\":\"outside\"},\"bgcolor\":\"rgb(237,237,237)\",\"caxis\":{\"gridcolor\":\"white\",\"linecolor\":\"white\",\"showgrid\":true,\"tickcolor\":\"rgb(51,51,51)\",\"ticks\":\"outside\"}},\"xaxis\":{\"automargin\":true,\"gridcolor\":\"white\",\"linecolor\":\"white\",\"showgrid\":true,\"tickcolor\":\"rgb(51,51,51)\",\"ticks\":\"outside\",\"title\":{\"standoff\":15},\"zerolinecolor\":\"white\"},\"yaxis\":{\"automargin\":true,\"gridcolor\":\"white\",\"linecolor\":\"white\",\"showgrid\":true,\"tickcolor\":\"rgb(51,51,51)\",\"ticks\":\"outside\",\"title\":{\"standoff\":15},\"zerolinecolor\":\"white\"}}},\"xaxis\":{\"anchor\":\"y\",\"domain\":[0.0,1.0],\"title\":{\"text\":\"D\\u00eda\"}},\"yaxis\":{\"anchor\":\"x\",\"domain\":[0.0,1.0],\"title\":{\"text\":\"Duelistas\"},\"range\":[0,50]},\"legend\":{\"tracegroupgap\":0},\"title\":{\"text\":\"Usuarios que llegan a NDmax por d\\u00eda\"},\"width\":800,\"height\":600},                        {\"responsive\": true}                    ).then(function(){\n",
       "                            \n",
       "var gd = document.getElementById('7487c2a8-82be-4315-a79c-35590372afb6');\n",
       "var x = new MutationObserver(function (mutations, observer) {{\n",
       "        var display = window.getComputedStyle(gd).display;\n",
       "        if (!display || display === 'none') {{\n",
       "            console.log([gd, 'removed!']);\n",
       "            Plotly.purge(gd);\n",
       "            observer.disconnect();\n",
       "        }}\n",
       "}});\n",
       "\n",
       "// Listen for the removal of the full notebook cells\n",
       "var notebookContainer = gd.closest('#notebook-container');\n",
       "if (notebookContainer) {{\n",
       "    x.observe(notebookContainer, {childList: true});\n",
       "}}\n",
       "\n",
       "// Listen for the clearing of the current output cell\n",
       "var outputEl = gd.closest('.output');\n",
       "if (outputEl) {{\n",
       "    x.observe(outputEl, {childList: true});\n",
       "}}\n",
       "\n",
       "                        })                };                });            </script>        </div>"
      ]
     },
     "metadata": {},
     "output_type": "display_data"
    },
    {
     "name": "stderr",
     "output_type": "stream",
     "text": [
      "En promedio suelen tardar hasta el día 12 para llegar a ndMAX\n"
     ]
    }
   ],
   "source": [
    "df['Día'] = pd.DatetimeIndex(df['ndmax']).day\n",
    "\n",
    "ndmax_fer_day = (\n",
    "    df.groupby(['Día'])['Día'].count()\n",
    "    .reset_index(name='Duelistas'))\n",
    "\n",
    "fig = px.line(\n",
    "    ndmax_fer_day, x=\"Día\", y=\"Duelistas\",\n",
    "    title=\"Usuarios que llegan a NDmax por día\", text=\"Duelistas\", template='ggplot2')\n",
    "fig.update_yaxes(range=[0, 50])\n",
    "fig.update_traces(textposition=\"top center\")\n",
    "fig.update_layout(width=800, height=600)\n",
    "fig.show()\n",
    "\n",
    "logging.info(f'En promedio suelen tardar hasta el día {round(df.day.mean())} para llegar a ndMAX')"
   ]
  },
  {
   "cell_type": "code",
   "execution_count": 76,
   "id": "285817ea-5bd6-4ffb-8614-df7cf5ce4ac7",
   "metadata": {},
   "outputs": [
    {
     "data": {
      "application/vnd.plotly.v1+json": {
       "config": {
        "plotlyServerURL": "https://plot.ly"
       },
       "data": [
        {
         "alignmentgroup": "True",
         "hovertemplate": "skill=Duelo Favorito<br>total=%{text}<br>deck=%{y}<extra></extra>",
         "legendgroup": "Duelo Favorito",
         "marker": {
          "color": "#F8766D",
          "pattern": {
           "shape": ""
          }
         },
         "name": "Duelo Favorito",
         "offsetgroup": "Duelo Favorito",
         "orientation": "h",
         "showlegend": true,
         "text": [
          16
         ],
         "textposition": "auto",
         "type": "bar",
         "x": [
          16
         ],
         "xaxis": "x",
         "y": [
          "Elemental Heros"
         ],
         "yaxis": "y"
        },
        {
         "alignmentgroup": "True",
         "hovertemplate": "skill=Galaxia XYZ<br>total=%{text}<br>deck=%{y}<extra></extra>",
         "legendgroup": "Galaxia XYZ",
         "marker": {
          "color": "#A3A500",
          "pattern": {
           "shape": ""
          }
         },
         "name": "Galaxia XYZ",
         "offsetgroup": "Galaxia XYZ",
         "orientation": "h",
         "showlegend": true,
         "text": [
          16
         ],
         "textposition": "auto",
         "type": "bar",
         "x": [
          16
         ],
         "xaxis": "x",
         "y": [
          "Galaxy-Eyes"
         ],
         "yaxis": "y"
        },
        {
         "alignmentgroup": "True",
         "hovertemplate": "skill=Fotónico de la Galaxia<br>total=%{text}<br>deck=%{y}<extra></extra>",
         "legendgroup": "Fotónico de la Galaxia",
         "marker": {
          "color": "#00BF7D",
          "pattern": {
           "shape": ""
          }
         },
         "name": "Fotónico de la Galaxia",
         "offsetgroup": "Fotónico de la Galaxia",
         "orientation": "h",
         "showlegend": true,
         "text": [
          1
         ],
         "textposition": "auto",
         "type": "bar",
         "x": [
          1
         ],
         "xaxis": "x",
         "y": [
          "Galaxy-Eyes"
         ],
         "yaxis": "y"
        },
        {
         "alignmentgroup": "True",
         "hovertemplate": "skill=Conjuro de Rosas<br>total=%{text}<br>deck=%{y}<extra></extra>",
         "legendgroup": "Conjuro de Rosas",
         "marker": {
          "color": "#00B0F6",
          "pattern": {
           "shape": ""
          }
         },
         "name": "Conjuro de Rosas",
         "offsetgroup": "Conjuro de Rosas",
         "orientation": "h",
         "showlegend": true,
         "text": [
          20
         ],
         "textposition": "auto",
         "type": "bar",
         "x": [
          20
         ],
         "xaxis": "x",
         "y": [
          "Rose Dragon"
         ],
         "yaxis": "y"
        },
        {
         "alignmentgroup": "True",
         "hovertemplate": "skill=Estrategia Fantasma<br>total=%{text}<br>deck=%{y}<extra></extra>",
         "legendgroup": "Estrategia Fantasma",
         "marker": {
          "color": "#E76BF3",
          "pattern": {
           "shape": ""
          }
         },
         "name": "Estrategia Fantasma",
         "offsetgroup": "Estrategia Fantasma",
         "orientation": "h",
         "showlegend": true,
         "text": [
          15
         ],
         "textposition": "auto",
         "type": "bar",
         "x": [
          15
         ],
         "xaxis": "x",
         "y": [
          "Phantom Knights"
         ],
         "yaxis": "y"
        },
        {
         "alignmentgroup": "True",
         "hovertemplate": "skill=La Orden de los Caballeros Fantasma<br>total=%{text}<br>deck=%{y}<extra></extra>",
         "legendgroup": "La Orden de los Caballeros Fantasma",
         "marker": {
          "color": "#F8766D",
          "pattern": {
           "shape": ""
          }
         },
         "name": "La Orden de los Caballeros Fantasma",
         "offsetgroup": "La Orden de los Caballeros Fantasma",
         "orientation": "h",
         "showlegend": true,
         "text": [
          7
         ],
         "textposition": "auto",
         "type": "bar",
         "x": [
          7
         ],
         "xaxis": "x",
         "y": [
          "Phantom Knights"
         ],
         "yaxis": "y"
        },
        {
         "alignmentgroup": "True",
         "hovertemplate": "skill=Refinamiento Meklord<br>total=%{text}<br>deck=%{y}<extra></extra>",
         "legendgroup": "Refinamiento Meklord",
         "marker": {
          "color": "#A3A500",
          "pattern": {
           "shape": ""
          }
         },
         "name": "Refinamiento Meklord",
         "offsetgroup": "Refinamiento Meklord",
         "orientation": "h",
         "showlegend": true,
         "text": [
          22
         ],
         "textposition": "auto",
         "type": "bar",
         "x": [
          22
         ],
         "xaxis": "x",
         "y": [
          "Meklord"
         ],
         "yaxis": "y"
        }
       ],
       "layout": {
        "barmode": "relative",
        "height": 600,
        "legend": {
         "title": {
          "text": "skill"
         },
         "tracegroupgap": 0
        },
        "showlegend": false,
        "template": {
         "data": {
          "bar": [
           {
            "error_x": {
             "color": "rgb(51,51,51)"
            },
            "error_y": {
             "color": "rgb(51,51,51)"
            },
            "marker": {
             "line": {
              "color": "rgb(237,237,237)",
              "width": 0.5
             },
             "pattern": {
              "fillmode": "overlay",
              "size": 10,
              "solidity": 0.2
             }
            },
            "type": "bar"
           }
          ],
          "barpolar": [
           {
            "marker": {
             "line": {
              "color": "rgb(237,237,237)",
              "width": 0.5
             },
             "pattern": {
              "fillmode": "overlay",
              "size": 10,
              "solidity": 0.2
             }
            },
            "type": "barpolar"
           }
          ],
          "carpet": [
           {
            "aaxis": {
             "endlinecolor": "rgb(51,51,51)",
             "gridcolor": "white",
             "linecolor": "white",
             "minorgridcolor": "white",
             "startlinecolor": "rgb(51,51,51)"
            },
            "baxis": {
             "endlinecolor": "rgb(51,51,51)",
             "gridcolor": "white",
             "linecolor": "white",
             "minorgridcolor": "white",
             "startlinecolor": "rgb(51,51,51)"
            },
            "type": "carpet"
           }
          ],
          "choropleth": [
           {
            "colorbar": {
             "outlinewidth": 0,
             "tickcolor": "rgb(237,237,237)",
             "ticklen": 6,
             "ticks": "inside"
            },
            "type": "choropleth"
           }
          ],
          "contour": [
           {
            "colorbar": {
             "outlinewidth": 0,
             "tickcolor": "rgb(237,237,237)",
             "ticklen": 6,
             "ticks": "inside"
            },
            "colorscale": [
             [
              0,
              "rgb(20,44,66)"
             ],
             [
              1,
              "rgb(90,179,244)"
             ]
            ],
            "type": "contour"
           }
          ],
          "contourcarpet": [
           {
            "colorbar": {
             "outlinewidth": 0,
             "tickcolor": "rgb(237,237,237)",
             "ticklen": 6,
             "ticks": "inside"
            },
            "type": "contourcarpet"
           }
          ],
          "heatmap": [
           {
            "colorbar": {
             "outlinewidth": 0,
             "tickcolor": "rgb(237,237,237)",
             "ticklen": 6,
             "ticks": "inside"
            },
            "colorscale": [
             [
              0,
              "rgb(20,44,66)"
             ],
             [
              1,
              "rgb(90,179,244)"
             ]
            ],
            "type": "heatmap"
           }
          ],
          "heatmapgl": [
           {
            "colorbar": {
             "outlinewidth": 0,
             "tickcolor": "rgb(237,237,237)",
             "ticklen": 6,
             "ticks": "inside"
            },
            "colorscale": [
             [
              0,
              "rgb(20,44,66)"
             ],
             [
              1,
              "rgb(90,179,244)"
             ]
            ],
            "type": "heatmapgl"
           }
          ],
          "histogram": [
           {
            "marker": {
             "pattern": {
              "fillmode": "overlay",
              "size": 10,
              "solidity": 0.2
             }
            },
            "type": "histogram"
           }
          ],
          "histogram2d": [
           {
            "colorbar": {
             "outlinewidth": 0,
             "tickcolor": "rgb(237,237,237)",
             "ticklen": 6,
             "ticks": "inside"
            },
            "colorscale": [
             [
              0,
              "rgb(20,44,66)"
             ],
             [
              1,
              "rgb(90,179,244)"
             ]
            ],
            "type": "histogram2d"
           }
          ],
          "histogram2dcontour": [
           {
            "colorbar": {
             "outlinewidth": 0,
             "tickcolor": "rgb(237,237,237)",
             "ticklen": 6,
             "ticks": "inside"
            },
            "colorscale": [
             [
              0,
              "rgb(20,44,66)"
             ],
             [
              1,
              "rgb(90,179,244)"
             ]
            ],
            "type": "histogram2dcontour"
           }
          ],
          "mesh3d": [
           {
            "colorbar": {
             "outlinewidth": 0,
             "tickcolor": "rgb(237,237,237)",
             "ticklen": 6,
             "ticks": "inside"
            },
            "type": "mesh3d"
           }
          ],
          "parcoords": [
           {
            "line": {
             "colorbar": {
              "outlinewidth": 0,
              "tickcolor": "rgb(237,237,237)",
              "ticklen": 6,
              "ticks": "inside"
             }
            },
            "type": "parcoords"
           }
          ],
          "pie": [
           {
            "automargin": true,
            "type": "pie"
           }
          ],
          "scatter": [
           {
            "fillpattern": {
             "fillmode": "overlay",
             "size": 10,
             "solidity": 0.2
            },
            "type": "scatter"
           }
          ],
          "scatter3d": [
           {
            "line": {
             "colorbar": {
              "outlinewidth": 0,
              "tickcolor": "rgb(237,237,237)",
              "ticklen": 6,
              "ticks": "inside"
             }
            },
            "marker": {
             "colorbar": {
              "outlinewidth": 0,
              "tickcolor": "rgb(237,237,237)",
              "ticklen": 6,
              "ticks": "inside"
             }
            },
            "type": "scatter3d"
           }
          ],
          "scattercarpet": [
           {
            "marker": {
             "colorbar": {
              "outlinewidth": 0,
              "tickcolor": "rgb(237,237,237)",
              "ticklen": 6,
              "ticks": "inside"
             }
            },
            "type": "scattercarpet"
           }
          ],
          "scattergeo": [
           {
            "marker": {
             "colorbar": {
              "outlinewidth": 0,
              "tickcolor": "rgb(237,237,237)",
              "ticklen": 6,
              "ticks": "inside"
             }
            },
            "type": "scattergeo"
           }
          ],
          "scattergl": [
           {
            "marker": {
             "colorbar": {
              "outlinewidth": 0,
              "tickcolor": "rgb(237,237,237)",
              "ticklen": 6,
              "ticks": "inside"
             }
            },
            "type": "scattergl"
           }
          ],
          "scattermapbox": [
           {
            "marker": {
             "colorbar": {
              "outlinewidth": 0,
              "tickcolor": "rgb(237,237,237)",
              "ticklen": 6,
              "ticks": "inside"
             }
            },
            "type": "scattermapbox"
           }
          ],
          "scatterpolar": [
           {
            "marker": {
             "colorbar": {
              "outlinewidth": 0,
              "tickcolor": "rgb(237,237,237)",
              "ticklen": 6,
              "ticks": "inside"
             }
            },
            "type": "scatterpolar"
           }
          ],
          "scatterpolargl": [
           {
            "marker": {
             "colorbar": {
              "outlinewidth": 0,
              "tickcolor": "rgb(237,237,237)",
              "ticklen": 6,
              "ticks": "inside"
             }
            },
            "type": "scatterpolargl"
           }
          ],
          "scatterternary": [
           {
            "marker": {
             "colorbar": {
              "outlinewidth": 0,
              "tickcolor": "rgb(237,237,237)",
              "ticklen": 6,
              "ticks": "inside"
             }
            },
            "type": "scatterternary"
           }
          ],
          "surface": [
           {
            "colorbar": {
             "outlinewidth": 0,
             "tickcolor": "rgb(237,237,237)",
             "ticklen": 6,
             "ticks": "inside"
            },
            "colorscale": [
             [
              0,
              "rgb(20,44,66)"
             ],
             [
              1,
              "rgb(90,179,244)"
             ]
            ],
            "type": "surface"
           }
          ],
          "table": [
           {
            "cells": {
             "fill": {
              "color": "rgb(237,237,237)"
             },
             "line": {
              "color": "white"
             }
            },
            "header": {
             "fill": {
              "color": "rgb(217,217,217)"
             },
             "line": {
              "color": "white"
             }
            },
            "type": "table"
           }
          ]
         },
         "layout": {
          "annotationdefaults": {
           "arrowhead": 0,
           "arrowwidth": 1
          },
          "autotypenumbers": "strict",
          "coloraxis": {
           "colorbar": {
            "outlinewidth": 0,
            "tickcolor": "rgb(237,237,237)",
            "ticklen": 6,
            "ticks": "inside"
           }
          },
          "colorscale": {
           "sequential": [
            [
             0,
             "rgb(20,44,66)"
            ],
            [
             1,
             "rgb(90,179,244)"
            ]
           ],
           "sequentialminus": [
            [
             0,
             "rgb(20,44,66)"
            ],
            [
             1,
             "rgb(90,179,244)"
            ]
           ]
          },
          "colorway": [
           "#F8766D",
           "#A3A500",
           "#00BF7D",
           "#00B0F6",
           "#E76BF3"
          ],
          "font": {
           "color": "rgb(51,51,51)"
          },
          "geo": {
           "bgcolor": "white",
           "lakecolor": "white",
           "landcolor": "rgb(237,237,237)",
           "showlakes": true,
           "showland": true,
           "subunitcolor": "white"
          },
          "hoverlabel": {
           "align": "left"
          },
          "hovermode": "closest",
          "paper_bgcolor": "white",
          "plot_bgcolor": "rgb(237,237,237)",
          "polar": {
           "angularaxis": {
            "gridcolor": "white",
            "linecolor": "white",
            "showgrid": true,
            "tickcolor": "rgb(51,51,51)",
            "ticks": "outside"
           },
           "bgcolor": "rgb(237,237,237)",
           "radialaxis": {
            "gridcolor": "white",
            "linecolor": "white",
            "showgrid": true,
            "tickcolor": "rgb(51,51,51)",
            "ticks": "outside"
           }
          },
          "scene": {
           "xaxis": {
            "backgroundcolor": "rgb(237,237,237)",
            "gridcolor": "white",
            "gridwidth": 2,
            "linecolor": "white",
            "showbackground": true,
            "showgrid": true,
            "tickcolor": "rgb(51,51,51)",
            "ticks": "outside",
            "zerolinecolor": "white"
           },
           "yaxis": {
            "backgroundcolor": "rgb(237,237,237)",
            "gridcolor": "white",
            "gridwidth": 2,
            "linecolor": "white",
            "showbackground": true,
            "showgrid": true,
            "tickcolor": "rgb(51,51,51)",
            "ticks": "outside",
            "zerolinecolor": "white"
           },
           "zaxis": {
            "backgroundcolor": "rgb(237,237,237)",
            "gridcolor": "white",
            "gridwidth": 2,
            "linecolor": "white",
            "showbackground": true,
            "showgrid": true,
            "tickcolor": "rgb(51,51,51)",
            "ticks": "outside",
            "zerolinecolor": "white"
           }
          },
          "shapedefaults": {
           "fillcolor": "black",
           "line": {
            "width": 0
           },
           "opacity": 0.3
          },
          "ternary": {
           "aaxis": {
            "gridcolor": "white",
            "linecolor": "white",
            "showgrid": true,
            "tickcolor": "rgb(51,51,51)",
            "ticks": "outside"
           },
           "baxis": {
            "gridcolor": "white",
            "linecolor": "white",
            "showgrid": true,
            "tickcolor": "rgb(51,51,51)",
            "ticks": "outside"
           },
           "bgcolor": "rgb(237,237,237)",
           "caxis": {
            "gridcolor": "white",
            "linecolor": "white",
            "showgrid": true,
            "tickcolor": "rgb(51,51,51)",
            "ticks": "outside"
           }
          },
          "xaxis": {
           "automargin": true,
           "gridcolor": "white",
           "linecolor": "white",
           "showgrid": true,
           "tickcolor": "rgb(51,51,51)",
           "ticks": "outside",
           "title": {
            "standoff": 15
           },
           "zerolinecolor": "white"
          },
          "yaxis": {
           "automargin": true,
           "gridcolor": "white",
           "linecolor": "white",
           "showgrid": true,
           "tickcolor": "rgb(51,51,51)",
           "ticks": "outside",
           "title": {
            "standoff": 15
           },
           "zerolinecolor": "white"
          }
         }
        },
        "title": {
         "text": "Top Decks NDmax Qualifers WCS 2023"
        },
        "width": 800,
        "xaxis": {
         "anchor": "y",
         "autorange": true,
         "domain": [
          0,
          1
         ],
         "range": [
          0,
          23.157894736842106
         ],
         "title": {
          "text": "Total"
         },
         "type": "linear"
        },
        "yaxis": {
         "anchor": "x",
         "autorange": true,
         "domain": [
          0,
          1
         ],
         "range": [
          -0.5,
          4.5
         ],
         "title": {
          "text": "Decks"
         },
         "type": "category"
        }
       }
      },
      "image/png": "[encoded data removed]",
      "text/html": [
       "<div>                            <div id=\"fb78fa82-53d8-4e15-b6a2-94f04cd11165\" class=\"plotly-graph-div\" style=\"height:600px; width:800px;\"></div>            <script type=\"text/javascript\">                require([\"plotly\"], function(Plotly) {                    window.PLOTLYENV=window.PLOTLYENV || {};                                    if (document.getElementById(\"fb78fa82-53d8-4e15-b6a2-94f04cd11165\")) {                    Plotly.newPlot(                        \"fb78fa82-53d8-4e15-b6a2-94f04cd11165\",                        [{\"alignmentgroup\":\"True\",\"hovertemplate\":\"skill=Duelo Favorito<br>total=%{text}<br>deck=%{y}<extra></extra>\",\"legendgroup\":\"Duelo Favorito\",\"marker\":{\"color\":\"#F8766D\",\"pattern\":{\"shape\":\"\"}},\"name\":\"Duelo Favorito\",\"offsetgroup\":\"Duelo Favorito\",\"orientation\":\"h\",\"showlegend\":true,\"text\":[16.0],\"textposition\":\"auto\",\"x\":[16],\"xaxis\":\"x\",\"y\":[\"Elemental Heros\"],\"yaxis\":\"y\",\"type\":\"bar\"},{\"alignmentgroup\":\"True\",\"hovertemplate\":\"skill=Galaxia XYZ<br>total=%{text}<br>deck=%{y}<extra></extra>\",\"legendgroup\":\"Galaxia XYZ\",\"marker\":{\"color\":\"#A3A500\",\"pattern\":{\"shape\":\"\"}},\"name\":\"Galaxia XYZ\",\"offsetgroup\":\"Galaxia XYZ\",\"orientation\":\"h\",\"showlegend\":true,\"text\":[16.0],\"textposition\":\"auto\",\"x\":[16],\"xaxis\":\"x\",\"y\":[\"Galaxy-Eyes\"],\"yaxis\":\"y\",\"type\":\"bar\"},{\"alignmentgroup\":\"True\",\"hovertemplate\":\"skill=Fot\\u00f3nico de la Galaxia<br>total=%{text}<br>deck=%{y}<extra></extra>\",\"legendgroup\":\"Fot\\u00f3nico de la Galaxia\",\"marker\":{\"color\":\"#00BF7D\",\"pattern\":{\"shape\":\"\"}},\"name\":\"Fot\\u00f3nico de la Galaxia\",\"offsetgroup\":\"Fot\\u00f3nico de la Galaxia\",\"orientation\":\"h\",\"showlegend\":true,\"text\":[1.0],\"textposition\":\"auto\",\"x\":[1],\"xaxis\":\"x\",\"y\":[\"Galaxy-Eyes\"],\"yaxis\":\"y\",\"type\":\"bar\"},{\"alignmentgroup\":\"True\",\"hovertemplate\":\"skill=Conjuro de Rosas<br>total=%{text}<br>deck=%{y}<extra></extra>\",\"legendgroup\":\"Conjuro de Rosas\",\"marker\":{\"color\":\"#00B0F6\",\"pattern\":{\"shape\":\"\"}},\"name\":\"Conjuro de Rosas\",\"offsetgroup\":\"Conjuro de Rosas\",\"orientation\":\"h\",\"showlegend\":true,\"text\":[20.0],\"textposition\":\"auto\",\"x\":[20],\"xaxis\":\"x\",\"y\":[\"Rose Dragon\"],\"yaxis\":\"y\",\"type\":\"bar\"},{\"alignmentgroup\":\"True\",\"hovertemplate\":\"skill=Estrategia Fantasma<br>total=%{text}<br>deck=%{y}<extra></extra>\",\"legendgroup\":\"Estrategia Fantasma\",\"marker\":{\"color\":\"#E76BF3\",\"pattern\":{\"shape\":\"\"}},\"name\":\"Estrategia Fantasma\",\"offsetgroup\":\"Estrategia Fantasma\",\"orientation\":\"h\",\"showlegend\":true,\"text\":[15.0],\"textposition\":\"auto\",\"x\":[15],\"xaxis\":\"x\",\"y\":[\"Phantom Knights\"],\"yaxis\":\"y\",\"type\":\"bar\"},{\"alignmentgroup\":\"True\",\"hovertemplate\":\"skill=La Orden de los Caballeros Fantasma<br>total=%{text}<br>deck=%{y}<extra></extra>\",\"legendgroup\":\"La Orden de los Caballeros Fantasma\",\"marker\":{\"color\":\"#F8766D\",\"pattern\":{\"shape\":\"\"}},\"name\":\"La Orden de los Caballeros Fantasma\",\"offsetgroup\":\"La Orden de los Caballeros Fantasma\",\"orientation\":\"h\",\"showlegend\":true,\"text\":[7.0],\"textposition\":\"auto\",\"x\":[7],\"xaxis\":\"x\",\"y\":[\"Phantom Knights\"],\"yaxis\":\"y\",\"type\":\"bar\"},{\"alignmentgroup\":\"True\",\"hovertemplate\":\"skill=Refinamiento Meklord<br>total=%{text}<br>deck=%{y}<extra></extra>\",\"legendgroup\":\"Refinamiento Meklord\",\"marker\":{\"color\":\"#A3A500\",\"pattern\":{\"shape\":\"\"}},\"name\":\"Refinamiento Meklord\",\"offsetgroup\":\"Refinamiento Meklord\",\"orientation\":\"h\",\"showlegend\":true,\"text\":[22.0],\"textposition\":\"auto\",\"x\":[22],\"xaxis\":\"x\",\"y\":[\"Meklord\"],\"yaxis\":\"y\",\"type\":\"bar\"}],                        {\"template\":{\"data\":{\"barpolar\":[{\"marker\":{\"line\":{\"color\":\"rgb(237,237,237)\",\"width\":0.5},\"pattern\":{\"fillmode\":\"overlay\",\"size\":10,\"solidity\":0.2}},\"type\":\"barpolar\"}],\"bar\":[{\"error_x\":{\"color\":\"rgb(51,51,51)\"},\"error_y\":{\"color\":\"rgb(51,51,51)\"},\"marker\":{\"line\":{\"color\":\"rgb(237,237,237)\",\"width\":0.5},\"pattern\":{\"fillmode\":\"overlay\",\"size\":10,\"solidity\":0.2}},\"type\":\"bar\"}],\"carpet\":[{\"aaxis\":{\"endlinecolor\":\"rgb(51,51,51)\",\"gridcolor\":\"white\",\"linecolor\":\"white\",\"minorgridcolor\":\"white\",\"startlinecolor\":\"rgb(51,51,51)\"},\"baxis\":{\"endlinecolor\":\"rgb(51,51,51)\",\"gridcolor\":\"white\",\"linecolor\":\"white\",\"minorgridcolor\":\"white\",\"startlinecolor\":\"rgb(51,51,51)\"},\"type\":\"carpet\"}],\"choropleth\":[{\"colorbar\":{\"outlinewidth\":0,\"tickcolor\":\"rgb(237,237,237)\",\"ticklen\":6,\"ticks\":\"inside\"},\"type\":\"choropleth\"}],\"contourcarpet\":[{\"colorbar\":{\"outlinewidth\":0,\"tickcolor\":\"rgb(237,237,237)\",\"ticklen\":6,\"ticks\":\"inside\"},\"type\":\"contourcarpet\"}],\"contour\":[{\"colorbar\":{\"outlinewidth\":0,\"tickcolor\":\"rgb(237,237,237)\",\"ticklen\":6,\"ticks\":\"inside\"},\"colorscale\":[[0,\"rgb(20,44,66)\"],[1,\"rgb(90,179,244)\"]],\"type\":\"contour\"}],\"heatmapgl\":[{\"colorbar\":{\"outlinewidth\":0,\"tickcolor\":\"rgb(237,237,237)\",\"ticklen\":6,\"ticks\":\"inside\"},\"colorscale\":[[0,\"rgb(20,44,66)\"],[1,\"rgb(90,179,244)\"]],\"type\":\"heatmapgl\"}],\"heatmap\":[{\"colorbar\":{\"outlinewidth\":0,\"tickcolor\":\"rgb(237,237,237)\",\"ticklen\":6,\"ticks\":\"inside\"},\"colorscale\":[[0,\"rgb(20,44,66)\"],[1,\"rgb(90,179,244)\"]],\"type\":\"heatmap\"}],\"histogram2dcontour\":[{\"colorbar\":{\"outlinewidth\":0,\"tickcolor\":\"rgb(237,237,237)\",\"ticklen\":6,\"ticks\":\"inside\"},\"colorscale\":[[0,\"rgb(20,44,66)\"],[1,\"rgb(90,179,244)\"]],\"type\":\"histogram2dcontour\"}],\"histogram2d\":[{\"colorbar\":{\"outlinewidth\":0,\"tickcolor\":\"rgb(237,237,237)\",\"ticklen\":6,\"ticks\":\"inside\"},\"colorscale\":[[0,\"rgb(20,44,66)\"],[1,\"rgb(90,179,244)\"]],\"type\":\"histogram2d\"}],\"histogram\":[{\"marker\":{\"pattern\":{\"fillmode\":\"overlay\",\"size\":10,\"solidity\":0.2}},\"type\":\"histogram\"}],\"mesh3d\":[{\"colorbar\":{\"outlinewidth\":0,\"tickcolor\":\"rgb(237,237,237)\",\"ticklen\":6,\"ticks\":\"inside\"},\"type\":\"mesh3d\"}],\"parcoords\":[{\"line\":{\"colorbar\":{\"outlinewidth\":0,\"tickcolor\":\"rgb(237,237,237)\",\"ticklen\":6,\"ticks\":\"inside\"}},\"type\":\"parcoords\"}],\"pie\":[{\"automargin\":true,\"type\":\"pie\"}],\"scatter3d\":[{\"line\":{\"colorbar\":{\"outlinewidth\":0,\"tickcolor\":\"rgb(237,237,237)\",\"ticklen\":6,\"ticks\":\"inside\"}},\"marker\":{\"colorbar\":{\"outlinewidth\":0,\"tickcolor\":\"rgb(237,237,237)\",\"ticklen\":6,\"ticks\":\"inside\"}},\"type\":\"scatter3d\"}],\"scattercarpet\":[{\"marker\":{\"colorbar\":{\"outlinewidth\":0,\"tickcolor\":\"rgb(237,237,237)\",\"ticklen\":6,\"ticks\":\"inside\"}},\"type\":\"scattercarpet\"}],\"scattergeo\":[{\"marker\":{\"colorbar\":{\"outlinewidth\":0,\"tickcolor\":\"rgb(237,237,237)\",\"ticklen\":6,\"ticks\":\"inside\"}},\"type\":\"scattergeo\"}],\"scattergl\":[{\"marker\":{\"colorbar\":{\"outlinewidth\":0,\"tickcolor\":\"rgb(237,237,237)\",\"ticklen\":6,\"ticks\":\"inside\"}},\"type\":\"scattergl\"}],\"scattermapbox\":[{\"marker\":{\"colorbar\":{\"outlinewidth\":0,\"tickcolor\":\"rgb(237,237,237)\",\"ticklen\":6,\"ticks\":\"inside\"}},\"type\":\"scattermapbox\"}],\"scatterpolargl\":[{\"marker\":{\"colorbar\":{\"outlinewidth\":0,\"tickcolor\":\"rgb(237,237,237)\",\"ticklen\":6,\"ticks\":\"inside\"}},\"type\":\"scatterpolargl\"}],\"scatterpolar\":[{\"marker\":{\"colorbar\":{\"outlinewidth\":0,\"tickcolor\":\"rgb(237,237,237)\",\"ticklen\":6,\"ticks\":\"inside\"}},\"type\":\"scatterpolar\"}],\"scatter\":[{\"fillpattern\":{\"fillmode\":\"overlay\",\"size\":10,\"solidity\":0.2},\"type\":\"scatter\"}],\"scatterternary\":[{\"marker\":{\"colorbar\":{\"outlinewidth\":0,\"tickcolor\":\"rgb(237,237,237)\",\"ticklen\":6,\"ticks\":\"inside\"}},\"type\":\"scatterternary\"}],\"surface\":[{\"colorbar\":{\"outlinewidth\":0,\"tickcolor\":\"rgb(237,237,237)\",\"ticklen\":6,\"ticks\":\"inside\"},\"colorscale\":[[0,\"rgb(20,44,66)\"],[1,\"rgb(90,179,244)\"]],\"type\":\"surface\"}],\"table\":[{\"cells\":{\"fill\":{\"color\":\"rgb(237,237,237)\"},\"line\":{\"color\":\"white\"}},\"header\":{\"fill\":{\"color\":\"rgb(217,217,217)\"},\"line\":{\"color\":\"white\"}},\"type\":\"table\"}]},\"layout\":{\"annotationdefaults\":{\"arrowhead\":0,\"arrowwidth\":1},\"autotypenumbers\":\"strict\",\"coloraxis\":{\"colorbar\":{\"outlinewidth\":0,\"tickcolor\":\"rgb(237,237,237)\",\"ticklen\":6,\"ticks\":\"inside\"}},\"colorscale\":{\"sequential\":[[0,\"rgb(20,44,66)\"],[1,\"rgb(90,179,244)\"]],\"sequentialminus\":[[0,\"rgb(20,44,66)\"],[1,\"rgb(90,179,244)\"]]},\"colorway\":[\"#F8766D\",\"#A3A500\",\"#00BF7D\",\"#00B0F6\",\"#E76BF3\"],\"font\":{\"color\":\"rgb(51,51,51)\"},\"geo\":{\"bgcolor\":\"white\",\"lakecolor\":\"white\",\"landcolor\":\"rgb(237,237,237)\",\"showlakes\":true,\"showland\":true,\"subunitcolor\":\"white\"},\"hoverlabel\":{\"align\":\"left\"},\"hovermode\":\"closest\",\"paper_bgcolor\":\"white\",\"plot_bgcolor\":\"rgb(237,237,237)\",\"polar\":{\"angularaxis\":{\"gridcolor\":\"white\",\"linecolor\":\"white\",\"showgrid\":true,\"tickcolor\":\"rgb(51,51,51)\",\"ticks\":\"outside\"},\"bgcolor\":\"rgb(237,237,237)\",\"radialaxis\":{\"gridcolor\":\"white\",\"linecolor\":\"white\",\"showgrid\":true,\"tickcolor\":\"rgb(51,51,51)\",\"ticks\":\"outside\"}},\"scene\":{\"xaxis\":{\"backgroundcolor\":\"rgb(237,237,237)\",\"gridcolor\":\"white\",\"gridwidth\":2,\"linecolor\":\"white\",\"showbackground\":true,\"showgrid\":true,\"tickcolor\":\"rgb(51,51,51)\",\"ticks\":\"outside\",\"zerolinecolor\":\"white\"},\"yaxis\":{\"backgroundcolor\":\"rgb(237,237,237)\",\"gridcolor\":\"white\",\"gridwidth\":2,\"linecolor\":\"white\",\"showbackground\":true,\"showgrid\":true,\"tickcolor\":\"rgb(51,51,51)\",\"ticks\":\"outside\",\"zerolinecolor\":\"white\"},\"zaxis\":{\"backgroundcolor\":\"rgb(237,237,237)\",\"gridcolor\":\"white\",\"gridwidth\":2,\"linecolor\":\"white\",\"showbackground\":true,\"showgrid\":true,\"tickcolor\":\"rgb(51,51,51)\",\"ticks\":\"outside\",\"zerolinecolor\":\"white\"}},\"shapedefaults\":{\"fillcolor\":\"black\",\"line\":{\"width\":0},\"opacity\":0.3},\"ternary\":{\"aaxis\":{\"gridcolor\":\"white\",\"linecolor\":\"white\",\"showgrid\":true,\"tickcolor\":\"rgb(51,51,51)\",\"ticks\":\"outside\"},\"baxis\":{\"gridcolor\":\"white\",\"linecolor\":\"white\",\"showgrid\":true,\"tickcolor\":\"rgb(51,51,51)\",\"ticks\":\"outside\"},\"bgcolor\":\"rgb(237,237,237)\",\"caxis\":{\"gridcolor\":\"white\",\"linecolor\":\"white\",\"showgrid\":true,\"tickcolor\":\"rgb(51,51,51)\",\"ticks\":\"outside\"}},\"xaxis\":{\"automargin\":true,\"gridcolor\":\"white\",\"linecolor\":\"white\",\"showgrid\":true,\"tickcolor\":\"rgb(51,51,51)\",\"ticks\":\"outside\",\"title\":{\"standoff\":15},\"zerolinecolor\":\"white\"},\"yaxis\":{\"automargin\":true,\"gridcolor\":\"white\",\"linecolor\":\"white\",\"showgrid\":true,\"tickcolor\":\"rgb(51,51,51)\",\"ticks\":\"outside\",\"title\":{\"standoff\":15},\"zerolinecolor\":\"white\"}}},\"xaxis\":{\"anchor\":\"y\",\"domain\":[0.0,1.0],\"title\":{\"text\":\"Total\"}},\"yaxis\":{\"anchor\":\"x\",\"domain\":[0.0,1.0],\"title\":{\"text\":\"Decks\"}},\"legend\":{\"title\":{\"text\":\"skill\"},\"tracegroupgap\":0},\"title\":{\"text\":\"Top Decks NDmax Qualifers WCS 2023\"},\"barmode\":\"relative\",\"showlegend\":false,\"width\":800,\"height\":600},                        {\"responsive\": true}                    ).then(function(){\n",
       "                            \n",
       "var gd = document.getElementById('fb78fa82-53d8-4e15-b6a2-94f04cd11165');\n",
       "var x = new MutationObserver(function (mutations, observer) {{\n",
       "        var display = window.getComputedStyle(gd).display;\n",
       "        if (!display || display === 'none') {{\n",
       "            console.log([gd, 'removed!']);\n",
       "            Plotly.purge(gd);\n",
       "            observer.disconnect();\n",
       "        }}\n",
       "}});\n",
       "\n",
       "// Listen for the removal of the full notebook cells\n",
       "var notebookContainer = gd.closest('#notebook-container');\n",
       "if (notebookContainer) {{\n",
       "    x.observe(notebookContainer, {childList: true});\n",
       "}}\n",
       "\n",
       "// Listen for the clearing of the current output cell\n",
       "var outputEl = gd.closest('.output');\n",
       "if (outputEl) {{\n",
       "    x.observe(outputEl, {childList: true});\n",
       "}}\n",
       "\n",
       "                        })                };                });            </script>        </div>"
      ]
     },
     "metadata": {},
     "output_type": "display_data"
    },
    {
     "name": "stderr",
     "output_type": "stream",
     "text": [
      "De 72 arquetipos distintos este el top 5\n"
     ]
    }
   ],
   "source": [
    "resume = (\n",
    "    df.groupby(['deck','skill'])['skill'].size()\n",
    "    .reset_index(name='total')\n",
    "    .sort_values('total', ascending=0)\n",
    ")\n",
    "\n",
    "meklord = resume.query(\"deck=='Meklord'\")\n",
    "pecas = resume.query(\"deck=='Phantom Knights'\")\n",
    "rose_dragon = resume.query(\"deck=='Rose Dragon'\")\n",
    "galaxy_eyes = resume.query(\"deck=='Galaxy-Eyes'\")\n",
    "e_heros = resume.query(\"deck=='Elemental Heros'\")\n",
    "\n",
    "topfive=pd.concat([eheros, galaxy_eyes, rose_dragon, pecas, meklord], ignore_index=True)\n",
    "\n",
    "fig = px.bar(topfive, y='deck', x=\"total\", color=\"skill\",\n",
    "                title=\"Top Decks NDmax Qualifers WCS 2023\", text=\"total\", \n",
    "                orientation='h', template=\"ggplot2\")\n",
    "fig.update_layout(showlegend=False, width=800, height=600, xaxis_title=\"Total\", yaxis_title=\"Decks\")\n",
    "fig.show()\n",
    "logging.info(f'De {df[\"deck\"].nunique()} arquetipos distintos este el top 5')"
   ]
  },
  {
   "cell_type": "code",
   "execution_count": 62,
   "id": "727719e5-28fb-4553-84d7-68924237b9d1",
   "metadata": {},
   "outputs": [
    {
     "name": "stderr",
     "output_type": "stream",
     "text": [
      "Tabla de todos los mazos que usan Robo del Destino\n"
     ]
    },
    {
     "data": {
      "application/vnd.plotly.v1+json": {
       "config": {
        "plotlyServerURL": "https://plot.ly"
       },
       "data": [
        {
         "branchvalues": "total",
         "domain": {
          "x": [
           0,
           1
          ],
          "y": [
           0,
           1
          ]
         },
         "hovertemplate": "labels=%{label}<br>total=%{value}<br>parent=%{parent}<br>id=%{id}<extra></extra>",
         "ids": [
          "Robo del Destino/Dark Magician",
          "Robo del Destino/Dragunity",
          "Robo del Destino/Gravekeepers",
          "Robo del Destino/Harpies",
          "Robo del Destino/Lunalight",
          "Robo del Destino/Magnet Warrios",
          "Robo del Destino/Satellarknights",
          "Robo del Destino/Shiranui",
          "Robo del Destino/Super Quant",
          "Robo del Destino/Yosenjus",
          "Robo del Destino"
         ],
         "labels": [
          "Dark Magician",
          "Dragunity",
          "Gravekeepers",
          "Harpies",
          "Lunalight",
          "Magnet Warrios",
          "Satellarknights",
          "Shiranui",
          "Super Quant",
          "Yosenjus",
          "Robo del Destino"
         ],
         "name": "",
         "parents": [
          "Robo del Destino",
          "Robo del Destino",
          "Robo del Destino",
          "Robo del Destino",
          "Robo del Destino",
          "Robo del Destino",
          "Robo del Destino",
          "Robo del Destino",
          "Robo del Destino",
          "Robo del Destino",
          ""
         ],
         "type": "treemap",
         "values": [
          7,
          1,
          3,
          1,
          6,
          2,
          13,
          4,
          1,
          2,
          40
         ]
        }
       ],
       "layout": {
        "autosize": true,
        "legend": {
         "tracegroupgap": 0
        },
        "margin": {
         "b": 25,
         "l": 25,
         "r": 25,
         "t": 50
        },
        "template": {
         "data": {
          "bar": [
           {
            "error_x": {
             "color": "#2a3f5f"
            },
            "error_y": {
             "color": "#2a3f5f"
            },
            "marker": {
             "line": {
              "color": "#E5ECF6",
              "width": 0.5
             },
             "pattern": {
              "fillmode": "overlay",
              "size": 10,
              "solidity": 0.2
             }
            },
            "type": "bar"
           }
          ],
          "barpolar": [
           {
            "marker": {
             "line": {
              "color": "#E5ECF6",
              "width": 0.5
             },
             "pattern": {
              "fillmode": "overlay",
              "size": 10,
              "solidity": 0.2
             }
            },
            "type": "barpolar"
           }
          ],
          "carpet": [
           {
            "aaxis": {
             "endlinecolor": "#2a3f5f",
             "gridcolor": "white",
             "linecolor": "white",
             "minorgridcolor": "white",
             "startlinecolor": "#2a3f5f"
            },
            "baxis": {
             "endlinecolor": "#2a3f5f",
             "gridcolor": "white",
             "linecolor": "white",
             "minorgridcolor": "white",
             "startlinecolor": "#2a3f5f"
            },
            "type": "carpet"
           }
          ],
          "choropleth": [
           {
            "colorbar": {
             "outlinewidth": 0,
             "ticks": ""
            },
            "type": "choropleth"
           }
          ],
          "contour": [
           {
            "colorbar": {
             "outlinewidth": 0,
             "ticks": ""
            },
            "colorscale": [
             [
              0,
              "#0d0887"
             ],
             [
              0.1111111111111111,
              "#46039f"
             ],
             [
              0.2222222222222222,
              "#7201a8"
             ],
             [
              0.3333333333333333,
              "#9c179e"
             ],
             [
              0.4444444444444444,
              "#bd3786"
             ],
             [
              0.5555555555555556,
              "#d8576b"
             ],
             [
              0.6666666666666666,
              "#ed7953"
             ],
             [
              0.7777777777777778,
              "#fb9f3a"
             ],
             [
              0.8888888888888888,
              "#fdca26"
             ],
             [
              1,
              "#f0f921"
             ]
            ],
            "type": "contour"
           }
          ],
          "contourcarpet": [
           {
            "colorbar": {
             "outlinewidth": 0,
             "ticks": ""
            },
            "type": "contourcarpet"
           }
          ],
          "heatmap": [
           {
            "colorbar": {
             "outlinewidth": 0,
             "ticks": ""
            },
            "colorscale": [
             [
              0,
              "#0d0887"
             ],
             [
              0.1111111111111111,
              "#46039f"
             ],
             [
              0.2222222222222222,
              "#7201a8"
             ],
             [
              0.3333333333333333,
              "#9c179e"
             ],
             [
              0.4444444444444444,
              "#bd3786"
             ],
             [
              0.5555555555555556,
              "#d8576b"
             ],
             [
              0.6666666666666666,
              "#ed7953"
             ],
             [
              0.7777777777777778,
              "#fb9f3a"
             ],
             [
              0.8888888888888888,
              "#fdca26"
             ],
             [
              1,
              "#f0f921"
             ]
            ],
            "type": "heatmap"
           }
          ],
          "heatmapgl": [
           {
            "colorbar": {
             "outlinewidth": 0,
             "ticks": ""
            },
            "colorscale": [
             [
              0,
              "#0d0887"
             ],
             [
              0.1111111111111111,
              "#46039f"
             ],
             [
              0.2222222222222222,
              "#7201a8"
             ],
             [
              0.3333333333333333,
              "#9c179e"
             ],
             [
              0.4444444444444444,
              "#bd3786"
             ],
             [
              0.5555555555555556,
              "#d8576b"
             ],
             [
              0.6666666666666666,
              "#ed7953"
             ],
             [
              0.7777777777777778,
              "#fb9f3a"
             ],
             [
              0.8888888888888888,
              "#fdca26"
             ],
             [
              1,
              "#f0f921"
             ]
            ],
            "type": "heatmapgl"
           }
          ],
          "histogram": [
           {
            "marker": {
             "pattern": {
              "fillmode": "overlay",
              "size": 10,
              "solidity": 0.2
             }
            },
            "type": "histogram"
           }
          ],
          "histogram2d": [
           {
            "colorbar": {
             "outlinewidth": 0,
             "ticks": ""
            },
            "colorscale": [
             [
              0,
              "#0d0887"
             ],
             [
              0.1111111111111111,
              "#46039f"
             ],
             [
              0.2222222222222222,
              "#7201a8"
             ],
             [
              0.3333333333333333,
              "#9c179e"
             ],
             [
              0.4444444444444444,
              "#bd3786"
             ],
             [
              0.5555555555555556,
              "#d8576b"
             ],
             [
              0.6666666666666666,
              "#ed7953"
             ],
             [
              0.7777777777777778,
              "#fb9f3a"
             ],
             [
              0.8888888888888888,
              "#fdca26"
             ],
             [
              1,
              "#f0f921"
             ]
            ],
            "type": "histogram2d"
           }
          ],
          "histogram2dcontour": [
           {
            "colorbar": {
             "outlinewidth": 0,
             "ticks": ""
            },
            "colorscale": [
             [
              0,
              "#0d0887"
             ],
             [
              0.1111111111111111,
              "#46039f"
             ],
             [
              0.2222222222222222,
              "#7201a8"
             ],
             [
              0.3333333333333333,
              "#9c179e"
             ],
             [
              0.4444444444444444,
              "#bd3786"
             ],
             [
              0.5555555555555556,
              "#d8576b"
             ],
             [
              0.6666666666666666,
              "#ed7953"
             ],
             [
              0.7777777777777778,
              "#fb9f3a"
             ],
             [
              0.8888888888888888,
              "#fdca26"
             ],
             [
              1,
              "#f0f921"
             ]
            ],
            "type": "histogram2dcontour"
           }
          ],
          "mesh3d": [
           {
            "colorbar": {
             "outlinewidth": 0,
             "ticks": ""
            },
            "type": "mesh3d"
           }
          ],
          "parcoords": [
           {
            "line": {
             "colorbar": {
              "outlinewidth": 0,
              "ticks": ""
             }
            },
            "type": "parcoords"
           }
          ],
          "pie": [
           {
            "automargin": true,
            "type": "pie"
           }
          ],
          "scatter": [
           {
            "fillpattern": {
             "fillmode": "overlay",
             "size": 10,
             "solidity": 0.2
            },
            "type": "scatter"
           }
          ],
          "scatter3d": [
           {
            "line": {
             "colorbar": {
              "outlinewidth": 0,
              "ticks": ""
             }
            },
            "marker": {
             "colorbar": {
              "outlinewidth": 0,
              "ticks": ""
             }
            },
            "type": "scatter3d"
           }
          ],
          "scattercarpet": [
           {
            "marker": {
             "colorbar": {
              "outlinewidth": 0,
              "ticks": ""
             }
            },
            "type": "scattercarpet"
           }
          ],
          "scattergeo": [
           {
            "marker": {
             "colorbar": {
              "outlinewidth": 0,
              "ticks": ""
             }
            },
            "type": "scattergeo"
           }
          ],
          "scattergl": [
           {
            "marker": {
             "colorbar": {
              "outlinewidth": 0,
              "ticks": ""
             }
            },
            "type": "scattergl"
           }
          ],
          "scattermapbox": [
           {
            "marker": {
             "colorbar": {
              "outlinewidth": 0,
              "ticks": ""
             }
            },
            "type": "scattermapbox"
           }
          ],
          "scatterpolar": [
           {
            "marker": {
             "colorbar": {
              "outlinewidth": 0,
              "ticks": ""
             }
            },
            "type": "scatterpolar"
           }
          ],
          "scatterpolargl": [
           {
            "marker": {
             "colorbar": {
              "outlinewidth": 0,
              "ticks": ""
             }
            },
            "type": "scatterpolargl"
           }
          ],
          "scatterternary": [
           {
            "marker": {
             "colorbar": {
              "outlinewidth": 0,
              "ticks": ""
             }
            },
            "type": "scatterternary"
           }
          ],
          "surface": [
           {
            "colorbar": {
             "outlinewidth": 0,
             "ticks": ""
            },
            "colorscale": [
             [
              0,
              "#0d0887"
             ],
             [
              0.1111111111111111,
              "#46039f"
             ],
             [
              0.2222222222222222,
              "#7201a8"
             ],
             [
              0.3333333333333333,
              "#9c179e"
             ],
             [
              0.4444444444444444,
              "#bd3786"
             ],
             [
              0.5555555555555556,
              "#d8576b"
             ],
             [
              0.6666666666666666,
              "#ed7953"
             ],
             [
              0.7777777777777778,
              "#fb9f3a"
             ],
             [
              0.8888888888888888,
              "#fdca26"
             ],
             [
              1,
              "#f0f921"
             ]
            ],
            "type": "surface"
           }
          ],
          "table": [
           {
            "cells": {
             "fill": {
              "color": "#EBF0F8"
             },
             "line": {
              "color": "white"
             }
            },
            "header": {
             "fill": {
              "color": "#C8D4E3"
             },
             "line": {
              "color": "white"
             }
            },
            "type": "table"
           }
          ]
         },
         "layout": {
          "annotationdefaults": {
           "arrowcolor": "#2a3f5f",
           "arrowhead": 0,
           "arrowwidth": 1
          },
          "autotypenumbers": "strict",
          "coloraxis": {
           "colorbar": {
            "outlinewidth": 0,
            "ticks": ""
           }
          },
          "colorscale": {
           "diverging": [
            [
             0,
             "#8e0152"
            ],
            [
             0.1,
             "#c51b7d"
            ],
            [
             0.2,
             "#de77ae"
            ],
            [
             0.3,
             "#f1b6da"
            ],
            [
             0.4,
             "#fde0ef"
            ],
            [
             0.5,
             "#f7f7f7"
            ],
            [
             0.6,
             "#e6f5d0"
            ],
            [
             0.7,
             "#b8e186"
            ],
            [
             0.8,
             "#7fbc41"
            ],
            [
             0.9,
             "#4d9221"
            ],
            [
             1,
             "#276419"
            ]
           ],
           "sequential": [
            [
             0,
             "#0d0887"
            ],
            [
             0.1111111111111111,
             "#46039f"
            ],
            [
             0.2222222222222222,
             "#7201a8"
            ],
            [
             0.3333333333333333,
             "#9c179e"
            ],
            [
             0.4444444444444444,
             "#bd3786"
            ],
            [
             0.5555555555555556,
             "#d8576b"
            ],
            [
             0.6666666666666666,
             "#ed7953"
            ],
            [
             0.7777777777777778,
             "#fb9f3a"
            ],
            [
             0.8888888888888888,
             "#fdca26"
            ],
            [
             1,
             "#f0f921"
            ]
           ],
           "sequentialminus": [
            [
             0,
             "#0d0887"
            ],
            [
             0.1111111111111111,
             "#46039f"
            ],
            [
             0.2222222222222222,
             "#7201a8"
            ],
            [
             0.3333333333333333,
             "#9c179e"
            ],
            [
             0.4444444444444444,
             "#bd3786"
            ],
            [
             0.5555555555555556,
             "#d8576b"
            ],
            [
             0.6666666666666666,
             "#ed7953"
            ],
            [
             0.7777777777777778,
             "#fb9f3a"
            ],
            [
             0.8888888888888888,
             "#fdca26"
            ],
            [
             1,
             "#f0f921"
            ]
           ]
          },
          "colorway": [
           "#636efa",
           "#EF553B",
           "#00cc96",
           "#ab63fa",
           "#FFA15A",
           "#19d3f3",
           "#FF6692",
           "#B6E880",
           "#FF97FF",
           "#FECB52"
          ],
          "font": {
           "color": "#2a3f5f"
          },
          "geo": {
           "bgcolor": "white",
           "lakecolor": "white",
           "landcolor": "#E5ECF6",
           "showlakes": true,
           "showland": true,
           "subunitcolor": "white"
          },
          "hoverlabel": {
           "align": "left"
          },
          "hovermode": "closest",
          "mapbox": {
           "style": "light"
          },
          "paper_bgcolor": "white",
          "plot_bgcolor": "#E5ECF6",
          "polar": {
           "angularaxis": {
            "gridcolor": "white",
            "linecolor": "white",
            "ticks": ""
           },
           "bgcolor": "#E5ECF6",
           "radialaxis": {
            "gridcolor": "white",
            "linecolor": "white",
            "ticks": ""
           }
          },
          "scene": {
           "xaxis": {
            "backgroundcolor": "#E5ECF6",
            "gridcolor": "white",
            "gridwidth": 2,
            "linecolor": "white",
            "showbackground": true,
            "ticks": "",
            "zerolinecolor": "white"
           },
           "yaxis": {
            "backgroundcolor": "#E5ECF6",
            "gridcolor": "white",
            "gridwidth": 2,
            "linecolor": "white",
            "showbackground": true,
            "ticks": "",
            "zerolinecolor": "white"
           },
           "zaxis": {
            "backgroundcolor": "#E5ECF6",
            "gridcolor": "white",
            "gridwidth": 2,
            "linecolor": "white",
            "showbackground": true,
            "ticks": "",
            "zerolinecolor": "white"
           }
          },
          "shapedefaults": {
           "line": {
            "color": "#2a3f5f"
           }
          },
          "ternary": {
           "aaxis": {
            "gridcolor": "white",
            "linecolor": "white",
            "ticks": ""
           },
           "baxis": {
            "gridcolor": "white",
            "linecolor": "white",
            "ticks": ""
           },
           "bgcolor": "#E5ECF6",
           "caxis": {
            "gridcolor": "white",
            "linecolor": "white",
            "ticks": ""
           }
          },
          "title": {
           "x": 0.05
          },
          "xaxis": {
           "automargin": true,
           "gridcolor": "white",
           "linecolor": "white",
           "ticks": "",
           "title": {
            "standoff": 15
           },
           "zerolinecolor": "white",
           "zerolinewidth": 2
          },
          "yaxis": {
           "automargin": true,
           "gridcolor": "white",
           "linecolor": "white",
           "ticks": "",
           "title": {
            "standoff": 15
           },
           "zerolinecolor": "white",
           "zerolinewidth": 2
          }
         }
        },
        "title": {
         "text": "Tabla de todos los mazos que usan Robo del Destino",
         "x": 0.5
        }
       }
      },
      "image/png": "[encoded data removed]",
      "text/html": [
       "<div>                            <div id=\"83966155-4239-4640-b6eb-a27bd0db60a0\" class=\"plotly-graph-div\" style=\"height:525px; width:100%;\"></div>            <script type=\"text/javascript\">                require([\"plotly\"], function(Plotly) {                    window.PLOTLYENV=window.PLOTLYENV || {};                                    if (document.getElementById(\"83966155-4239-4640-b6eb-a27bd0db60a0\")) {                    Plotly.newPlot(                        \"83966155-4239-4640-b6eb-a27bd0db60a0\",                        [{\"branchvalues\":\"total\",\"domain\":{\"x\":[0.0,1.0],\"y\":[0.0,1.0]},\"hovertemplate\":\"labels=%{label}<br>total=%{value}<br>parent=%{parent}<br>id=%{id}<extra></extra>\",\"ids\":[\"Robo del Destino/Dark Magician\",\"Robo del Destino/Dragunity\",\"Robo del Destino/Gravekeepers\",\"Robo del Destino/Harpies\",\"Robo del Destino/Lunalight\",\"Robo del Destino/Magnet Warrios\",\"Robo del Destino/Satellarknights\",\"Robo del Destino/Shiranui\",\"Robo del Destino/Super Quant\",\"Robo del Destino/Yosenjus\",\"Robo del Destino\"],\"labels\":[\"Dark Magician\",\"Dragunity\",\"Gravekeepers\",\"Harpies\",\"Lunalight\",\"Magnet Warrios\",\"Satellarknights\",\"Shiranui\",\"Super Quant\",\"Yosenjus\",\"Robo del Destino\"],\"name\":\"\",\"parents\":[\"Robo del Destino\",\"Robo del Destino\",\"Robo del Destino\",\"Robo del Destino\",\"Robo del Destino\",\"Robo del Destino\",\"Robo del Destino\",\"Robo del Destino\",\"Robo del Destino\",\"Robo del Destino\",\"\"],\"values\":[7,1,3,1,6,2,13,4,1,2,40],\"type\":\"treemap\"}],                        {\"template\":{\"data\":{\"histogram2dcontour\":[{\"type\":\"histogram2dcontour\",\"colorbar\":{\"outlinewidth\":0,\"ticks\":\"\"},\"colorscale\":[[0.0,\"#0d0887\"],[0.1111111111111111,\"#46039f\"],[0.2222222222222222,\"#7201a8\"],[0.3333333333333333,\"#9c179e\"],[0.4444444444444444,\"#bd3786\"],[0.5555555555555556,\"#d8576b\"],[0.6666666666666666,\"#ed7953\"],[0.7777777777777778,\"#fb9f3a\"],[0.8888888888888888,\"#fdca26\"],[1.0,\"#f0f921\"]]}],\"choropleth\":[{\"type\":\"choropleth\",\"colorbar\":{\"outlinewidth\":0,\"ticks\":\"\"}}],\"histogram2d\":[{\"type\":\"histogram2d\",\"colorbar\":{\"outlinewidth\":0,\"ticks\":\"\"},\"colorscale\":[[0.0,\"#0d0887\"],[0.1111111111111111,\"#46039f\"],[0.2222222222222222,\"#7201a8\"],[0.3333333333333333,\"#9c179e\"],[0.4444444444444444,\"#bd3786\"],[0.5555555555555556,\"#d8576b\"],[0.6666666666666666,\"#ed7953\"],[0.7777777777777778,\"#fb9f3a\"],[0.8888888888888888,\"#fdca26\"],[1.0,\"#f0f921\"]]}],\"heatmap\":[{\"type\":\"heatmap\",\"colorbar\":{\"outlinewidth\":0,\"ticks\":\"\"},\"colorscale\":[[0.0,\"#0d0887\"],[0.1111111111111111,\"#46039f\"],[0.2222222222222222,\"#7201a8\"],[0.3333333333333333,\"#9c179e\"],[0.4444444444444444,\"#bd3786\"],[0.5555555555555556,\"#d8576b\"],[0.6666666666666666,\"#ed7953\"],[0.7777777777777778,\"#fb9f3a\"],[0.8888888888888888,\"#fdca26\"],[1.0,\"#f0f921\"]]}],\"heatmapgl\":[{\"type\":\"heatmapgl\",\"colorbar\":{\"outlinewidth\":0,\"ticks\":\"\"},\"colorscale\":[[0.0,\"#0d0887\"],[0.1111111111111111,\"#46039f\"],[0.2222222222222222,\"#7201a8\"],[0.3333333333333333,\"#9c179e\"],[0.4444444444444444,\"#bd3786\"],[0.5555555555555556,\"#d8576b\"],[0.6666666666666666,\"#ed7953\"],[0.7777777777777778,\"#fb9f3a\"],[0.8888888888888888,\"#fdca26\"],[1.0,\"#f0f921\"]]}],\"contourcarpet\":[{\"type\":\"contourcarpet\",\"colorbar\":{\"outlinewidth\":0,\"ticks\":\"\"}}],\"contour\":[{\"type\":\"contour\",\"colorbar\":{\"outlinewidth\":0,\"ticks\":\"\"},\"colorscale\":[[0.0,\"#0d0887\"],[0.1111111111111111,\"#46039f\"],[0.2222222222222222,\"#7201a8\"],[0.3333333333333333,\"#9c179e\"],[0.4444444444444444,\"#bd3786\"],[0.5555555555555556,\"#d8576b\"],[0.6666666666666666,\"#ed7953\"],[0.7777777777777778,\"#fb9f3a\"],[0.8888888888888888,\"#fdca26\"],[1.0,\"#f0f921\"]]}],\"surface\":[{\"type\":\"surface\",\"colorbar\":{\"outlinewidth\":0,\"ticks\":\"\"},\"colorscale\":[[0.0,\"#0d0887\"],[0.1111111111111111,\"#46039f\"],[0.2222222222222222,\"#7201a8\"],[0.3333333333333333,\"#9c179e\"],[0.4444444444444444,\"#bd3786\"],[0.5555555555555556,\"#d8576b\"],[0.6666666666666666,\"#ed7953\"],[0.7777777777777778,\"#fb9f3a\"],[0.8888888888888888,\"#fdca26\"],[1.0,\"#f0f921\"]]}],\"mesh3d\":[{\"type\":\"mesh3d\",\"colorbar\":{\"outlinewidth\":0,\"ticks\":\"\"}}],\"scatter\":[{\"fillpattern\":{\"fillmode\":\"overlay\",\"size\":10,\"solidity\":0.2},\"type\":\"scatter\"}],\"parcoords\":[{\"type\":\"parcoords\",\"line\":{\"colorbar\":{\"outlinewidth\":0,\"ticks\":\"\"}}}],\"scatterpolargl\":[{\"type\":\"scatterpolargl\",\"marker\":{\"colorbar\":{\"outlinewidth\":0,\"ticks\":\"\"}}}],\"bar\":[{\"error_x\":{\"color\":\"#2a3f5f\"},\"error_y\":{\"color\":\"#2a3f5f\"},\"marker\":{\"line\":{\"color\":\"#E5ECF6\",\"width\":0.5},\"pattern\":{\"fillmode\":\"overlay\",\"size\":10,\"solidity\":0.2}},\"type\":\"bar\"}],\"scattergeo\":[{\"type\":\"scattergeo\",\"marker\":{\"colorbar\":{\"outlinewidth\":0,\"ticks\":\"\"}}}],\"scatterpolar\":[{\"type\":\"scatterpolar\",\"marker\":{\"colorbar\":{\"outlinewidth\":0,\"ticks\":\"\"}}}],\"histogram\":[{\"marker\":{\"pattern\":{\"fillmode\":\"overlay\",\"size\":10,\"solidity\":0.2}},\"type\":\"histogram\"}],\"scattergl\":[{\"type\":\"scattergl\",\"marker\":{\"colorbar\":{\"outlinewidth\":0,\"ticks\":\"\"}}}],\"scatter3d\":[{\"type\":\"scatter3d\",\"line\":{\"colorbar\":{\"outlinewidth\":0,\"ticks\":\"\"}},\"marker\":{\"colorbar\":{\"outlinewidth\":0,\"ticks\":\"\"}}}],\"scattermapbox\":[{\"type\":\"scattermapbox\",\"marker\":{\"colorbar\":{\"outlinewidth\":0,\"ticks\":\"\"}}}],\"scatterternary\":[{\"type\":\"scatterternary\",\"marker\":{\"colorbar\":{\"outlinewidth\":0,\"ticks\":\"\"}}}],\"scattercarpet\":[{\"type\":\"scattercarpet\",\"marker\":{\"colorbar\":{\"outlinewidth\":0,\"ticks\":\"\"}}}],\"carpet\":[{\"aaxis\":{\"endlinecolor\":\"#2a3f5f\",\"gridcolor\":\"white\",\"linecolor\":\"white\",\"minorgridcolor\":\"white\",\"startlinecolor\":\"#2a3f5f\"},\"baxis\":{\"endlinecolor\":\"#2a3f5f\",\"gridcolor\":\"white\",\"linecolor\":\"white\",\"minorgridcolor\":\"white\",\"startlinecolor\":\"#2a3f5f\"},\"type\":\"carpet\"}],\"table\":[{\"cells\":{\"fill\":{\"color\":\"#EBF0F8\"},\"line\":{\"color\":\"white\"}},\"header\":{\"fill\":{\"color\":\"#C8D4E3\"},\"line\":{\"color\":\"white\"}},\"type\":\"table\"}],\"barpolar\":[{\"marker\":{\"line\":{\"color\":\"#E5ECF6\",\"width\":0.5},\"pattern\":{\"fillmode\":\"overlay\",\"size\":10,\"solidity\":0.2}},\"type\":\"barpolar\"}],\"pie\":[{\"automargin\":true,\"type\":\"pie\"}]},\"layout\":{\"autotypenumbers\":\"strict\",\"colorway\":[\"#636efa\",\"#EF553B\",\"#00cc96\",\"#ab63fa\",\"#FFA15A\",\"#19d3f3\",\"#FF6692\",\"#B6E880\",\"#FF97FF\",\"#FECB52\"],\"font\":{\"color\":\"#2a3f5f\"},\"hovermode\":\"closest\",\"hoverlabel\":{\"align\":\"left\"},\"paper_bgcolor\":\"white\",\"plot_bgcolor\":\"#E5ECF6\",\"polar\":{\"bgcolor\":\"#E5ECF6\",\"angularaxis\":{\"gridcolor\":\"white\",\"linecolor\":\"white\",\"ticks\":\"\"},\"radialaxis\":{\"gridcolor\":\"white\",\"linecolor\":\"white\",\"ticks\":\"\"}},\"ternary\":{\"bgcolor\":\"#E5ECF6\",\"aaxis\":{\"gridcolor\":\"white\",\"linecolor\":\"white\",\"ticks\":\"\"},\"baxis\":{\"gridcolor\":\"white\",\"linecolor\":\"white\",\"ticks\":\"\"},\"caxis\":{\"gridcolor\":\"white\",\"linecolor\":\"white\",\"ticks\":\"\"}},\"coloraxis\":{\"colorbar\":{\"outlinewidth\":0,\"ticks\":\"\"}},\"colorscale\":{\"sequential\":[[0.0,\"#0d0887\"],[0.1111111111111111,\"#46039f\"],[0.2222222222222222,\"#7201a8\"],[0.3333333333333333,\"#9c179e\"],[0.4444444444444444,\"#bd3786\"],[0.5555555555555556,\"#d8576b\"],[0.6666666666666666,\"#ed7953\"],[0.7777777777777778,\"#fb9f3a\"],[0.8888888888888888,\"#fdca26\"],[1.0,\"#f0f921\"]],\"sequentialminus\":[[0.0,\"#0d0887\"],[0.1111111111111111,\"#46039f\"],[0.2222222222222222,\"#7201a8\"],[0.3333333333333333,\"#9c179e\"],[0.4444444444444444,\"#bd3786\"],[0.5555555555555556,\"#d8576b\"],[0.6666666666666666,\"#ed7953\"],[0.7777777777777778,\"#fb9f3a\"],[0.8888888888888888,\"#fdca26\"],[1.0,\"#f0f921\"]],\"diverging\":[[0,\"#8e0152\"],[0.1,\"#c51b7d\"],[0.2,\"#de77ae\"],[0.3,\"#f1b6da\"],[0.4,\"#fde0ef\"],[0.5,\"#f7f7f7\"],[0.6,\"#e6f5d0\"],[0.7,\"#b8e186\"],[0.8,\"#7fbc41\"],[0.9,\"#4d9221\"],[1,\"#276419\"]]},\"xaxis\":{\"gridcolor\":\"white\",\"linecolor\":\"white\",\"ticks\":\"\",\"title\":{\"standoff\":15},\"zerolinecolor\":\"white\",\"automargin\":true,\"zerolinewidth\":2},\"yaxis\":{\"gridcolor\":\"white\",\"linecolor\":\"white\",\"ticks\":\"\",\"title\":{\"standoff\":15},\"zerolinecolor\":\"white\",\"automargin\":true,\"zerolinewidth\":2},\"scene\":{\"xaxis\":{\"backgroundcolor\":\"#E5ECF6\",\"gridcolor\":\"white\",\"linecolor\":\"white\",\"showbackground\":true,\"ticks\":\"\",\"zerolinecolor\":\"white\",\"gridwidth\":2},\"yaxis\":{\"backgroundcolor\":\"#E5ECF6\",\"gridcolor\":\"white\",\"linecolor\":\"white\",\"showbackground\":true,\"ticks\":\"\",\"zerolinecolor\":\"white\",\"gridwidth\":2},\"zaxis\":{\"backgroundcolor\":\"#E5ECF6\",\"gridcolor\":\"white\",\"linecolor\":\"white\",\"showbackground\":true,\"ticks\":\"\",\"zerolinecolor\":\"white\",\"gridwidth\":2}},\"shapedefaults\":{\"line\":{\"color\":\"#2a3f5f\"}},\"annotationdefaults\":{\"arrowcolor\":\"#2a3f5f\",\"arrowhead\":0,\"arrowwidth\":1},\"geo\":{\"bgcolor\":\"white\",\"landcolor\":\"#E5ECF6\",\"subunitcolor\":\"white\",\"showland\":true,\"showlakes\":true,\"lakecolor\":\"white\"},\"title\":{\"x\":0.05},\"mapbox\":{\"style\":\"light\"}}},\"legend\":{\"tracegroupgap\":0},\"margin\":{\"t\":50,\"l\":25,\"r\":25,\"b\":25},\"title\":{\"text\":\"Tabla de todos los mazos que usan Robo del Destino\",\"x\":0.5}},                        {\"responsive\": true}                    ).then(function(){\n",
       "                            \n",
       "var gd = document.getElementById('83966155-4239-4640-b6eb-a27bd0db60a0');\n",
       "var x = new MutationObserver(function (mutations, observer) {{\n",
       "        var display = window.getComputedStyle(gd).display;\n",
       "        if (!display || display === 'none') {{\n",
       "            console.log([gd, 'removed!']);\n",
       "            Plotly.purge(gd);\n",
       "            observer.disconnect();\n",
       "        }}\n",
       "}});\n",
       "\n",
       "// Listen for the removal of the full notebook cells\n",
       "var notebookContainer = gd.closest('#notebook-container');\n",
       "if (notebookContainer) {{\n",
       "    x.observe(notebookContainer, {childList: true});\n",
       "}}\n",
       "\n",
       "// Listen for the clearing of the current output cell\n",
       "var outputEl = gd.closest('.output');\n",
       "if (outputEl) {{\n",
       "    x.observe(outputEl, {childList: true});\n",
       "}}\n",
       "\n",
       "                        })                };                });            </script>        </div>"
      ]
     },
     "metadata": {},
     "output_type": "display_data"
    }
   ],
   "source": [
    "logging.info('Tabla de todos los mazos que usan Robo del Destino')\n",
    "\n",
    "skill_df = (\n",
    "    df.groupby(['deck','skill'])['skill'].size()\n",
    "    .reset_index(name='total')\n",
    "    .sort_values('deck', ascending=1)\n",
    ")\n",
    "\n",
    "fig = px.treemap(skill_df.query(\"skill=='Robo del Destino'\"), path=['skill', 'deck'], values='total')\n",
    "fig.update_layout(title='Tabla de todos los mazos que usan Robo del Destino', title_x=0.5,\n",
    "                 margin = dict(t=50, l=25, r=25, b=25))\n",
    "# Muestra el treemap\n",
    "fig.show()"
   ]
  },
  {
   "cell_type": "markdown",
   "id": "c2db6a0b-da0c-47a4-aad4-c928ca19b4fc",
   "metadata": {},
   "source": [
    ">Hace referencia al anime cuando en sus partidas difíciles Yugi roba la carta que necesita para ganar el duelo.   \n",
    "![](https://i.imgur.com/UM1Fvc1.png)\n",
    "\n",
    "![](https://c.tenor.com/DRn16ES_h-EAAAAC/yu-gi-oh-yami-yugi.gif)"
   ]
  },
  {
   "cell_type": "markdown",
   "id": "9f2e2f53-1a76-4154-b9a4-1b3a2b7dd477",
   "metadata": {},
   "source": []
  },
  {
   "cell_type": "code",
   "execution_count": 112,
   "id": "1804f1b3-ba73-40d5-933e-00d3d23a3070",
   "metadata": {},
   "outputs": [
    {
     "data": {
      "application/vnd.plotly.v1+json": {
       "config": {
        "plotlyServerURL": "https://plot.ly"
       },
       "data": [
        {
         "branchvalues": "total",
         "domain": {
          "x": [
           0,
           1
          ],
          "y": [
           0,
           1
          ]
         },
         "hovertemplate": "labels=%{label}<br>total=%{value}<br>parent=%{parent}<br>id=%{id}<extra></extra>",
         "ids": [
          "Resto de mazos/Ancient Gears/A Luchar Mecanismo Antiguo",
          "Resto de mazos/Evil Eye/Afinación de Nivel",
          "Resto de mazos/Fossil/Agujero de Gólem",
          "Resto de mazos/Heros/Alianza de Héroes",
          "Resto de mazos/Deskbots/Aumento de LP alfa",
          "Resto de mazos/Magnet Warrios/Aumento de LP alfa",
          "Resto de mazos/Shiranui/Aumento de LP alfa",
          "Resto de mazos/Crystrons/Barrera de Luz",
          "Resto de mazos/Metalfeos/Barrera de Luz",
          "Resto de mazos/Metalfoes/Barrera de Luz",
          "Resto de mazos/Synchrons/Camino de la Estrella Fugaz",
          "Resto de mazos/Metalfoes/Campos de Guerreros",
          "Resto de mazos/Qliphort/Carga de ataque",
          "Resto de mazos/Evil Eye/Combustible de Duelo",
          "Resto de mazos/Dinomist/Con Valor",
          "Resto de mazos/Witchcrafter/Con Valor",
          "Resto de mazos/Tech Genus/Control de Vuelo",
          "Resto de mazos/Blue-Eyes/Dragones Definitivos",
          "Resto de mazos/Magnet Warrios/Duplicar Nivel",
          "Resto de mazos/D/D/D/El Mando del Rey de la Perdición",
          "Resto de mazos/Fluffal/El Monstruo más imparable",
          "Resto de mazos/Gaia/El camino del Caballero Dragón",
          "Resto de mazos/Evil Heros/El poder conduce al Destino",
          "Resto de mazos/Tech Genus/Equilibrador de Nivel del Cantante",
          "Resto de mazos/Triamids/Equilibrio",
          "Resto de mazos/War Rock/Equilibrio",
          "Resto de mazos/Sylvans/Estrategia de Arobru",
          "Resto de mazos/Cyber Dragon/Evolución del Ciberestilo",
          "Resto de mazos/SuperHeavy Samurai/Evolución del Estilo",
          "Resto de mazos/Infernity/Fantasma Hueco",
          "Resto de mazos/Heros/Fusión Milagrosa",
          "Resto de mazos/Fish Armor/Gemelos Unidos",
          "Resto de mazos/Fossil/Guerreros Fósiles",
          "Resto de mazos/Magnet Warrios/Guerreros Fósiles",
          "Resto de mazos/Satellarknights/Habilidad no asignada",
          "Resto de mazos/Hero/Héroe Herido",
          "Resto de mazos/Heros/Héroe Herido",
          "Resto de mazos/Krawler/Infestación de Parásitos",
          "Resto de mazos/Abyss Actor/La Impactante actuación de Sylvio",
          "Resto de mazos/Mayosenju/La Impactante actuación de Sylvio",
          "Resto de mazos/Yosenjus/La Impactante actuación de Sylvio",
          "Resto de mazos/Magician Girls/Las Chicas Magas",
          "Resto de mazos/Harpies/Lectura Mental",
          "Resto de mazos/Magnet Warrios/Lectura Mental",
          "Resto de mazos/Tech Genus/Listos Aceleración Delta",
          "Resto de mazos/Gandora/Luchar con Decisión",
          "Resto de mazos/Heros/Maestro de Fusión",
          "Resto de mazos/Lunalight/Maestro de Fusión",
          "Resto de mazos/Cyber Angels/Maestro de Rituales",
          "Resto de mazos/Necroz/Maestro de Rituales",
          "Resto de mazos/Necroz/Maestro de Rituales II",
          "Resto de mazos/Vendread/Maestro de Rituales II",
          "Resto de mazos/Black Luster Soldier/Maestro de Rituales Supersoldado",
          "Resto de mazos/Gimmick Puppet/Marioneta Renunciada",
          "Resto de mazos/Burning Abyss/Mente de la Plana",
          "Resto de mazos/Qliphort/Mundo Sonriente",
          "Resto de mazos/Triamids/Mundo repleto de Malicia",
          "Resto de mazos/Dark Magician/Nacidos de la Tierra",
          "Resto de mazos/Mayosenju/Neo Nuevo Sylvio",
          "Resto de mazos/War Rock/Oleada de Iluminación",
          "Resto de mazos/Abyss Actor/Pasa a la acción Invocación por Péndulo",
          "Resto de mazos/Deskbots/Pasa a la acción Invocación por Péndulo",
          "Resto de mazos/Fortune Ladys/Paso del Tiempo",
          "Resto de mazos/Aromages/Poder de los Sacrificados",
          "Resto de mazos/Chronomaly/Portal de Otra Dimensión",
          "Resto de mazos/Odd-Eyes/Potenciador de Péndulo",
          "Resto de mazos/Dark Magician/Precognición",
          "Resto de mazos/Fluffal/Precognición",
          "Resto de mazos/Lightsworn/Precognición",
          "Resto de mazos/Crystons/Profundidades Míticas",
          "Resto de mazos/Altergeist/Reacción en Cadena",
          "Resto de mazos/PhantomKnight - BurningAbyss/Refuerzos",
          "Resto de mazos/Destiny Heros/Reloj del Destino",
          "Resto de mazos/Resonators/Resonancia Demoníaca",
          "Resto de mazos/Fluffal/Revelación del Castillo Supremo",
          "Resto de mazos/Necroz/Robar sentido Luz",
          "Resto de mazos/Buster Blader/Robar sentido Nivel bajo",
          "Resto de mazos/Shiranui/Robar sentido Oscuridad",
          "Resto de mazos/Heros/Robar sentido Viento",
          "Resto de mazos/Six Samurais/Robar sentido Viento",
          "Resto de mazos/Stromberg/Robar sentido Viento",
          "Resto de mazos/Burning Abyss/Robo de Magia Trampa",
          "Resto de mazos/Dark Magician/Robo del Destino",
          "Resto de mazos/Dragunity/Robo del Destino",
          "Resto de mazos/Gravekeepers/Robo del Destino",
          "Resto de mazos/Harpies/Robo del Destino",
          "Resto de mazos/Lunalight/Robo del Destino",
          "Resto de mazos/Magnet Warrios/Robo del Destino",
          "Resto de mazos/Satellarknights/Robo del Destino",
          "Resto de mazos/Shiranui/Robo del Destino",
          "Resto de mazos/Super Quant/Robo del Destino",
          "Resto de mazos/Yosenjus/Robo del Destino",
          "Resto de mazos/Red-Eyes/Ruleta de Ojos Rojos",
          "Resto de mazos/Evil Eye/Rápido como el Viento",
          "Resto de mazos/Malefic/Territorio de Malicia",
          "Resto de mazos/Ice Barrier/Territorio de Tiburones",
          "Resto de mazos/Water XYZ/Territorio de Tiburones",
          "Resto de mazos/Railway/Tren Imparable",
          "Resto de mazos/Abyss Actor/Tumbas Selladas",
          "Resto de mazos/Qliphort/Tumbas Selladas",
          "Resto de mazos/Blackwings/Viento Negro hasta la Cima",
          "Resto de mazos/Six Samurais/Vinculaciones",
          "Resto de mazos/Odd-Eyes/Xiangke y Xiangsheng",
          "Resto de mazos/Melodious/de Cantante a Maestra",
          "Resto de mazos/Harpies/Última Voluntad de Arpías",
          "Resto de mazos/Abyss Actor",
          "Resto de mazos/Altergeist",
          "Resto de mazos/Ancient Gears",
          "Resto de mazos/Aromages",
          "Resto de mazos/Black Luster Soldier",
          "Resto de mazos/Blackwings",
          "Resto de mazos/Blue-Eyes",
          "Resto de mazos/Burning Abyss",
          "Resto de mazos/Buster Blader",
          "Resto de mazos/Chronomaly",
          "Resto de mazos/Crystons",
          "Resto de mazos/Crystrons",
          "Resto de mazos/Cyber Angels",
          "Resto de mazos/Cyber Dragon",
          "Resto de mazos/D/D/D",
          "Resto de mazos/Dark Magician",
          "Resto de mazos/Deskbots",
          "Resto de mazos/Destiny Heros",
          "Resto de mazos/Dinomist",
          "Resto de mazos/Dragunity",
          "Resto de mazos/Evil Eye",
          "Resto de mazos/Evil Heros",
          "Resto de mazos/Fish Armor",
          "Resto de mazos/Fluffal",
          "Resto de mazos/Fortune Ladys",
          "Resto de mazos/Fossil",
          "Resto de mazos/Gaia",
          "Resto de mazos/Gandora",
          "Resto de mazos/Gimmick Puppet",
          "Resto de mazos/Gravekeepers",
          "Resto de mazos/Harpies",
          "Resto de mazos/Hero",
          "Resto de mazos/Heros",
          "Resto de mazos/Ice Barrier",
          "Resto de mazos/Infernity",
          "Resto de mazos/Krawler",
          "Resto de mazos/Lightsworn",
          "Resto de mazos/Lunalight",
          "Resto de mazos/Magician Girls",
          "Resto de mazos/Magnet Warrios",
          "Resto de mazos/Malefic",
          "Resto de mazos/Mayosenju",
          "Resto de mazos/Melodious",
          "Resto de mazos/Metalfeos",
          "Resto de mazos/Metalfoes",
          "Resto de mazos/Necroz",
          "Resto de mazos/Odd-Eyes",
          "Resto de mazos/PhantomKnight - BurningAbyss",
          "Resto de mazos/Qliphort",
          "Resto de mazos/Railway",
          "Resto de mazos/Red-Eyes",
          "Resto de mazos/Resonators",
          "Resto de mazos/Satellarknights",
          "Resto de mazos/Shiranui",
          "Resto de mazos/Six Samurais",
          "Resto de mazos/Stromberg",
          "Resto de mazos/Super Quant",
          "Resto de mazos/SuperHeavy Samurai",
          "Resto de mazos/Sylvans",
          "Resto de mazos/Synchrons",
          "Resto de mazos/Tech Genus",
          "Resto de mazos/Triamids",
          "Resto de mazos/Vendread",
          "Resto de mazos/War Rock",
          "Resto de mazos/Water XYZ",
          "Resto de mazos/Witchcrafter",
          "Resto de mazos/Yosenjus",
          "Resto de mazos"
         ],
         "labels": [
          "A Luchar Mecanismo Antiguo",
          "Afinación de Nivel",
          "Agujero de Gólem",
          "Alianza de Héroes",
          "Aumento de LP alfa",
          "Aumento de LP alfa",
          "Aumento de LP alfa",
          "Barrera de Luz",
          "Barrera de Luz",
          "Barrera de Luz",
          "Camino de la Estrella Fugaz",
          "Campos de Guerreros",
          "Carga de ataque",
          "Combustible de Duelo",
          "Con Valor",
          "Con Valor",
          "Control de Vuelo",
          "Dragones Definitivos",
          "Duplicar Nivel",
          "El Mando del Rey de la Perdición",
          "El Monstruo más imparable",
          "El camino del Caballero Dragón",
          "El poder conduce al Destino",
          "Equilibrador de Nivel del Cantante",
          "Equilibrio",
          "Equilibrio",
          "Estrategia de Arobru",
          "Evolución del Ciberestilo",
          "Evolución del Estilo",
          "Fantasma Hueco",
          "Fusión Milagrosa",
          "Gemelos Unidos",
          "Guerreros Fósiles",
          "Guerreros Fósiles",
          "Habilidad no asignada",
          "Héroe Herido",
          "Héroe Herido",
          "Infestación de Parásitos",
          "La Impactante actuación de Sylvio",
          "La Impactante actuación de Sylvio",
          "La Impactante actuación de Sylvio",
          "Las Chicas Magas",
          "Lectura Mental",
          "Lectura Mental",
          "Listos Aceleración Delta",
          "Luchar con Decisión",
          "Maestro de Fusión",
          "Maestro de Fusión",
          "Maestro de Rituales",
          "Maestro de Rituales",
          "Maestro de Rituales II",
          "Maestro de Rituales II",
          "Maestro de Rituales Supersoldado",
          "Marioneta Renunciada",
          "Mente de la Plana",
          "Mundo Sonriente",
          "Mundo repleto de Malicia",
          "Nacidos de la Tierra",
          "Neo Nuevo Sylvio",
          "Oleada de Iluminación",
          "Pasa a la acción Invocación por Péndulo",
          "Pasa a la acción Invocación por Péndulo",
          "Paso del Tiempo",
          "Poder de los Sacrificados",
          "Portal de Otra Dimensión",
          "Potenciador de Péndulo",
          "Precognición",
          "Precognición",
          "Precognición",
          "Profundidades Míticas",
          "Reacción en Cadena",
          "Refuerzos",
          "Reloj del Destino",
          "Resonancia Demoníaca",
          "Revelación del Castillo Supremo",
          "Robar sentido Luz",
          "Robar sentido Nivel bajo",
          "Robar sentido Oscuridad",
          "Robar sentido Viento",
          "Robar sentido Viento",
          "Robar sentido Viento",
          "Robo de Magia Trampa",
          "Robo del Destino",
          "Robo del Destino",
          "Robo del Destino",
          "Robo del Destino",
          "Robo del Destino",
          "Robo del Destino",
          "Robo del Destino",
          "Robo del Destino",
          "Robo del Destino",
          "Robo del Destino",
          "Ruleta de Ojos Rojos",
          "Rápido como el Viento",
          "Territorio de Malicia",
          "Territorio de Tiburones",
          "Territorio de Tiburones",
          "Tren Imparable",
          "Tumbas Selladas",
          "Tumbas Selladas",
          "Viento Negro hasta la Cima",
          "Vinculaciones",
          "Xiangke y Xiangsheng",
          "de Cantante a Maestra",
          "Última Voluntad de Arpías",
          "Abyss Actor",
          "Altergeist",
          "Ancient Gears",
          "Aromages",
          "Black Luster Soldier",
          "Blackwings",
          "Blue-Eyes",
          "Burning Abyss",
          "Buster Blader",
          "Chronomaly",
          "Crystons",
          "Crystrons",
          "Cyber Angels",
          "Cyber Dragon",
          "D/D/D",
          "Dark Magician",
          "Deskbots",
          "Destiny Heros",
          "Dinomist",
          "Dragunity",
          "Evil Eye",
          "Evil Heros",
          "Fish Armor",
          "Fluffal",
          "Fortune Ladys",
          "Fossil",
          "Gaia",
          "Gandora",
          "Gimmick Puppet",
          "Gravekeepers",
          "Harpies",
          "Hero",
          "Heros",
          "Ice Barrier",
          "Infernity",
          "Krawler",
          "Lightsworn",
          "Lunalight",
          "Magician Girls",
          "Magnet Warrios",
          "Malefic",
          "Mayosenju",
          "Melodious",
          "Metalfeos",
          "Metalfoes",
          "Necroz",
          "Odd-Eyes",
          "PhantomKnight - BurningAbyss",
          "Qliphort",
          "Railway",
          "Red-Eyes",
          "Resonators",
          "Satellarknights",
          "Shiranui",
          "Six Samurais",
          "Stromberg",
          "Super Quant",
          "SuperHeavy Samurai",
          "Sylvans",
          "Synchrons",
          "Tech Genus",
          "Triamids",
          "Vendread",
          "War Rock",
          "Water XYZ",
          "Witchcrafter",
          "Yosenjus",
          "Resto de mazos"
         ],
         "level": "Resto de mazos",
         "name": "",
         "parents": [
          "Resto de mazos/Ancient Gears",
          "Resto de mazos/Evil Eye",
          "Resto de mazos/Fossil",
          "Resto de mazos/Heros",
          "Resto de mazos/Deskbots",
          "Resto de mazos/Magnet Warrios",
          "Resto de mazos/Shiranui",
          "Resto de mazos/Crystrons",
          "Resto de mazos/Metalfeos",
          "Resto de mazos/Metalfoes",
          "Resto de mazos/Synchrons",
          "Resto de mazos/Metalfoes",
          "Resto de mazos/Qliphort",
          "Resto de mazos/Evil Eye",
          "Resto de mazos/Dinomist",
          "Resto de mazos/Witchcrafter",
          "Resto de mazos/Tech Genus",
          "Resto de mazos/Blue-Eyes",
          "Resto de mazos/Magnet Warrios",
          "Resto de mazos/D/D/D",
          "Resto de mazos/Fluffal",
          "Resto de mazos/Gaia",
          "Resto de mazos/Evil Heros",
          "Resto de mazos/Tech Genus",
          "Resto de mazos/Triamids",
          "Resto de mazos/War Rock",
          "Resto de mazos/Sylvans",
          "Resto de mazos/Cyber Dragon",
          "Resto de mazos/SuperHeavy Samurai",
          "Resto de mazos/Infernity",
          "Resto de mazos/Heros",
          "Resto de mazos/Fish Armor",
          "Resto de mazos/Fossil",
          "Resto de mazos/Magnet Warrios",
          "Resto de mazos/Satellarknights",
          "Resto de mazos/Hero",
          "Resto de mazos/Heros",
          "Resto de mazos/Krawler",
          "Resto de mazos/Abyss Actor",
          "Resto de mazos/Mayosenju",
          "Resto de mazos/Yosenjus",
          "Resto de mazos/Magician Girls",
          "Resto de mazos/Harpies",
          "Resto de mazos/Magnet Warrios",
          "Resto de mazos/Tech Genus",
          "Resto de mazos/Gandora",
          "Resto de mazos/Heros",
          "Resto de mazos/Lunalight",
          "Resto de mazos/Cyber Angels",
          "Resto de mazos/Necroz",
          "Resto de mazos/Necroz",
          "Resto de mazos/Vendread",
          "Resto de mazos/Black Luster Soldier",
          "Resto de mazos/Gimmick Puppet",
          "Resto de mazos/Burning Abyss",
          "Resto de mazos/Qliphort",
          "Resto de mazos/Triamids",
          "Resto de mazos/Dark Magician",
          "Resto de mazos/Mayosenju",
          "Resto de mazos/War Rock",
          "Resto de mazos/Abyss Actor",
          "Resto de mazos/Deskbots",
          "Resto de mazos/Fortune Ladys",
          "Resto de mazos/Aromages",
          "Resto de mazos/Chronomaly",
          "Resto de mazos/Odd-Eyes",
          "Resto de mazos/Dark Magician",
          "Resto de mazos/Fluffal",
          "Resto de mazos/Lightsworn",
          "Resto de mazos/Crystons",
          "Resto de mazos/Altergeist",
          "Resto de mazos/PhantomKnight - BurningAbyss",
          "Resto de mazos/Destiny Heros",
          "Resto de mazos/Resonators",
          "Resto de mazos/Fluffal",
          "Resto de mazos/Necroz",
          "Resto de mazos/Buster Blader",
          "Resto de mazos/Shiranui",
          "Resto de mazos/Heros",
          "Resto de mazos/Six Samurais",
          "Resto de mazos/Stromberg",
          "Resto de mazos/Burning Abyss",
          "Resto de mazos/Dark Magician",
          "Resto de mazos/Dragunity",
          "Resto de mazos/Gravekeepers",
          "Resto de mazos/Harpies",
          "Resto de mazos/Lunalight",
          "Resto de mazos/Magnet Warrios",
          "Resto de mazos/Satellarknights",
          "Resto de mazos/Shiranui",
          "Resto de mazos/Super Quant",
          "Resto de mazos/Yosenjus",
          "Resto de mazos/Red-Eyes",
          "Resto de mazos/Evil Eye",
          "Resto de mazos/Malefic",
          "Resto de mazos/Ice Barrier",
          "Resto de mazos/Water XYZ",
          "Resto de mazos/Railway",
          "Resto de mazos/Abyss Actor",
          "Resto de mazos/Qliphort",
          "Resto de mazos/Blackwings",
          "Resto de mazos/Six Samurais",
          "Resto de mazos/Odd-Eyes",
          "Resto de mazos/Melodious",
          "Resto de mazos/Harpies",
          "Resto de mazos",
          "Resto de mazos",
          "Resto de mazos",
          "Resto de mazos",
          "Resto de mazos",
          "Resto de mazos",
          "Resto de mazos",
          "Resto de mazos",
          "Resto de mazos",
          "Resto de mazos",
          "Resto de mazos",
          "Resto de mazos",
          "Resto de mazos",
          "Resto de mazos",
          "Resto de mazos",
          "Resto de mazos",
          "Resto de mazos",
          "Resto de mazos",
          "Resto de mazos",
          "Resto de mazos",
          "Resto de mazos",
          "Resto de mazos",
          "Resto de mazos",
          "Resto de mazos",
          "Resto de mazos",
          "Resto de mazos",
          "Resto de mazos",
          "Resto de mazos",
          "Resto de mazos",
          "Resto de mazos",
          "Resto de mazos",
          "Resto de mazos",
          "Resto de mazos",
          "Resto de mazos",
          "Resto de mazos",
          "Resto de mazos",
          "Resto de mazos",
          "Resto de mazos",
          "Resto de mazos",
          "Resto de mazos",
          "Resto de mazos",
          "Resto de mazos",
          "Resto de mazos",
          "Resto de mazos",
          "Resto de mazos",
          "Resto de mazos",
          "Resto de mazos",
          "Resto de mazos",
          "Resto de mazos",
          "Resto de mazos",
          "Resto de mazos",
          "Resto de mazos",
          "Resto de mazos",
          "Resto de mazos",
          "Resto de mazos",
          "Resto de mazos",
          "Resto de mazos",
          "Resto de mazos",
          "Resto de mazos",
          "Resto de mazos",
          "Resto de mazos",
          "Resto de mazos",
          "Resto de mazos",
          "Resto de mazos",
          "Resto de mazos",
          "Resto de mazos",
          "Resto de mazos",
          ""
         ],
         "type": "treemap",
         "values": [
          1,
          1,
          2,
          3,
          1,
          1,
          1,
          1,
          1,
          4,
          6,
          2,
          1,
          1,
          2,
          1,
          7,
          3,
          1,
          8,
          2,
          1,
          2,
          1,
          1,
          3,
          1,
          1,
          2,
          6,
          1,
          3,
          2,
          2,
          1,
          1,
          1,
          1,
          1,
          3,
          1,
          3,
          2,
          1,
          1,
          3,
          1,
          1,
          1,
          7,
          1,
          1,
          1,
          1,
          4,
          1,
          1,
          1,
          3,
          5,
          1,
          1,
          1,
          1,
          1,
          1,
          1,
          7,
          1,
          1,
          1,
          1,
          3,
          3,
          2,
          2,
          2,
          4,
          3,
          1,
          2,
          1,
          7,
          1,
          3,
          1,
          6,
          2,
          13,
          4,
          1,
          2,
          2,
          1,
          7,
          13,
          3,
          9,
          7,
          1,
          4,
          1,
          6,
          2,
          4,
          9,
          1,
          1,
          1,
          1,
          4,
          3,
          5,
          2,
          1,
          1,
          1,
          1,
          1,
          8,
          9,
          2,
          3,
          2,
          1,
          3,
          2,
          3,
          11,
          1,
          4,
          1,
          3,
          1,
          3,
          7,
          1,
          9,
          13,
          6,
          1,
          1,
          7,
          3,
          7,
          7,
          6,
          2,
          1,
          6,
          10,
          7,
          1,
          3,
          9,
          2,
          3,
          14,
          9,
          2,
          2,
          1,
          2,
          1,
          6,
          9,
          2,
          1,
          8,
          3,
          1,
          3,
          265
         ]
        }
       ],
       "layout": {
        "height": 1800,
        "legend": {
         "tracegroupgap": 0
        },
        "margin": {
         "b": 25,
         "l": 25,
         "r": 25,
         "t": 50
        },
        "template": {
         "data": {
          "bar": [
           {
            "error_x": {
             "color": "#2a3f5f"
            },
            "error_y": {
             "color": "#2a3f5f"
            },
            "marker": {
             "line": {
              "color": "#E5ECF6",
              "width": 0.5
             },
             "pattern": {
              "fillmode": "overlay",
              "size": 10,
              "solidity": 0.2
             }
            },
            "type": "bar"
           }
          ],
          "barpolar": [
           {
            "marker": {
             "line": {
              "color": "#E5ECF6",
              "width": 0.5
             },
             "pattern": {
              "fillmode": "overlay",
              "size": 10,
              "solidity": 0.2
             }
            },
            "type": "barpolar"
           }
          ],
          "carpet": [
           {
            "aaxis": {
             "endlinecolor": "#2a3f5f",
             "gridcolor": "white",
             "linecolor": "white",
             "minorgridcolor": "white",
             "startlinecolor": "#2a3f5f"
            },
            "baxis": {
             "endlinecolor": "#2a3f5f",
             "gridcolor": "white",
             "linecolor": "white",
             "minorgridcolor": "white",
             "startlinecolor": "#2a3f5f"
            },
            "type": "carpet"
           }
          ],
          "choropleth": [
           {
            "colorbar": {
             "outlinewidth": 0,
             "ticks": ""
            },
            "type": "choropleth"
           }
          ],
          "contour": [
           {
            "colorbar": {
             "outlinewidth": 0,
             "ticks": ""
            },
            "colorscale": [
             [
              0,
              "#0d0887"
             ],
             [
              0.1111111111111111,
              "#46039f"
             ],
             [
              0.2222222222222222,
              "#7201a8"
             ],
             [
              0.3333333333333333,
              "#9c179e"
             ],
             [
              0.4444444444444444,
              "#bd3786"
             ],
             [
              0.5555555555555556,
              "#d8576b"
             ],
             [
              0.6666666666666666,
              "#ed7953"
             ],
             [
              0.7777777777777778,
              "#fb9f3a"
             ],
             [
              0.8888888888888888,
              "#fdca26"
             ],
             [
              1,
              "#f0f921"
             ]
            ],
            "type": "contour"
           }
          ],
          "contourcarpet": [
           {
            "colorbar": {
             "outlinewidth": 0,
             "ticks": ""
            },
            "type": "contourcarpet"
           }
          ],
          "heatmap": [
           {
            "colorbar": {
             "outlinewidth": 0,
             "ticks": ""
            },
            "colorscale": [
             [
              0,
              "#0d0887"
             ],
             [
              0.1111111111111111,
              "#46039f"
             ],
             [
              0.2222222222222222,
              "#7201a8"
             ],
             [
              0.3333333333333333,
              "#9c179e"
             ],
             [
              0.4444444444444444,
              "#bd3786"
             ],
             [
              0.5555555555555556,
              "#d8576b"
             ],
             [
              0.6666666666666666,
              "#ed7953"
             ],
             [
              0.7777777777777778,
              "#fb9f3a"
             ],
             [
              0.8888888888888888,
              "#fdca26"
             ],
             [
              1,
              "#f0f921"
             ]
            ],
            "type": "heatmap"
           }
          ],
          "heatmapgl": [
           {
            "colorbar": {
             "outlinewidth": 0,
             "ticks": ""
            },
            "colorscale": [
             [
              0,
              "#0d0887"
             ],
             [
              0.1111111111111111,
              "#46039f"
             ],
             [
              0.2222222222222222,
              "#7201a8"
             ],
             [
              0.3333333333333333,
              "#9c179e"
             ],
             [
              0.4444444444444444,
              "#bd3786"
             ],
             [
              0.5555555555555556,
              "#d8576b"
             ],
             [
              0.6666666666666666,
              "#ed7953"
             ],
             [
              0.7777777777777778,
              "#fb9f3a"
             ],
             [
              0.8888888888888888,
              "#fdca26"
             ],
             [
              1,
              "#f0f921"
             ]
            ],
            "type": "heatmapgl"
           }
          ],
          "histogram": [
           {
            "marker": {
             "pattern": {
              "fillmode": "overlay",
              "size": 10,
              "solidity": 0.2
             }
            },
            "type": "histogram"
           }
          ],
          "histogram2d": [
           {
            "colorbar": {
             "outlinewidth": 0,
             "ticks": ""
            },
            "colorscale": [
             [
              0,
              "#0d0887"
             ],
             [
              0.1111111111111111,
              "#46039f"
             ],
             [
              0.2222222222222222,
              "#7201a8"
             ],
             [
              0.3333333333333333,
              "#9c179e"
             ],
             [
              0.4444444444444444,
              "#bd3786"
             ],
             [
              0.5555555555555556,
              "#d8576b"
             ],
             [
              0.6666666666666666,
              "#ed7953"
             ],
             [
              0.7777777777777778,
              "#fb9f3a"
             ],
             [
              0.8888888888888888,
              "#fdca26"
             ],
             [
              1,
              "#f0f921"
             ]
            ],
            "type": "histogram2d"
           }
          ],
          "histogram2dcontour": [
           {
            "colorbar": {
             "outlinewidth": 0,
             "ticks": ""
            },
            "colorscale": [
             [
              0,
              "#0d0887"
             ],
             [
              0.1111111111111111,
              "#46039f"
             ],
             [
              0.2222222222222222,
              "#7201a8"
             ],
             [
              0.3333333333333333,
              "#9c179e"
             ],
             [
              0.4444444444444444,
              "#bd3786"
             ],
             [
              0.5555555555555556,
              "#d8576b"
             ],
             [
              0.6666666666666666,
              "#ed7953"
             ],
             [
              0.7777777777777778,
              "#fb9f3a"
             ],
             [
              0.8888888888888888,
              "#fdca26"
             ],
             [
              1,
              "#f0f921"
             ]
            ],
            "type": "histogram2dcontour"
           }
          ],
          "mesh3d": [
           {
            "colorbar": {
             "outlinewidth": 0,
             "ticks": ""
            },
            "type": "mesh3d"
           }
          ],
          "parcoords": [
           {
            "line": {
             "colorbar": {
              "outlinewidth": 0,
              "ticks": ""
             }
            },
            "type": "parcoords"
           }
          ],
          "pie": [
           {
            "automargin": true,
            "type": "pie"
           }
          ],
          "scatter": [
           {
            "fillpattern": {
             "fillmode": "overlay",
             "size": 10,
             "solidity": 0.2
            },
            "type": "scatter"
           }
          ],
          "scatter3d": [
           {
            "line": {
             "colorbar": {
              "outlinewidth": 0,
              "ticks": ""
             }
            },
            "marker": {
             "colorbar": {
              "outlinewidth": 0,
              "ticks": ""
             }
            },
            "type": "scatter3d"
           }
          ],
          "scattercarpet": [
           {
            "marker": {
             "colorbar": {
              "outlinewidth": 0,
              "ticks": ""
             }
            },
            "type": "scattercarpet"
           }
          ],
          "scattergeo": [
           {
            "marker": {
             "colorbar": {
              "outlinewidth": 0,
              "ticks": ""
             }
            },
            "type": "scattergeo"
           }
          ],
          "scattergl": [
           {
            "marker": {
             "colorbar": {
              "outlinewidth": 0,
              "ticks": ""
             }
            },
            "type": "scattergl"
           }
          ],
          "scattermapbox": [
           {
            "marker": {
             "colorbar": {
              "outlinewidth": 0,
              "ticks": ""
             }
            },
            "type": "scattermapbox"
           }
          ],
          "scatterpolar": [
           {
            "marker": {
             "colorbar": {
              "outlinewidth": 0,
              "ticks": ""
             }
            },
            "type": "scatterpolar"
           }
          ],
          "scatterpolargl": [
           {
            "marker": {
             "colorbar": {
              "outlinewidth": 0,
              "ticks": ""
             }
            },
            "type": "scatterpolargl"
           }
          ],
          "scatterternary": [
           {
            "marker": {
             "colorbar": {
              "outlinewidth": 0,
              "ticks": ""
             }
            },
            "type": "scatterternary"
           }
          ],
          "surface": [
           {
            "colorbar": {
             "outlinewidth": 0,
             "ticks": ""
            },
            "colorscale": [
             [
              0,
              "#0d0887"
             ],
             [
              0.1111111111111111,
              "#46039f"
             ],
             [
              0.2222222222222222,
              "#7201a8"
             ],
             [
              0.3333333333333333,
              "#9c179e"
             ],
             [
              0.4444444444444444,
              "#bd3786"
             ],
             [
              0.5555555555555556,
              "#d8576b"
             ],
             [
              0.6666666666666666,
              "#ed7953"
             ],
             [
              0.7777777777777778,
              "#fb9f3a"
             ],
             [
              0.8888888888888888,
              "#fdca26"
             ],
             [
              1,
              "#f0f921"
             ]
            ],
            "type": "surface"
           }
          ],
          "table": [
           {
            "cells": {
             "fill": {
              "color": "#EBF0F8"
             },
             "line": {
              "color": "white"
             }
            },
            "header": {
             "fill": {
              "color": "#C8D4E3"
             },
             "line": {
              "color": "white"
             }
            },
            "type": "table"
           }
          ]
         },
         "layout": {
          "annotationdefaults": {
           "arrowcolor": "#2a3f5f",
           "arrowhead": 0,
           "arrowwidth": 1
          },
          "autotypenumbers": "strict",
          "coloraxis": {
           "colorbar": {
            "outlinewidth": 0,
            "ticks": ""
           }
          },
          "colorscale": {
           "diverging": [
            [
             0,
             "#8e0152"
            ],
            [
             0.1,
             "#c51b7d"
            ],
            [
             0.2,
             "#de77ae"
            ],
            [
             0.3,
             "#f1b6da"
            ],
            [
             0.4,
             "#fde0ef"
            ],
            [
             0.5,
             "#f7f7f7"
            ],
            [
             0.6,
             "#e6f5d0"
            ],
            [
             0.7,
             "#b8e186"
            ],
            [
             0.8,
             "#7fbc41"
            ],
            [
             0.9,
             "#4d9221"
            ],
            [
             1,
             "#276419"
            ]
           ],
           "sequential": [
            [
             0,
             "#0d0887"
            ],
            [
             0.1111111111111111,
             "#46039f"
            ],
            [
             0.2222222222222222,
             "#7201a8"
            ],
            [
             0.3333333333333333,
             "#9c179e"
            ],
            [
             0.4444444444444444,
             "#bd3786"
            ],
            [
             0.5555555555555556,
             "#d8576b"
            ],
            [
             0.6666666666666666,
             "#ed7953"
            ],
            [
             0.7777777777777778,
             "#fb9f3a"
            ],
            [
             0.8888888888888888,
             "#fdca26"
            ],
            [
             1,
             "#f0f921"
            ]
           ],
           "sequentialminus": [
            [
             0,
             "#0d0887"
            ],
            [
             0.1111111111111111,
             "#46039f"
            ],
            [
             0.2222222222222222,
             "#7201a8"
            ],
            [
             0.3333333333333333,
             "#9c179e"
            ],
            [
             0.4444444444444444,
             "#bd3786"
            ],
            [
             0.5555555555555556,
             "#d8576b"
            ],
            [
             0.6666666666666666,
             "#ed7953"
            ],
            [
             0.7777777777777778,
             "#fb9f3a"
            ],
            [
             0.8888888888888888,
             "#fdca26"
            ],
            [
             1,
             "#f0f921"
            ]
           ]
          },
          "colorway": [
           "#636efa",
           "#EF553B",
           "#00cc96",
           "#ab63fa",
           "#FFA15A",
           "#19d3f3",
           "#FF6692",
           "#B6E880",
           "#FF97FF",
           "#FECB52"
          ],
          "font": {
           "color": "#2a3f5f"
          },
          "geo": {
           "bgcolor": "white",
           "lakecolor": "white",
           "landcolor": "#E5ECF6",
           "showlakes": true,
           "showland": true,
           "subunitcolor": "white"
          },
          "hoverlabel": {
           "align": "left"
          },
          "hovermode": "closest",
          "mapbox": {
           "style": "light"
          },
          "paper_bgcolor": "white",
          "plot_bgcolor": "#E5ECF6",
          "polar": {
           "angularaxis": {
            "gridcolor": "white",
            "linecolor": "white",
            "ticks": ""
           },
           "bgcolor": "#E5ECF6",
           "radialaxis": {
            "gridcolor": "white",
            "linecolor": "white",
            "ticks": ""
           }
          },
          "scene": {
           "xaxis": {
            "backgroundcolor": "#E5ECF6",
            "gridcolor": "white",
            "gridwidth": 2,
            "linecolor": "white",
            "showbackground": true,
            "ticks": "",
            "zerolinecolor": "white"
           },
           "yaxis": {
            "backgroundcolor": "#E5ECF6",
            "gridcolor": "white",
            "gridwidth": 2,
            "linecolor": "white",
            "showbackground": true,
            "ticks": "",
            "zerolinecolor": "white"
           },
           "zaxis": {
            "backgroundcolor": "#E5ECF6",
            "gridcolor": "white",
            "gridwidth": 2,
            "linecolor": "white",
            "showbackground": true,
            "ticks": "",
            "zerolinecolor": "white"
           }
          },
          "shapedefaults": {
           "line": {
            "color": "#2a3f5f"
           }
          },
          "ternary": {
           "aaxis": {
            "gridcolor": "white",
            "linecolor": "white",
            "ticks": ""
           },
           "baxis": {
            "gridcolor": "white",
            "linecolor": "white",
            "ticks": ""
           },
           "bgcolor": "#E5ECF6",
           "caxis": {
            "gridcolor": "white",
            "linecolor": "white",
            "ticks": ""
           }
          },
          "title": {
           "x": 0.05
          },
          "xaxis": {
           "automargin": true,
           "gridcolor": "white",
           "linecolor": "white",
           "ticks": "",
           "title": {
            "standoff": 15
           },
           "zerolinecolor": "white",
           "zerolinewidth": 2
          },
          "yaxis": {
           "automargin": true,
           "gridcolor": "white",
           "linecolor": "white",
           "ticks": "",
           "title": {
            "standoff": 15
           },
           "zerolinecolor": "white",
           "zerolinewidth": 2
          }
         }
        },
        "title": {
         "text": "Resto de Mazos NDmax",
         "x": 0.5
        },
        "width": 900
       }
      },
      "image/png": "[encoded data removed]",
      "text/html": [
       "<div>                            <div id=\"c248b32f-7bd7-4a0a-9640-60cb6336ef89\" class=\"plotly-graph-div\" style=\"height:1800px; width:900px;\"></div>            <script type=\"text/javascript\">                require([\"plotly\"], function(Plotly) {                    window.PLOTLYENV=window.PLOTLYENV || {};                                    if (document.getElementById(\"c248b32f-7bd7-4a0a-9640-60cb6336ef89\")) {                    Plotly.newPlot(                        \"c248b32f-7bd7-4a0a-9640-60cb6336ef89\",                        [{\"branchvalues\":\"total\",\"domain\":{\"x\":[0.0,1.0],\"y\":[0.0,1.0]},\"hovertemplate\":\"labels=%{label}<br>total=%{value}<br>parent=%{parent}<br>id=%{id}<extra></extra>\",\"ids\":[\"Resto de mazos/Ancient Gears/A Luchar Mecanismo Antiguo\",\"Resto de mazos/Evil Eye/Afinaci\\u00f3n de Nivel\",\"Resto de mazos/Fossil/Agujero de G\\u00f3lem\",\"Resto de mazos/Heros/Alianza de H\\u00e9roes\",\"Resto de mazos/Deskbots/Aumento de LP alfa\",\"Resto de mazos/Magnet Warrios/Aumento de LP alfa\",\"Resto de mazos/Shiranui/Aumento de LP alfa\",\"Resto de mazos/Crystrons/Barrera de Luz\",\"Resto de mazos/Metalfeos/Barrera de Luz\",\"Resto de mazos/Metalfoes/Barrera de Luz\",\"Resto de mazos/Synchrons/Camino de la Estrella Fugaz\",\"Resto de mazos/Metalfoes/Campos de Guerreros\",\"Resto de mazos/Qliphort/Carga de ataque\",\"Resto de mazos/Evil Eye/Combustible de Duelo\",\"Resto de mazos/Dinomist/Con Valor\",\"Resto de mazos/Witchcrafter/Con Valor\",\"Resto de mazos/Tech Genus/Control de Vuelo\",\"Resto de mazos/Blue-Eyes/Dragones Definitivos\",\"Resto de mazos/Magnet Warrios/Duplicar Nivel\",\"Resto de mazos/D/D/D/El Mando del Rey de la Perdici\\u00f3n\",\"Resto de mazos/Fluffal/El Monstruo m\\u00e1s imparable\",\"Resto de mazos/Gaia/El camino del Caballero Drag\\u00f3n\",\"Resto de mazos/Evil Heros/El poder conduce al Destino\",\"Resto de mazos/Tech Genus/Equilibrador de Nivel del Cantante\",\"Resto de mazos/Triamids/Equilibrio\",\"Resto de mazos/War Rock/Equilibrio\",\"Resto de mazos/Sylvans/Estrategia de Arobru\",\"Resto de mazos/Cyber Dragon/Evoluci\\u00f3n del Ciberestilo\",\"Resto de mazos/SuperHeavy Samurai/Evoluci\\u00f3n del Estilo\",\"Resto de mazos/Infernity/Fantasma Hueco\",\"Resto de mazos/Heros/Fusi\\u00f3n Milagrosa\",\"Resto de mazos/Fish Armor/Gemelos Unidos\",\"Resto de mazos/Fossil/Guerreros F\\u00f3siles\",\"Resto de mazos/Magnet Warrios/Guerreros F\\u00f3siles\",\"Resto de mazos/Satellarknights/Habilidad no asignada\",\"Resto de mazos/Hero/H\\u00e9roe Herido\",\"Resto de mazos/Heros/H\\u00e9roe Herido\",\"Resto de mazos/Krawler/Infestaci\\u00f3n de Par\\u00e1sitos\",\"Resto de mazos/Abyss Actor/La Impactante actuaci\\u00f3n de Sylvio\",\"Resto de mazos/Mayosenju/La Impactante actuaci\\u00f3n de Sylvio\",\"Resto de mazos/Yosenjus/La Impactante actuaci\\u00f3n de Sylvio\",\"Resto de mazos/Magician Girls/Las Chicas Magas\",\"Resto de mazos/Harpies/Lectura Mental\",\"Resto de mazos/Magnet Warrios/Lectura Mental\",\"Resto de mazos/Tech Genus/Listos Aceleraci\\u00f3n Delta\",\"Resto de mazos/Gandora/Luchar con Decisi\\u00f3n\",\"Resto de mazos/Heros/Maestro de Fusi\\u00f3n\",\"Resto de mazos/Lunalight/Maestro de Fusi\\u00f3n\",\"Resto de mazos/Cyber Angels/Maestro de Rituales\",\"Resto de mazos/Necroz/Maestro de Rituales\",\"Resto de mazos/Necroz/Maestro de Rituales II\",\"Resto de mazos/Vendread/Maestro de Rituales II\",\"Resto de mazos/Black Luster Soldier/Maestro de Rituales Supersoldado\",\"Resto de mazos/Gimmick Puppet/Marioneta Renunciada\",\"Resto de mazos/Burning Abyss/Mente de la Plana\",\"Resto de mazos/Qliphort/Mundo Sonriente\",\"Resto de mazos/Triamids/Mundo repleto de Malicia\",\"Resto de mazos/Dark Magician/Nacidos de la Tierra\",\"Resto de mazos/Mayosenju/Neo Nuevo Sylvio\",\"Resto de mazos/War Rock/Oleada de Iluminaci\\u00f3n\",\"Resto de mazos/Abyss Actor/Pasa a la acci\\u00f3n Invocaci\\u00f3n por P\\u00e9ndulo\",\"Resto de mazos/Deskbots/Pasa a la acci\\u00f3n Invocaci\\u00f3n por P\\u00e9ndulo\",\"Resto de mazos/Fortune Ladys/Paso del Tiempo\",\"Resto de mazos/Aromages/Poder de los Sacrificados\",\"Resto de mazos/Chronomaly/Portal de Otra Dimensi\\u00f3n\",\"Resto de mazos/Odd-Eyes/Potenciador de P\\u00e9ndulo\",\"Resto de mazos/Dark Magician/Precognici\\u00f3n\",\"Resto de mazos/Fluffal/Precognici\\u00f3n\",\"Resto de mazos/Lightsworn/Precognici\\u00f3n\",\"Resto de mazos/Crystons/Profundidades M\\u00edticas\",\"Resto de mazos/Altergeist/Reacci\\u00f3n en Cadena\",\"Resto de mazos/PhantomKnight - BurningAbyss/Refuerzos\",\"Resto de mazos/Destiny Heros/Reloj del Destino\",\"Resto de mazos/Resonators/Resonancia Demon\\u00edaca\",\"Resto de mazos/Fluffal/Revelaci\\u00f3n del Castillo Supremo\",\"Resto de mazos/Necroz/Robar sentido Luz\",\"Resto de mazos/Buster Blader/Robar sentido Nivel bajo\",\"Resto de mazos/Shiranui/Robar sentido Oscuridad\",\"Resto de mazos/Heros/Robar sentido Viento\",\"Resto de mazos/Six Samurais/Robar sentido Viento\",\"Resto de mazos/Stromberg/Robar sentido Viento\",\"Resto de mazos/Burning Abyss/Robo de Magia Trampa\",\"Resto de mazos/Dark Magician/Robo del Destino\",\"Resto de mazos/Dragunity/Robo del Destino\",\"Resto de mazos/Gravekeepers/Robo del Destino\",\"Resto de mazos/Harpies/Robo del Destino\",\"Resto de mazos/Lunalight/Robo del Destino\",\"Resto de mazos/Magnet Warrios/Robo del Destino\",\"Resto de mazos/Satellarknights/Robo del Destino\",\"Resto de mazos/Shiranui/Robo del Destino\",\"Resto de mazos/Super Quant/Robo del Destino\",\"Resto de mazos/Yosenjus/Robo del Destino\",\"Resto de mazos/Red-Eyes/Ruleta de Ojos Rojos\",\"Resto de mazos/Evil Eye/R\\u00e1pido como el Viento\",\"Resto de mazos/Malefic/Territorio de Malicia\",\"Resto de mazos/Ice Barrier/Territorio de Tiburones\",\"Resto de mazos/Water XYZ/Territorio de Tiburones\",\"Resto de mazos/Railway/Tren Imparable\",\"Resto de mazos/Abyss Actor/Tumbas Selladas\",\"Resto de mazos/Qliphort/Tumbas Selladas\",\"Resto de mazos/Blackwings/Viento Negro hasta la Cima\",\"Resto de mazos/Six Samurais/Vinculaciones\",\"Resto de mazos/Odd-Eyes/Xiangke y Xiangsheng\",\"Resto de mazos/Melodious/de Cantante a Maestra\",\"Resto de mazos/Harpies/\\u00daltima Voluntad de Arp\\u00edas\",\"Resto de mazos/Abyss Actor\",\"Resto de mazos/Altergeist\",\"Resto de mazos/Ancient Gears\",\"Resto de mazos/Aromages\",\"Resto de mazos/Black Luster Soldier\",\"Resto de mazos/Blackwings\",\"Resto de mazos/Blue-Eyes\",\"Resto de mazos/Burning Abyss\",\"Resto de mazos/Buster Blader\",\"Resto de mazos/Chronomaly\",\"Resto de mazos/Crystons\",\"Resto de mazos/Crystrons\",\"Resto de mazos/Cyber Angels\",\"Resto de mazos/Cyber Dragon\",\"Resto de mazos/D/D/D\",\"Resto de mazos/Dark Magician\",\"Resto de mazos/Deskbots\",\"Resto de mazos/Destiny Heros\",\"Resto de mazos/Dinomist\",\"Resto de mazos/Dragunity\",\"Resto de mazos/Evil Eye\",\"Resto de mazos/Evil Heros\",\"Resto de mazos/Fish Armor\",\"Resto de mazos/Fluffal\",\"Resto de mazos/Fortune Ladys\",\"Resto de mazos/Fossil\",\"Resto de mazos/Gaia\",\"Resto de mazos/Gandora\",\"Resto de mazos/Gimmick Puppet\",\"Resto de mazos/Gravekeepers\",\"Resto de mazos/Harpies\",\"Resto de mazos/Hero\",\"Resto de mazos/Heros\",\"Resto de mazos/Ice Barrier\",\"Resto de mazos/Infernity\",\"Resto de mazos/Krawler\",\"Resto de mazos/Lightsworn\",\"Resto de mazos/Lunalight\",\"Resto de mazos/Magician Girls\",\"Resto de mazos/Magnet Warrios\",\"Resto de mazos/Malefic\",\"Resto de mazos/Mayosenju\",\"Resto de mazos/Melodious\",\"Resto de mazos/Metalfeos\",\"Resto de mazos/Metalfoes\",\"Resto de mazos/Necroz\",\"Resto de mazos/Odd-Eyes\",\"Resto de mazos/PhantomKnight - BurningAbyss\",\"Resto de mazos/Qliphort\",\"Resto de mazos/Railway\",\"Resto de mazos/Red-Eyes\",\"Resto de mazos/Resonators\",\"Resto de mazos/Satellarknights\",\"Resto de mazos/Shiranui\",\"Resto de mazos/Six Samurais\",\"Resto de mazos/Stromberg\",\"Resto de mazos/Super Quant\",\"Resto de mazos/SuperHeavy Samurai\",\"Resto de mazos/Sylvans\",\"Resto de mazos/Synchrons\",\"Resto de mazos/Tech Genus\",\"Resto de mazos/Triamids\",\"Resto de mazos/Vendread\",\"Resto de mazos/War Rock\",\"Resto de mazos/Water XYZ\",\"Resto de mazos/Witchcrafter\",\"Resto de mazos/Yosenjus\",\"Resto de mazos\"],\"labels\":[\"A Luchar Mecanismo Antiguo\",\"Afinaci\\u00f3n de Nivel\",\"Agujero de G\\u00f3lem\",\"Alianza de H\\u00e9roes\",\"Aumento de LP alfa\",\"Aumento de LP alfa\",\"Aumento de LP alfa\",\"Barrera de Luz\",\"Barrera de Luz\",\"Barrera de Luz\",\"Camino de la Estrella Fugaz\",\"Campos de Guerreros\",\"Carga de ataque\",\"Combustible de Duelo\",\"Con Valor\",\"Con Valor\",\"Control de Vuelo\",\"Dragones Definitivos\",\"Duplicar Nivel\",\"El Mando del Rey de la Perdici\\u00f3n\",\"El Monstruo m\\u00e1s imparable\",\"El camino del Caballero Drag\\u00f3n\",\"El poder conduce al Destino\",\"Equilibrador de Nivel del Cantante\",\"Equilibrio\",\"Equilibrio\",\"Estrategia de Arobru\",\"Evoluci\\u00f3n del Ciberestilo\",\"Evoluci\\u00f3n del Estilo\",\"Fantasma Hueco\",\"Fusi\\u00f3n Milagrosa\",\"Gemelos Unidos\",\"Guerreros F\\u00f3siles\",\"Guerreros F\\u00f3siles\",\"Habilidad no asignada\",\"H\\u00e9roe Herido\",\"H\\u00e9roe Herido\",\"Infestaci\\u00f3n de Par\\u00e1sitos\",\"La Impactante actuaci\\u00f3n de Sylvio\",\"La Impactante actuaci\\u00f3n de Sylvio\",\"La Impactante actuaci\\u00f3n de Sylvio\",\"Las Chicas Magas\",\"Lectura Mental\",\"Lectura Mental\",\"Listos Aceleraci\\u00f3n Delta\",\"Luchar con Decisi\\u00f3n\",\"Maestro de Fusi\\u00f3n\",\"Maestro de Fusi\\u00f3n\",\"Maestro de Rituales\",\"Maestro de Rituales\",\"Maestro de Rituales II\",\"Maestro de Rituales II\",\"Maestro de Rituales Supersoldado\",\"Marioneta Renunciada\",\"Mente de la Plana\",\"Mundo Sonriente\",\"Mundo repleto de Malicia\",\"Nacidos de la Tierra\",\"Neo Nuevo Sylvio\",\"Oleada de Iluminaci\\u00f3n\",\"Pasa a la acci\\u00f3n Invocaci\\u00f3n por P\\u00e9ndulo\",\"Pasa a la acci\\u00f3n Invocaci\\u00f3n por P\\u00e9ndulo\",\"Paso del Tiempo\",\"Poder de los Sacrificados\",\"Portal de Otra Dimensi\\u00f3n\",\"Potenciador de P\\u00e9ndulo\",\"Precognici\\u00f3n\",\"Precognici\\u00f3n\",\"Precognici\\u00f3n\",\"Profundidades M\\u00edticas\",\"Reacci\\u00f3n en Cadena\",\"Refuerzos\",\"Reloj del Destino\",\"Resonancia Demon\\u00edaca\",\"Revelaci\\u00f3n del Castillo Supremo\",\"Robar sentido Luz\",\"Robar sentido Nivel bajo\",\"Robar sentido Oscuridad\",\"Robar sentido Viento\",\"Robar sentido Viento\",\"Robar sentido Viento\",\"Robo de Magia Trampa\",\"Robo del Destino\",\"Robo del Destino\",\"Robo del Destino\",\"Robo del Destino\",\"Robo del Destino\",\"Robo del Destino\",\"Robo del Destino\",\"Robo del Destino\",\"Robo del Destino\",\"Robo del Destino\",\"Ruleta de Ojos Rojos\",\"R\\u00e1pido como el Viento\",\"Territorio de Malicia\",\"Territorio de Tiburones\",\"Territorio de Tiburones\",\"Tren Imparable\",\"Tumbas Selladas\",\"Tumbas Selladas\",\"Viento Negro hasta la Cima\",\"Vinculaciones\",\"Xiangke y Xiangsheng\",\"de Cantante a Maestra\",\"\\u00daltima Voluntad de Arp\\u00edas\",\"Abyss Actor\",\"Altergeist\",\"Ancient Gears\",\"Aromages\",\"Black Luster Soldier\",\"Blackwings\",\"Blue-Eyes\",\"Burning Abyss\",\"Buster Blader\",\"Chronomaly\",\"Crystons\",\"Crystrons\",\"Cyber Angels\",\"Cyber Dragon\",\"D/D/D\",\"Dark Magician\",\"Deskbots\",\"Destiny Heros\",\"Dinomist\",\"Dragunity\",\"Evil Eye\",\"Evil Heros\",\"Fish Armor\",\"Fluffal\",\"Fortune Ladys\",\"Fossil\",\"Gaia\",\"Gandora\",\"Gimmick Puppet\",\"Gravekeepers\",\"Harpies\",\"Hero\",\"Heros\",\"Ice Barrier\",\"Infernity\",\"Krawler\",\"Lightsworn\",\"Lunalight\",\"Magician Girls\",\"Magnet Warrios\",\"Malefic\",\"Mayosenju\",\"Melodious\",\"Metalfeos\",\"Metalfoes\",\"Necroz\",\"Odd-Eyes\",\"PhantomKnight - BurningAbyss\",\"Qliphort\",\"Railway\",\"Red-Eyes\",\"Resonators\",\"Satellarknights\",\"Shiranui\",\"Six Samurais\",\"Stromberg\",\"Super Quant\",\"SuperHeavy Samurai\",\"Sylvans\",\"Synchrons\",\"Tech Genus\",\"Triamids\",\"Vendread\",\"War Rock\",\"Water XYZ\",\"Witchcrafter\",\"Yosenjus\",\"Resto de mazos\"],\"name\":\"\",\"parents\":[\"Resto de mazos/Ancient Gears\",\"Resto de mazos/Evil Eye\",\"Resto de mazos/Fossil\",\"Resto de mazos/Heros\",\"Resto de mazos/Deskbots\",\"Resto de mazos/Magnet Warrios\",\"Resto de mazos/Shiranui\",\"Resto de mazos/Crystrons\",\"Resto de mazos/Metalfeos\",\"Resto de mazos/Metalfoes\",\"Resto de mazos/Synchrons\",\"Resto de mazos/Metalfoes\",\"Resto de mazos/Qliphort\",\"Resto de mazos/Evil Eye\",\"Resto de mazos/Dinomist\",\"Resto de mazos/Witchcrafter\",\"Resto de mazos/Tech Genus\",\"Resto de mazos/Blue-Eyes\",\"Resto de mazos/Magnet Warrios\",\"Resto de mazos/D/D/D\",\"Resto de mazos/Fluffal\",\"Resto de mazos/Gaia\",\"Resto de mazos/Evil Heros\",\"Resto de mazos/Tech Genus\",\"Resto de mazos/Triamids\",\"Resto de mazos/War Rock\",\"Resto de mazos/Sylvans\",\"Resto de mazos/Cyber Dragon\",\"Resto de mazos/SuperHeavy Samurai\",\"Resto de mazos/Infernity\",\"Resto de mazos/Heros\",\"Resto de mazos/Fish Armor\",\"Resto de mazos/Fossil\",\"Resto de mazos/Magnet Warrios\",\"Resto de mazos/Satellarknights\",\"Resto de mazos/Hero\",\"Resto de mazos/Heros\",\"Resto de mazos/Krawler\",\"Resto de mazos/Abyss Actor\",\"Resto de mazos/Mayosenju\",\"Resto de mazos/Yosenjus\",\"Resto de mazos/Magician Girls\",\"Resto de mazos/Harpies\",\"Resto de mazos/Magnet Warrios\",\"Resto de mazos/Tech Genus\",\"Resto de mazos/Gandora\",\"Resto de mazos/Heros\",\"Resto de mazos/Lunalight\",\"Resto de mazos/Cyber Angels\",\"Resto de mazos/Necroz\",\"Resto de mazos/Necroz\",\"Resto de mazos/Vendread\",\"Resto de mazos/Black Luster Soldier\",\"Resto de mazos/Gimmick Puppet\",\"Resto de mazos/Burning Abyss\",\"Resto de mazos/Qliphort\",\"Resto de mazos/Triamids\",\"Resto de mazos/Dark Magician\",\"Resto de mazos/Mayosenju\",\"Resto de mazos/War Rock\",\"Resto de mazos/Abyss Actor\",\"Resto de mazos/Deskbots\",\"Resto de mazos/Fortune Ladys\",\"Resto de mazos/Aromages\",\"Resto de mazos/Chronomaly\",\"Resto de mazos/Odd-Eyes\",\"Resto de mazos/Dark Magician\",\"Resto de mazos/Fluffal\",\"Resto de mazos/Lightsworn\",\"Resto de mazos/Crystons\",\"Resto de mazos/Altergeist\",\"Resto de mazos/PhantomKnight - BurningAbyss\",\"Resto de mazos/Destiny Heros\",\"Resto de mazos/Resonators\",\"Resto de mazos/Fluffal\",\"Resto de mazos/Necroz\",\"Resto de mazos/Buster Blader\",\"Resto de mazos/Shiranui\",\"Resto de mazos/Heros\",\"Resto de mazos/Six Samurais\",\"Resto de mazos/Stromberg\",\"Resto de mazos/Burning Abyss\",\"Resto de mazos/Dark Magician\",\"Resto de mazos/Dragunity\",\"Resto de mazos/Gravekeepers\",\"Resto de mazos/Harpies\",\"Resto de mazos/Lunalight\",\"Resto de mazos/Magnet Warrios\",\"Resto de mazos/Satellarknights\",\"Resto de mazos/Shiranui\",\"Resto de mazos/Super Quant\",\"Resto de mazos/Yosenjus\",\"Resto de mazos/Red-Eyes\",\"Resto de mazos/Evil Eye\",\"Resto de mazos/Malefic\",\"Resto de mazos/Ice Barrier\",\"Resto de mazos/Water XYZ\",\"Resto de mazos/Railway\",\"Resto de mazos/Abyss Actor\",\"Resto de mazos/Qliphort\",\"Resto de mazos/Blackwings\",\"Resto de mazos/Six Samurais\",\"Resto de mazos/Odd-Eyes\",\"Resto de mazos/Melodious\",\"Resto de mazos/Harpies\",\"Resto de mazos\",\"Resto de mazos\",\"Resto de mazos\",\"Resto de mazos\",\"Resto de mazos\",\"Resto de mazos\",\"Resto de mazos\",\"Resto de mazos\",\"Resto de mazos\",\"Resto de mazos\",\"Resto de mazos\",\"Resto de mazos\",\"Resto de mazos\",\"Resto de mazos\",\"Resto de mazos\",\"Resto de mazos\",\"Resto de mazos\",\"Resto de mazos\",\"Resto de mazos\",\"Resto de mazos\",\"Resto de mazos\",\"Resto de mazos\",\"Resto de mazos\",\"Resto de mazos\",\"Resto de mazos\",\"Resto de mazos\",\"Resto de mazos\",\"Resto de mazos\",\"Resto de mazos\",\"Resto de mazos\",\"Resto de mazos\",\"Resto de mazos\",\"Resto de mazos\",\"Resto de mazos\",\"Resto de mazos\",\"Resto de mazos\",\"Resto de mazos\",\"Resto de mazos\",\"Resto de mazos\",\"Resto de mazos\",\"Resto de mazos\",\"Resto de mazos\",\"Resto de mazos\",\"Resto de mazos\",\"Resto de mazos\",\"Resto de mazos\",\"Resto de mazos\",\"Resto de mazos\",\"Resto de mazos\",\"Resto de mazos\",\"Resto de mazos\",\"Resto de mazos\",\"Resto de mazos\",\"Resto de mazos\",\"Resto de mazos\",\"Resto de mazos\",\"Resto de mazos\",\"Resto de mazos\",\"Resto de mazos\",\"Resto de mazos\",\"Resto de mazos\",\"Resto de mazos\",\"Resto de mazos\",\"Resto de mazos\",\"Resto de mazos\",\"Resto de mazos\",\"Resto de mazos\",\"\"],\"values\":[1,1,2,3,1,1,1,1,1,4,6,2,1,1,2,1,7,3,1,8,2,1,2,1,1,3,1,1,2,6,1,3,2,2,1,1,1,1,1,3,1,3,2,1,1,3,1,1,1,7,1,1,1,1,4,1,1,1,3,5,1,1,1,1,1,1,1,7,1,1,1,1,3,3,2,2,2,4,3,1,2,1,7,1,3,1,6,2,13,4,1,2,2,1,7,13,3,9,7,1,4,1,6,2,4,9,1,1,1,1,4,3,5,2,1,1,1,1,1,8,9,2,3,2,1,3,2,3,11,1,4,1,3,1,3,7,1,9,13,6,1,1,7,3,7,7,6,2,1,6,10,7,1,3,9,2,3,14,9,2,2,1,2,1,6,9,2,1,8,3,1,3,265],\"type\":\"treemap\"}],                        {\"template\":{\"data\":{\"histogram2dcontour\":[{\"type\":\"histogram2dcontour\",\"colorbar\":{\"outlinewidth\":0,\"ticks\":\"\"},\"colorscale\":[[0.0,\"#0d0887\"],[0.1111111111111111,\"#46039f\"],[0.2222222222222222,\"#7201a8\"],[0.3333333333333333,\"#9c179e\"],[0.4444444444444444,\"#bd3786\"],[0.5555555555555556,\"#d8576b\"],[0.6666666666666666,\"#ed7953\"],[0.7777777777777778,\"#fb9f3a\"],[0.8888888888888888,\"#fdca26\"],[1.0,\"#f0f921\"]]}],\"choropleth\":[{\"type\":\"choropleth\",\"colorbar\":{\"outlinewidth\":0,\"ticks\":\"\"}}],\"histogram2d\":[{\"type\":\"histogram2d\",\"colorbar\":{\"outlinewidth\":0,\"ticks\":\"\"},\"colorscale\":[[0.0,\"#0d0887\"],[0.1111111111111111,\"#46039f\"],[0.2222222222222222,\"#7201a8\"],[0.3333333333333333,\"#9c179e\"],[0.4444444444444444,\"#bd3786\"],[0.5555555555555556,\"#d8576b\"],[0.6666666666666666,\"#ed7953\"],[0.7777777777777778,\"#fb9f3a\"],[0.8888888888888888,\"#fdca26\"],[1.0,\"#f0f921\"]]}],\"heatmap\":[{\"type\":\"heatmap\",\"colorbar\":{\"outlinewidth\":0,\"ticks\":\"\"},\"colorscale\":[[0.0,\"#0d0887\"],[0.1111111111111111,\"#46039f\"],[0.2222222222222222,\"#7201a8\"],[0.3333333333333333,\"#9c179e\"],[0.4444444444444444,\"#bd3786\"],[0.5555555555555556,\"#d8576b\"],[0.6666666666666666,\"#ed7953\"],[0.7777777777777778,\"#fb9f3a\"],[0.8888888888888888,\"#fdca26\"],[1.0,\"#f0f921\"]]}],\"heatmapgl\":[{\"type\":\"heatmapgl\",\"colorbar\":{\"outlinewidth\":0,\"ticks\":\"\"},\"colorscale\":[[0.0,\"#0d0887\"],[0.1111111111111111,\"#46039f\"],[0.2222222222222222,\"#7201a8\"],[0.3333333333333333,\"#9c179e\"],[0.4444444444444444,\"#bd3786\"],[0.5555555555555556,\"#d8576b\"],[0.6666666666666666,\"#ed7953\"],[0.7777777777777778,\"#fb9f3a\"],[0.8888888888888888,\"#fdca26\"],[1.0,\"#f0f921\"]]}],\"contourcarpet\":[{\"type\":\"contourcarpet\",\"colorbar\":{\"outlinewidth\":0,\"ticks\":\"\"}}],\"contour\":[{\"type\":\"contour\",\"colorbar\":{\"outlinewidth\":0,\"ticks\":\"\"},\"colorscale\":[[0.0,\"#0d0887\"],[0.1111111111111111,\"#46039f\"],[0.2222222222222222,\"#7201a8\"],[0.3333333333333333,\"#9c179e\"],[0.4444444444444444,\"#bd3786\"],[0.5555555555555556,\"#d8576b\"],[0.6666666666666666,\"#ed7953\"],[0.7777777777777778,\"#fb9f3a\"],[0.8888888888888888,\"#fdca26\"],[1.0,\"#f0f921\"]]}],\"surface\":[{\"type\":\"surface\",\"colorbar\":{\"outlinewidth\":0,\"ticks\":\"\"},\"colorscale\":[[0.0,\"#0d0887\"],[0.1111111111111111,\"#46039f\"],[0.2222222222222222,\"#7201a8\"],[0.3333333333333333,\"#9c179e\"],[0.4444444444444444,\"#bd3786\"],[0.5555555555555556,\"#d8576b\"],[0.6666666666666666,\"#ed7953\"],[0.7777777777777778,\"#fb9f3a\"],[0.8888888888888888,\"#fdca26\"],[1.0,\"#f0f921\"]]}],\"mesh3d\":[{\"type\":\"mesh3d\",\"colorbar\":{\"outlinewidth\":0,\"ticks\":\"\"}}],\"scatter\":[{\"fillpattern\":{\"fillmode\":\"overlay\",\"size\":10,\"solidity\":0.2},\"type\":\"scatter\"}],\"parcoords\":[{\"type\":\"parcoords\",\"line\":{\"colorbar\":{\"outlinewidth\":0,\"ticks\":\"\"}}}],\"scatterpolargl\":[{\"type\":\"scatterpolargl\",\"marker\":{\"colorbar\":{\"outlinewidth\":0,\"ticks\":\"\"}}}],\"bar\":[{\"error_x\":{\"color\":\"#2a3f5f\"},\"error_y\":{\"color\":\"#2a3f5f\"},\"marker\":{\"line\":{\"color\":\"#E5ECF6\",\"width\":0.5},\"pattern\":{\"fillmode\":\"overlay\",\"size\":10,\"solidity\":0.2}},\"type\":\"bar\"}],\"scattergeo\":[{\"type\":\"scattergeo\",\"marker\":{\"colorbar\":{\"outlinewidth\":0,\"ticks\":\"\"}}}],\"scatterpolar\":[{\"type\":\"scatterpolar\",\"marker\":{\"colorbar\":{\"outlinewidth\":0,\"ticks\":\"\"}}}],\"histogram\":[{\"marker\":{\"pattern\":{\"fillmode\":\"overlay\",\"size\":10,\"solidity\":0.2}},\"type\":\"histogram\"}],\"scattergl\":[{\"type\":\"scattergl\",\"marker\":{\"colorbar\":{\"outlinewidth\":0,\"ticks\":\"\"}}}],\"scatter3d\":[{\"type\":\"scatter3d\",\"line\":{\"colorbar\":{\"outlinewidth\":0,\"ticks\":\"\"}},\"marker\":{\"colorbar\":{\"outlinewidth\":0,\"ticks\":\"\"}}}],\"scattermapbox\":[{\"type\":\"scattermapbox\",\"marker\":{\"colorbar\":{\"outlinewidth\":0,\"ticks\":\"\"}}}],\"scatterternary\":[{\"type\":\"scatterternary\",\"marker\":{\"colorbar\":{\"outlinewidth\":0,\"ticks\":\"\"}}}],\"scattercarpet\":[{\"type\":\"scattercarpet\",\"marker\":{\"colorbar\":{\"outlinewidth\":0,\"ticks\":\"\"}}}],\"carpet\":[{\"aaxis\":{\"endlinecolor\":\"#2a3f5f\",\"gridcolor\":\"white\",\"linecolor\":\"white\",\"minorgridcolor\":\"white\",\"startlinecolor\":\"#2a3f5f\"},\"baxis\":{\"endlinecolor\":\"#2a3f5f\",\"gridcolor\":\"white\",\"linecolor\":\"white\",\"minorgridcolor\":\"white\",\"startlinecolor\":\"#2a3f5f\"},\"type\":\"carpet\"}],\"table\":[{\"cells\":{\"fill\":{\"color\":\"#EBF0F8\"},\"line\":{\"color\":\"white\"}},\"header\":{\"fill\":{\"color\":\"#C8D4E3\"},\"line\":{\"color\":\"white\"}},\"type\":\"table\"}],\"barpolar\":[{\"marker\":{\"line\":{\"color\":\"#E5ECF6\",\"width\":0.5},\"pattern\":{\"fillmode\":\"overlay\",\"size\":10,\"solidity\":0.2}},\"type\":\"barpolar\"}],\"pie\":[{\"automargin\":true,\"type\":\"pie\"}]},\"layout\":{\"autotypenumbers\":\"strict\",\"colorway\":[\"#636efa\",\"#EF553B\",\"#00cc96\",\"#ab63fa\",\"#FFA15A\",\"#19d3f3\",\"#FF6692\",\"#B6E880\",\"#FF97FF\",\"#FECB52\"],\"font\":{\"color\":\"#2a3f5f\"},\"hovermode\":\"closest\",\"hoverlabel\":{\"align\":\"left\"},\"paper_bgcolor\":\"white\",\"plot_bgcolor\":\"#E5ECF6\",\"polar\":{\"bgcolor\":\"#E5ECF6\",\"angularaxis\":{\"gridcolor\":\"white\",\"linecolor\":\"white\",\"ticks\":\"\"},\"radialaxis\":{\"gridcolor\":\"white\",\"linecolor\":\"white\",\"ticks\":\"\"}},\"ternary\":{\"bgcolor\":\"#E5ECF6\",\"aaxis\":{\"gridcolor\":\"white\",\"linecolor\":\"white\",\"ticks\":\"\"},\"baxis\":{\"gridcolor\":\"white\",\"linecolor\":\"white\",\"ticks\":\"\"},\"caxis\":{\"gridcolor\":\"white\",\"linecolor\":\"white\",\"ticks\":\"\"}},\"coloraxis\":{\"colorbar\":{\"outlinewidth\":0,\"ticks\":\"\"}},\"colorscale\":{\"sequential\":[[0.0,\"#0d0887\"],[0.1111111111111111,\"#46039f\"],[0.2222222222222222,\"#7201a8\"],[0.3333333333333333,\"#9c179e\"],[0.4444444444444444,\"#bd3786\"],[0.5555555555555556,\"#d8576b\"],[0.6666666666666666,\"#ed7953\"],[0.7777777777777778,\"#fb9f3a\"],[0.8888888888888888,\"#fdca26\"],[1.0,\"#f0f921\"]],\"sequentialminus\":[[0.0,\"#0d0887\"],[0.1111111111111111,\"#46039f\"],[0.2222222222222222,\"#7201a8\"],[0.3333333333333333,\"#9c179e\"],[0.4444444444444444,\"#bd3786\"],[0.5555555555555556,\"#d8576b\"],[0.6666666666666666,\"#ed7953\"],[0.7777777777777778,\"#fb9f3a\"],[0.8888888888888888,\"#fdca26\"],[1.0,\"#f0f921\"]],\"diverging\":[[0,\"#8e0152\"],[0.1,\"#c51b7d\"],[0.2,\"#de77ae\"],[0.3,\"#f1b6da\"],[0.4,\"#fde0ef\"],[0.5,\"#f7f7f7\"],[0.6,\"#e6f5d0\"],[0.7,\"#b8e186\"],[0.8,\"#7fbc41\"],[0.9,\"#4d9221\"],[1,\"#276419\"]]},\"xaxis\":{\"gridcolor\":\"white\",\"linecolor\":\"white\",\"ticks\":\"\",\"title\":{\"standoff\":15},\"zerolinecolor\":\"white\",\"automargin\":true,\"zerolinewidth\":2},\"yaxis\":{\"gridcolor\":\"white\",\"linecolor\":\"white\",\"ticks\":\"\",\"title\":{\"standoff\":15},\"zerolinecolor\":\"white\",\"automargin\":true,\"zerolinewidth\":2},\"scene\":{\"xaxis\":{\"backgroundcolor\":\"#E5ECF6\",\"gridcolor\":\"white\",\"linecolor\":\"white\",\"showbackground\":true,\"ticks\":\"\",\"zerolinecolor\":\"white\",\"gridwidth\":2},\"yaxis\":{\"backgroundcolor\":\"#E5ECF6\",\"gridcolor\":\"white\",\"linecolor\":\"white\",\"showbackground\":true,\"ticks\":\"\",\"zerolinecolor\":\"white\",\"gridwidth\":2},\"zaxis\":{\"backgroundcolor\":\"#E5ECF6\",\"gridcolor\":\"white\",\"linecolor\":\"white\",\"showbackground\":true,\"ticks\":\"\",\"zerolinecolor\":\"white\",\"gridwidth\":2}},\"shapedefaults\":{\"line\":{\"color\":\"#2a3f5f\"}},\"annotationdefaults\":{\"arrowcolor\":\"#2a3f5f\",\"arrowhead\":0,\"arrowwidth\":1},\"geo\":{\"bgcolor\":\"white\",\"landcolor\":\"#E5ECF6\",\"subunitcolor\":\"white\",\"showland\":true,\"showlakes\":true,\"lakecolor\":\"white\"},\"title\":{\"x\":0.05},\"mapbox\":{\"style\":\"light\"}}},\"legend\":{\"tracegroupgap\":0},\"margin\":{\"t\":50,\"l\":25,\"r\":25,\"b\":25},\"title\":{\"text\":\"Resto de Mazos NDmax\",\"x\":0.5},\"width\":900,\"height\":1800},                        {\"responsive\": true}                    ).then(function(){\n",
       "                            \n",
       "var gd = document.getElementById('c248b32f-7bd7-4a0a-9640-60cb6336ef89');\n",
       "var x = new MutationObserver(function (mutations, observer) {{\n",
       "        var display = window.getComputedStyle(gd).display;\n",
       "        if (!display || display === 'none') {{\n",
       "            console.log([gd, 'removed!']);\n",
       "            Plotly.purge(gd);\n",
       "            observer.disconnect();\n",
       "        }}\n",
       "}});\n",
       "\n",
       "// Listen for the removal of the full notebook cells\n",
       "var notebookContainer = gd.closest('#notebook-container');\n",
       "if (notebookContainer) {{\n",
       "    x.observe(notebookContainer, {childList: true});\n",
       "}}\n",
       "\n",
       "// Listen for the clearing of the current output cell\n",
       "var outputEl = gd.closest('.output');\n",
       "if (outputEl) {{\n",
       "    x.observe(outputEl, {childList: true});\n",
       "}}\n",
       "\n",
       "                        })                };                });            </script>        </div>"
      ]
     },
     "metadata": {},
     "output_type": "display_data"
    }
   ],
   "source": [
    "no_top_decks = resume.copy()\n",
    "no_top_decks = no_top_decks.drop(no_top_decks[(no_top_decks['deck'] == \"Meklord\")\n",
    "                    | (no_top_decks['deck'] == \"Phantom Knights\")\n",
    "                    | (no_top_decks['deck'] == \"Rose Dragon\")\n",
    "                    | (no_top_decks['deck'] == \"Galaxy-Eyes\")\n",
    "                    | (no_top_decks['deck'] == \"Elemental Heros\")].index)\n",
    "\n",
    "no_top_decks[\"all\"] = \"Resto de mazos\"\n",
    "fig = px.treemap(\n",
    "    no_top_decks[['all', 'deck', 'skill', 'total']],\n",
    "    path=['all', 'deck', 'skill'], values='total')\n",
    "fig.update_layout(\n",
    "    title='Resto de Mazos NDmax', title_x=0.5,\n",
    "    margin = dict(t=50, l=25, r=25, b=25), width=900, height=1800)\n",
    "fig.show()"
   ]
  },
  {
   "cell_type": "code",
   "execution_count": 29,
   "id": "729228f8-11cc-4483-83ee-d2b5d73b5c54",
   "metadata": {},
   "outputs": [
    {
     "name": "stderr",
     "output_type": "stream",
     "text": [
      "Reporte finalizado, terminar conexión.\n"
     ]
    }
   ],
   "source": [
    "pg_engine.dispose()\n",
    "logging.info(\"Reporte finalizado, terminar conexión.\")"
   ]
  },
  {
   "cell_type": "markdown",
   "id": "b530f74b-6a35-421a-b777-cda4434f08b3",
   "metadata": {},
   "source": [
    "![](http://pa1.narvii.com/6411/55721509d05e50566c9077a912c78d9ab935111d_00.gif)"
   ]
  },
  {
   "cell_type": "markdown",
   "id": "a7c8f35b-8293-41ba-9c8f-4d4c8fefc20e",
   "metadata": {
    "tags": []
   },
   "source": [
    "## Información de sesión\n",
    "---"
   ]
  },
  {
   "cell_type": "code",
   "execution_count": 1,
   "id": "445dfc30-5732-41d1-bfb2-de94bf98ce04",
   "metadata": {},
   "outputs": [
    {
     "ename": "NameError",
     "evalue": "name 'session_info' is not defined",
     "output_type": "error",
     "traceback": [
      "\u001b[1;31m---------------------------------------------------------------------------\u001b[0m",
      "\u001b[1;31mNameError\u001b[0m                                 Traceback (most recent call last)",
      "Cell \u001b[1;32mIn[1], line 1\u001b[0m\n\u001b[1;32m----> 1\u001b[0m \u001b[43msession_info\u001b[49m\u001b[38;5;241m.\u001b[39mshow()\n",
      "\u001b[1;31mNameError\u001b[0m: name 'session_info' is not defined"
     ]
    }
   ],
   "source": [
    "session_info.show()"
   ]
  },
  {
   "cell_type": "markdown",
   "id": "819999f5-ae63-4bbf-96aa-9acfa17f789e",
   "metadata": {},
   "source": [
    "![](https://pa1.narvii.com/6924/10a6261502508433f8e2500b86c6a9e820f83de0r1-443-247_hq.gif)"
   ]
  }
 ],
 "metadata": {
  "kernelspec": {
   "display_name": "Python 3 (ipykernel)",
   "language": "python",
   "name": "python3"
  },
  "language_info": {
   "codemirror_mode": {
    "name": "ipython",
    "version": 3
   },
   "file_extension": ".py",
   "mimetype": "text/x-python",
   "name": "python",
   "nbconvert_exporter": "python",
   "pygments_lexer": "ipython3",
   "version": "3.9.16"
  }
 },
 "nbformat": 4,
 "nbformat_minor": 5
}
